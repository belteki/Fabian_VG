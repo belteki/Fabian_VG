{
 "cells": [
  {
   "cell_type": "markdown",
   "metadata": {},
   "source": [
    "![alt text](./Cerny_logo_1.jpg)"
   ]
  },
  {
   "cell_type": "markdown",
   "metadata": {},
   "source": [
    "# Analysis of Cerny ventilation recordings - VG ventilation\n",
    "\n",
    "The data processed and analysed in this Notebook were collected by the **Neonatal Emergency and Transport Service of the Peter Cerny Foundation**, Budapest, Hungary\n",
    "\n",
    "**Author: Dr Gusztav Belteki**\n",
    "\n",
    "\n",
    "## Analysis of mechanically ventilated cases among `AL000001-AL000300`\n",
    "\n",
    "Analysis of ventilated babies comparing ventilator parameters during volume targeted ventilation versus non volume targeted ventilation (VTV).\n",
    "\n",
    "This notebook analyses tidal volume delivery during VG ventilation (`VTdiff` and `Pdiff`) in different ventilator modes and in babies of different weight. It also analyses the relationship between VTemand or MV and pCO2 in blood gases.\n",
    "\n",
    "The findings of this Notebook have been published in this paper: Belteki G, Széll A, Lantos L, et al. _Arch Dis Child Fetal Neonatal Ed_ Epub ahead of print: 09/07/2019. doi:10.1136archdischild-2019-317152\n",
    "\n",
    "Website: https://fn.bmj.com/content/early/2019/07/08/archdischild-2019-317152\n",
    "\n",
    "\n",
    "- It starts from 145 ventilated cases\n",
    "- 47 cases are excluded as the do not contain VG ventilation - 98 remaining\n",
    "- 15 cases are excluded as they contain <15 minutes of VG ventilation 83 cases remaining\n",
    "- Of these cases 56 contains SIMV, 32 contains SIPPV and 4 contains SIMVPSV recordings (9 recordings contain more than one ventilator mode)\n",
    "- The dominant mode is SIMV in 53 cases, SIPPV 26 in cases and SIMVPSV in 4 cases.\n",
    "\n",
    "\n",
    "Imported: \n",
    "\n",
    "- data_pars_measurements_ventilated_1_300.pickle,  \n",
    "- data_pars_settings_ventilated_1_300.pickle, \n",
    "- data_pars_alarms_ventilated_1_300.pickle, \n",
    "- vent_modes_ventilated_1_300_plus.pickle, \n",
    "- clin_df_pickle_1_300.pickle, \n",
    "- blood_gases_1_300.pickle,\n",
    "- Fabian_parameters.xlsx\n",
    "\n",
    "Exported: \n",
    "\n",
    "- Excel files and graphs about statistics regarding clinical data, ventilator modes and ventilator parameters  \n",
    "- Time series graphs on ventilator parameters \n",
    "- Figure of athe above manuscript"
   ]
  },
  {
   "cell_type": "markdown",
   "metadata": {},
   "source": [
    "### Importing the necessary libraries and setting options"
   ]
  },
  {
   "cell_type": "code",
   "execution_count": null,
   "metadata": {},
   "outputs": [],
   "source": [
    "import IPython\n",
    "import pandas as pd\n",
    "import numpy as np\n",
    "import scipy as sp\n",
    "import matplotlib\n",
    "import matplotlib.pyplot as plt\n",
    "import seaborn as sns\n",
    "import sklearn as sk\n",
    "\n",
    "import os\n",
    "import sys\n",
    "import re\n",
    "import pickle\n",
    "\n",
    "from scipy import stats\n",
    "from pandas import Series, DataFrame\n",
    "from datetime import datetime, timedelta\n",
    "\n",
    "%matplotlib inline\n",
    "matplotlib.style.use('classic')\n",
    "matplotlib.rcParams['figure.facecolor'] = 'w'\n",
    "\n",
    "pd.set_option('display.max_rows', 500)\n",
    "pd.set_option('display.max_columns', 100)\n",
    "pd.set_option('mode.chained_assignment', None) "
   ]
  },
  {
   "cell_type": "code",
   "execution_count": null,
   "metadata": {},
   "outputs": [],
   "source": [
    "print(\"Python version: {}\".format(sys.version))\n",
    "print(\"pandas version: {}\".format(pd.__version__))\n",
    "print(\"matplotlib version: {}\".format(matplotlib.__version__))\n",
    "print(\"NumPy version: {}\".format(np.__version__))\n",
    "print(\"SciPy version: {}\".format(sp.__version__))\n",
    "print(\"IPython version: {}\".format(IPython.__version__))\n",
    "print(\"scikit-learn version: {}\".format(sk.__version__))"
   ]
  },
  {
   "cell_type": "markdown",
   "metadata": {},
   "source": [
    "### List and set the working directory and the directory to write out data"
   ]
  },
  {
   "cell_type": "code",
   "execution_count": null,
   "metadata": {},
   "outputs": [],
   "source": [
    "# Topic of the Notebook which will also be the name of the subfolder containing results\n",
    "TOPIC = 'fabian'\n",
    "\n",
    "# Name of the external hard drive\n",
    "DRIVE = 'GUSZTI'\n",
    "\n",
    "# Directory containing clinical and blood gas data\n",
    "CWD = '/Users/guszti/ventilation_fabian'\n",
    "\n",
    "# Directory on external drive to read the ventilation data from\n",
    "DIR_READ = '/Volumes/%s/Fabian/fabian_data' % DRIVE\n",
    "\n",
    "DIR_WRITE = '%s/%s/%s' % (CWD, 'Analyses', 'analysis_ventilated_1_300_VG')\n",
    "if not os.path.isdir(DIR_WRITE):\n",
    "    os.makedirs(DIR_WRITE)\n",
    "\n",
    "# Images and raw data will be written on an external hard drive\n",
    "if not os.path.isdir('/Volumes/%s/data_dump/%s' % (DRIVE, TOPIC)):\n",
    "    os.makedirs('/Volumes/%s/data_dump/%s' % (DRIVE, TOPIC))\n",
    "DATA_DUMP = '/Volumes/%s/data_dump/%s' % (DRIVE, TOPIC)"
   ]
  },
  {
   "cell_type": "code",
   "execution_count": null,
   "metadata": {},
   "outputs": [],
   "source": [
    "os.chdir(CWD)\n",
    "os.getcwd()"
   ]
  },
  {
   "cell_type": "code",
   "execution_count": null,
   "metadata": {},
   "outputs": [],
   "source": [
    "DIR_READ"
   ]
  },
  {
   "cell_type": "code",
   "execution_count": null,
   "metadata": {},
   "outputs": [],
   "source": [
    "DIR_WRITE"
   ]
  },
  {
   "cell_type": "code",
   "execution_count": null,
   "metadata": {},
   "outputs": [],
   "source": [
    "DATA_DUMP"
   ]
  },
  {
   "cell_type": "markdown",
   "metadata": {},
   "source": [
    "### Import pickle archives"
   ]
  },
  {
   "cell_type": "code",
   "execution_count": null,
   "metadata": {},
   "outputs": [],
   "source": [
    "# Import ventilator parameters, settings and alarms\n",
    "\n",
    "with open('%s/%s.pickle' % (DATA_DUMP, 'clin_df_1_300'), 'rb') as handle:\n",
    "    clin_df = pickle.load(handle)\n",
    "    \n",
    "with open('%s/%s.pickle' % (DATA_DUMP, 'data_pars_measurements_ventilated_1_300'), 'rb') as handle:\n",
    "    data_pars_measurements_ventilated = pickle.load(handle)\n",
    "    \n",
    "with open('%s/%s.pickle' % (DATA_DUMP, 'data_pars_settings_ventilated_1_300'), 'rb') as handle:\n",
    "    data_pars_settings_ventilated = pickle.load(handle)\n",
    "    \n",
    "with open('%s/%s.pickle' % (DATA_DUMP, 'data_pars_alarms_ventilated_1_300'), 'rb') as handle:\n",
    "    data_pars_alarms_ventilated = pickle.load(handle)"
   ]
  },
  {
   "cell_type": "code",
   "execution_count": null,
   "metadata": {},
   "outputs": [],
   "source": [
    "### Import blood gases\n",
    "with open('%s/%s.pickle' % (DATA_DUMP, 'blood_gases_1_300'), 'rb') as handle:\n",
    "    blood_gases = pickle.load(handle)"
   ]
  },
  {
   "cell_type": "code",
   "execution_count": null,
   "metadata": {},
   "outputs": [],
   "source": [
    "# Import DataFrame with ventilation modes\n",
    "\n",
    "with open('%s/%s.pickle' % (DATA_DUMP, 'vent_modes_ventilated_1_300_plus'), 'rb') as handle:\n",
    "    vent_modes_ventilated = pickle.load(handle)"
   ]
  },
  {
   "cell_type": "code",
   "execution_count": null,
   "metadata": {},
   "outputs": [],
   "source": [
    "cases = sorted(data_pars_measurements_ventilated.keys())"
   ]
  },
  {
   "cell_type": "code",
   "execution_count": null,
   "metadata": {
    "scrolled": true
   },
   "outputs": [],
   "source": [
    "len(data_pars_measurements_ventilated)"
   ]
  },
  {
   "cell_type": "markdown",
   "metadata": {},
   "source": [
    "### Import table for interpreting ventilator parameters"
   ]
  },
  {
   "cell_type": "code",
   "execution_count": null,
   "metadata": {
    "scrolled": false
   },
   "outputs": [],
   "source": [
    "par_key_table = pd.read_excel('Fabian_parameters.xlsx')\n",
    "par_key_table;"
   ]
  },
  {
   "cell_type": "markdown",
   "metadata": {},
   "source": [
    "### Identify cases who received mechanical ventilation with VG"
   ]
  },
  {
   "cell_type": "code",
   "execution_count": null,
   "metadata": {
    "scrolled": false
   },
   "outputs": [],
   "source": [
    "vent_modes_vg = vent_modes_ventilated[vent_modes_ventilated['VG_on'] > 0]\n",
    "cases = sorted(vent_modes_vg.index)\n",
    "len(vent_modes_vg)"
   ]
  },
  {
   "cell_type": "code",
   "execution_count": null,
   "metadata": {},
   "outputs": [],
   "source": [
    "vent_modes_vg['VG_off'] = vent_modes_vg['total'] - vent_modes_vg['VG_on']"
   ]
  },
  {
   "cell_type": "code",
   "execution_count": null,
   "metadata": {
    "scrolled": false
   },
   "outputs": [],
   "source": [
    "vent_modes_vg.head()"
   ]
  },
  {
   "cell_type": "code",
   "execution_count": null,
   "metadata": {},
   "outputs": [],
   "source": [
    "# How many cases had more time with VG on than with VG off\n",
    "sum(vent_modes_vg['VG_on'] > vent_modes_vg['VG_off'])"
   ]
  },
  {
   "cell_type": "markdown",
   "metadata": {},
   "source": [
    "### Duration of the recordings"
   ]
  },
  {
   "cell_type": "code",
   "execution_count": null,
   "metadata": {},
   "outputs": [],
   "source": [
    "# Duration in seconds\n",
    "vent_modes_vg['VG_on'].describe(percentiles = [0.01, 0.05, 0.25, 0.5, 0.75, 0.95, 0.99]) "
   ]
  },
  {
   "cell_type": "code",
   "execution_count": null,
   "metadata": {},
   "outputs": [],
   "source": [
    "vent_modes_vg['VG_on'].sum(), vent_modes_vg['VG_on'].sum() / 3600"
   ]
  },
  {
   "cell_type": "markdown",
   "metadata": {},
   "source": [
    "### Remove those recordings that have less than 15 minutes (900 seconds) of VG ventilation"
   ]
  },
  {
   "cell_type": "code",
   "execution_count": null,
   "metadata": {},
   "outputs": [],
   "source": [
    "vent_modes_vg = vent_modes_vg[vent_modes_vg['VG_on'] > 900]\n",
    "cases = sorted(vent_modes_vg.index)\n",
    "len(cases)"
   ]
  },
  {
   "cell_type": "code",
   "execution_count": null,
   "metadata": {
    "scrolled": false
   },
   "outputs": [],
   "source": [
    "vent_modes_vg;"
   ]
  },
  {
   "cell_type": "markdown",
   "metadata": {},
   "source": [
    "### There aro no IPPV recordings and only 208 seconds of PSV in one recording. Remove this.\n",
    "\n",
    "All other recordings are `SIMV`, `SIMV-PSV` or `SIPPV`"
   ]
  },
  {
   "cell_type": "code",
   "execution_count": null,
   "metadata": {},
   "outputs": [],
   "source": [
    "data_pars_measurements_ventilated['AL000295'] = \\\n",
    " data_pars_measurements_ventilated['AL000295'][data_pars_settings_ventilated['AL000295']['Ventilator_mode'] \n",
    "                                               != 'PSV']\n",
    "data_pars_settings_ventilated['AL000295'] = \\\n",
    " data_pars_settings_ventilated['AL000295'][data_pars_settings_ventilated['AL000295']['Ventilator_mode'] != 'PSV']\n"
   ]
  },
  {
   "cell_type": "code",
   "execution_count": null,
   "metadata": {},
   "outputs": [],
   "source": [
    "vent_modes_vg = vent_modes_vg[['SIMV', 'SIMVPSV', 'SIPPV', 'VG_on', 'VG_off', 'total', \n",
    "                               'multiple_mode', 'dominant_mode']]"
   ]
  },
  {
   "cell_type": "code",
   "execution_count": null,
   "metadata": {
    "scrolled": false
   },
   "outputs": [],
   "source": [
    "vent_modes_vg.head()"
   ]
  },
  {
   "cell_type": "markdown",
   "metadata": {},
   "source": [
    "### Save final vent_modes DataFrame"
   ]
  },
  {
   "cell_type": "code",
   "execution_count": null,
   "metadata": {},
   "outputs": [],
   "source": [
    "writer = pd.ExcelWriter('%s/%s' % (DIR_WRITE, 'vent_modes_vg.xlsx'))\n",
    "vent_modes_vg.to_excel(writer, 'vent_modes_vg')\n",
    "writer.save()"
   ]
  },
  {
   "cell_type": "markdown",
   "metadata": {},
   "source": [
    "### Trim clinical data to only include VG recordings"
   ]
  },
  {
   "cell_type": "code",
   "execution_count": null,
   "metadata": {},
   "outputs": [],
   "source": [
    "clin_df = clin_df.loc[cases]"
   ]
  },
  {
   "cell_type": "code",
   "execution_count": null,
   "metadata": {},
   "outputs": [],
   "source": [
    "clin_df.info()"
   ]
  },
  {
   "cell_type": "code",
   "execution_count": null,
   "metadata": {},
   "outputs": [],
   "source": [
    "# Save clinical details\n",
    "writer = pd.ExcelWriter('%s/%s' % (DIR_WRITE, 'clinical_data_vg.xlsx'))\n",
    "clin_df.to_excel(writer, 'vg_cases')\n",
    "writer.save()"
   ]
  },
  {
   "cell_type": "markdown",
   "metadata": {},
   "source": [
    "### Statistics on clinical details"
   ]
  },
  {
   "cell_type": "code",
   "execution_count": null,
   "metadata": {},
   "outputs": [],
   "source": [
    "clin_df_stats = round(clin_df.describe(), 2)\n",
    "clin_df_stats = clin_df_stats.T\n",
    "clin_df_stats"
   ]
  },
  {
   "cell_type": "code",
   "execution_count": null,
   "metadata": {},
   "outputs": [],
   "source": [
    "clin_df_stats.loc['Postnatal Age']"
   ]
  },
  {
   "cell_type": "code",
   "execution_count": null,
   "metadata": {},
   "outputs": [],
   "source": [
    "# Save clinical details\n",
    "writer = pd.ExcelWriter('%s/%s' % (DIR_WRITE, 'clinical_data_vg_stats.xlsx'))\n",
    "clin_df_stats.to_excel(writer, 'vg_cases')\n",
    "writer.save()"
   ]
  },
  {
   "cell_type": "code",
   "execution_count": null,
   "metadata": {},
   "outputs": [],
   "source": [
    "fig, ax = plt.subplots(figsize = (4, 4))\n",
    "dpi = 300\n",
    "filetype = 'jpg'\n",
    "xticklabels = ['gestational age', 'corrected age']\n",
    "\n",
    "# Define styling for each boxplot component\n",
    "medianprops = {'color': 'black', 'linewidth': 2}\n",
    "boxprops = {'color': 'black', 'linestyle': '-'}\n",
    "whiskerprops = {'color': 'black', 'linestyle': '-'}\n",
    "capprops = {'color': 'black', 'linestyle': '-'}\n",
    "flierprops = {'color': 'black', 'marker': '.'}\n",
    "\n",
    "plt.boxplot([clin_df['Gestational Age (weeks)']  ,\n",
    "             clin_df['Corrected gestational Age (weeks)']], widths = 0.5,\n",
    "        whis = [5, 95], showfliers = True,showmeans = True, medianprops=medianprops, boxprops=boxprops, \n",
    "        whiskerprops=whiskerprops, capprops=capprops, flierprops = flierprops)\n",
    "ax.set_ylim(0, 55)\n",
    "ax.set_ylabel('weeks', size = 14)\n",
    "ax.tick_params(axis='both', which='major', labelsize=14)\n",
    "ax.set_xticklabels(xticklabels)\n",
    "plt.grid(True)\n",
    "\n",
    "fig.savefig('%s/%s.%s' % (DIR_WRITE, 'vg_gest_age', filetype),\n",
    "    dpi = dpi, facecolor='w', edgecolor='w', orientation='portrait', papertype=None, format = filetype,\n",
    "    transparent=False, bbox_inches='tight', pad_inches=0.1, frameon=True);"
   ]
  },
  {
   "cell_type": "code",
   "execution_count": null,
   "metadata": {
    "scrolled": true
   },
   "outputs": [],
   "source": [
    "fig, ax = plt.subplots(figsize = (4, 4))\n",
    "dpi = 300\n",
    "filetype = 'jpg'\n",
    "xticklabels = ['birth weight', 'actual weight']\n",
    "\n",
    "# Define styling for each boxplot component\n",
    "medianprops = {'color': 'black', 'linewidth': 2}\n",
    "boxprops = {'color': 'black', 'linestyle': '-'}\n",
    "whiskerprops = {'color': 'black', 'linestyle': '-'}\n",
    "capprops = {'color': 'black', 'linestyle': '-'}\n",
    "flierprops = {'color': 'black', 'marker': '.'}\n",
    "\n",
    "plt.boxplot([clin_df['Birth Weight'], clin_df['Weight']], widths = 0.5,\n",
    "        whis = [5, 95], showfliers = True,showmeans = True, medianprops=medianprops, boxprops=boxprops, \n",
    "        whiskerprops=whiskerprops, capprops=capprops, flierprops = flierprops)\n",
    "\n",
    "ax.set_xticklabels(xticklabels)\n",
    "ax.set_ylim(0, 5500)\n",
    "ax.set_ylabel('grams', size = 14)\n",
    "ax.tick_params(axis='both', which='major', labelsize=14)\n",
    "plt.grid(True)\n",
    "\n",
    "fig.savefig('%s/%s.%s' % (DIR_WRITE, 'vg_weight', filetype),\n",
    "    dpi = dpi, facecolor='w', edgecolor='w', orientation='portrait', papertype=None, format = filetype,\n",
    "    transparent=False, bbox_inches='tight', pad_inches=0.1, frameon=True);"
   ]
  },
  {
   "cell_type": "markdown",
   "metadata": {},
   "source": [
    "### Statistics on duration of the final set of recordings"
   ]
  },
  {
   "cell_type": "code",
   "execution_count": null,
   "metadata": {},
   "outputs": [],
   "source": [
    "# Duration in seconds\n",
    "vent_modes_vg['VG_on'].describe(percentiles = [0.01, 0.05, 0.25, 0.5, 0.75, 0.95, 0.99])"
   ]
  },
  {
   "cell_type": "code",
   "execution_count": null,
   "metadata": {},
   "outputs": [],
   "source": [
    "# Duration in minutes\n",
    "duration_stats = vent_modes_vg['VG_on'].describe(percentiles = [0.01, 0.05, 0.25, 0.5, 0.75, 0.95, 0.99])[1:] / 60 \n",
    "duration_stats"
   ]
  },
  {
   "cell_type": "code",
   "execution_count": null,
   "metadata": {
    "scrolled": false
   },
   "outputs": [],
   "source": [
    "fig, ax = plt.subplots(figsize = (2, 4))\n",
    "dpi = 300\n",
    "filetype = 'jpg'\n",
    "xticklabels = ['recording duration']\n",
    "\n",
    "# Define styling for each boxplot component\n",
    "medianprops = {'color': 'black', 'linewidth': 2}\n",
    "boxprops = {'color': 'black', 'linestyle': '-'}\n",
    "whiskerprops = {'color': 'black', 'linestyle': '-'}\n",
    "capprops = {'color': 'black', 'linestyle': '-'}\n",
    "flierprops = {'color': 'black', 'marker': '.'}\n",
    "\n",
    "plt.boxplot(vent_modes_vg['VG_on'] / 60, widths = 0.5, \n",
    "        whis = [5, 95], showfliers = True,showmeans = True, medianprops=medianprops, boxprops=boxprops, \n",
    "        whiskerprops=whiskerprops, capprops=capprops, flierprops = flierprops)\n",
    "\n",
    "ax.set_xticklabels(xticklabels)\n",
    "ax.set_ylabel('minutes', size = 14)\n",
    "ax.tick_params(axis='both', which='major', labelsize=14)\n",
    "plt.grid(True)\n",
    "\n",
    "fig.savefig('%s/%s.%s' % (DIR_WRITE, 'vg_duration', filetype),\n",
    "    dpi = dpi, facecolor='w', edgecolor='w', orientation='portrait', papertype=None, format = filetype,\n",
    "    transparent=False, bbox_inches='tight', pad_inches=0.1, frameon=True);"
   ]
  },
  {
   "cell_type": "code",
   "execution_count": null,
   "metadata": {},
   "outputs": [],
   "source": [
    "# Total duration in seconds, minutes and hours\n",
    "int(vent_modes_vg['VG_on'].sum()), int(vent_modes_vg['VG_on'].sum() / 60), int(vent_modes_vg['VG_on'].sum() / 3600,)"
   ]
  },
  {
   "cell_type": "markdown",
   "metadata": {},
   "source": [
    "### What was the duration of the different ventilation modes\n",
    "\n",
    "This includes both VG on and VG off periods"
   ]
  },
  {
   "cell_type": "code",
   "execution_count": null,
   "metadata": {},
   "outputs": [],
   "source": [
    "# In seconds, hours\n",
    "vent_modes_vg[['SIMV', 'SIMVPSV', 'SIPPV']].sum() "
   ]
  },
  {
   "cell_type": "code",
   "execution_count": null,
   "metadata": {},
   "outputs": [],
   "source": [
    "# In hours\n",
    "vent_modes_vg[['SIMV', 'SIMVPSV', 'SIPPV']].sum() / 3660"
   ]
  },
  {
   "cell_type": "code",
   "execution_count": null,
   "metadata": {},
   "outputs": [],
   "source": [
    "def autolabel(rects):\n",
    "    \"\"\"\n",
    "    Attach a text label above each bar displaying its height\n",
    "    \"\"\"\n",
    "    for rect in rects:\n",
    "        height = rect.get_height()\n",
    "        ax.text(rect.get_x() + rect.get_width()/2., 1.05*height,\n",
    "                '%d' % int(height), ha='center', va='bottom', size = 14)"
   ]
  },
  {
   "cell_type": "code",
   "execution_count": null,
   "metadata": {},
   "outputs": [],
   "source": [
    "dpi = 300\n",
    "filetype = 'jpg'\n",
    "labels = ['SIMV', 'SIPPV', 'SIMV-PSV']\n",
    "xticks = np.arange(len(labels))\n",
    "width = 0.6\n",
    "\n",
    "fig, ax = plt.subplots(figsize = [4,4])\n",
    "rects = plt.bar(xticks, vent_modes_vg[['SIMV', 'SIPPV', 'SIMVPSV',]].sum() / 3600, \n",
    "                        width=width, color='black', alpha  = 0.75, align = 'center')\n",
    "\n",
    "ax.set_xlabel('ventilation mode', size = 14)\n",
    "ax.set_xticks(xticks)\n",
    "ax.set_xticklabels(labels, size = 14, rotation = 0)\n",
    "ax.set_ylabel('duration of recordings (hours)', size = 14)\n",
    "ax.set_ylim(0, 90)\n",
    "ax.grid(True)\n",
    "\n",
    "autolabel(rects)\n",
    "\n",
    "fig.savefig('%s/%s.%s' % (DIR_WRITE, 'vent_modes_vg_duration', filetype),\n",
    "    dpi = dpi, facecolor='w', edgecolor='w', orientation='portrait', papertype=None, format = filetype,\n",
    "    transparent=False, bbox_inches='tight', pad_inches=0.1, frameon=True);"
   ]
  },
  {
   "cell_type": "markdown",
   "metadata": {},
   "source": [
    "### How many patients had the various ventilation modes"
   ]
  },
  {
   "cell_type": "code",
   "execution_count": null,
   "metadata": {},
   "outputs": [],
   "source": [
    "sum(vent_modes_vg['SIMV'] > 0), sum(vent_modes_vg['SIMVPSV'] > 0), sum(vent_modes_vg['SIPPV'] > 0)"
   ]
  },
  {
   "cell_type": "code",
   "execution_count": null,
   "metadata": {},
   "outputs": [],
   "source": [
    "dpi = 300\n",
    "filetype = 'jpg'\n",
    "labels = ['SIMV', 'SIPPV', 'SIMV-PSV']\n",
    "xticks = np.arange(len(labels))\n",
    "width = 0.6\n",
    "\n",
    "fig, ax = plt.subplots(figsize = [4,4])\n",
    "rects = plt.bar(xticks, [sum(vent_modes_vg['SIMV'] > 0), sum(vent_modes_vg['SIPPV'] > 0), \n",
    "                         sum(vent_modes_vg['SIMVPSV'] > 0)], \n",
    "                        width=width, color='black', alpha  = 0.75, align = 'center')\n",
    "\n",
    "ax.set_xlabel('ventilation mode', size = 14)\n",
    "ax.set_xticks(xticks)\n",
    "ax.set_xticklabels(labels, size = 14, rotation = 0)\n",
    "ax.set_ylabel('number of cases', size = 14)\n",
    "ax.set_ylim(0, 80)\n",
    "ax.grid(True)\n",
    "\n",
    "autolabel(rects)\n",
    "\n",
    "fig.savefig('%s/%s.%s' % (DIR_WRITE, 'vent_modes_vg_cases', filetype),\n",
    "    dpi = dpi, facecolor='w', edgecolor='w', orientation='portrait', papertype=None, format = filetype,\n",
    "    transparent=False, bbox_inches='tight', pad_inches=0.1, frameon=True);"
   ]
  },
  {
   "cell_type": "code",
   "execution_count": null,
   "metadata": {},
   "outputs": [],
   "source": [
    "# How many has multiple modes?\n",
    "\n",
    "sum(vent_modes_vg['multiple_mode'] == 'Yes')"
   ]
  },
  {
   "cell_type": "code",
   "execution_count": null,
   "metadata": {
    "scrolled": true
   },
   "outputs": [],
   "source": [
    "vent_modes_vg[vent_modes_vg['multiple_mode'] == 'Yes']"
   ]
  },
  {
   "cell_type": "code",
   "execution_count": null,
   "metadata": {},
   "outputs": [],
   "source": [
    "# One is anctually not multiple as it had PSV that has been excluded\n",
    "vent_modes_ventilated.loc['AL000295']"
   ]
  },
  {
   "cell_type": "code",
   "execution_count": null,
   "metadata": {},
   "outputs": [],
   "source": [
    "len(vent_modes_vg)"
   ]
  },
  {
   "cell_type": "code",
   "execution_count": null,
   "metadata": {},
   "outputs": [],
   "source": [
    "len(vent_modes_vg[(vent_modes_vg['SIMV'] > 0) & (vent_modes_vg['multiple_mode'] == 'No')])"
   ]
  },
  {
   "cell_type": "code",
   "execution_count": null,
   "metadata": {},
   "outputs": [],
   "source": [
    "len(vent_modes_vg[(vent_modes_vg['SIPPV'] > 0) & (vent_modes_vg['multiple_mode'] == 'No')])"
   ]
  },
  {
   "cell_type": "code",
   "execution_count": null,
   "metadata": {},
   "outputs": [],
   "source": [
    "len(vent_modes_vg[(vent_modes_vg['SIMVPSV'] > 0) & (vent_modes_vg['multiple_mode'] == 'No')])"
   ]
  },
  {
   "cell_type": "code",
   "execution_count": null,
   "metadata": {},
   "outputs": [],
   "source": [
    "vent_modes_vg['dominant_mode'].value_counts()"
   ]
  },
  {
   "cell_type": "code",
   "execution_count": null,
   "metadata": {},
   "outputs": [],
   "source": [
    "dpi = 300\n",
    "filetype = 'jpg'\n",
    "labels = ['SIMV', 'SIPPV', 'SIMV-PSV']\n",
    "xticks = np.arange(len(labels))\n",
    "width = 0.6\n",
    "\n",
    "fig, ax = plt.subplots(figsize = [4,4])\n",
    "rects = plt.bar(xticks, vent_modes_vg['dominant_mode'].value_counts(), \n",
    "                        width=width, color='black', alpha  = 0.75, align = 'center')\n",
    "\n",
    "ax.set_xlabel('dominant ventilation mode', size = 14)\n",
    "ax.set_xticks(xticks)\n",
    "ax.set_xticklabels(labels, size = 14, rotation = 0)\n",
    "ax.set_ylabel('number of cases', size = 14)\n",
    "ax.set_ylim(0, 80)\n",
    "ax.grid(True)\n",
    "\n",
    "autolabel(rects)\n",
    "\n",
    "fig.savefig('%s/%s.%s' % (DIR_WRITE, 'vent_modes_vg_cases_dominant_mode', filetype),\n",
    "    dpi = dpi, facecolor='w', edgecolor='w', orientation='portrait', papertype=None, format = filetype,\n",
    "    transparent=False, bbox_inches='tight', pad_inches=0.1, frameon=True);"
   ]
  },
  {
   "cell_type": "markdown",
   "metadata": {},
   "source": [
    "### Distribution of recording times for the different ventilation modes"
   ]
  },
  {
   "cell_type": "code",
   "execution_count": null,
   "metadata": {},
   "outputs": [],
   "source": [
    "fig, ax = plt.subplots(figsize = (4, 4))\n",
    "dpi = 300\n",
    "filetype = 'jpg'\n",
    "xticklabels = ['SIMV', 'SIPPV', 'SIMVPSV']\n",
    "\n",
    "# Define styling for each boxplot component\n",
    "medianprops = {'color': 'black', 'linewidth': 2}\n",
    "boxprops = {'color': 'black', 'linestyle': '-'}\n",
    "whiskerprops = {'color': 'black', 'linestyle': '-'}\n",
    "capprops = {'color': 'black', 'linestyle': '-'}\n",
    "flierprops = {'color': 'black', 'marker': '.'}\n",
    "\n",
    "\n",
    "ax.boxplot([vent_modes_vg[vent_modes_vg['SIMV'] > 0]['VG_on'] / 60,\n",
    "            vent_modes_vg[vent_modes_vg['SIPPV'] > 0]['VG_on'] / 60,\n",
    "            vent_modes_vg[vent_modes_vg['SIMVPSV'] > 0]['VG_on'] / 60],\n",
    "            widths = 0.5, whis = [5, 95], showfliers = True,showmeans = True, medianprops=medianprops, \n",
    "            boxprops=boxprops, whiskerprops=whiskerprops, capprops=capprops, flierprops = flierprops)\n",
    "\n",
    "ax.set_xticklabels(xticklabels)\n",
    "ax.set_ylabel('minutes', size = 14)\n",
    "ax.tick_params(axis='both', which='major', labelsize=14)\n",
    "plt.grid(True)\n",
    "\n",
    "fig.savefig('%s/%s.%s' % (DIR_WRITE, 'vg_duration_boxplot', filetype),\n",
    "    dpi = dpi, facecolor='w', edgecolor='w', orientation='portrait', papertype=None, format = filetype,\n",
    "    transparent=False, bbox_inches='tight', pad_inches=0.1, frameon=True);"
   ]
  },
  {
   "cell_type": "markdown",
   "metadata": {},
   "source": [
    "### Remove non-VG parts of the recordings"
   ]
  },
  {
   "cell_type": "code",
   "execution_count": null,
   "metadata": {},
   "outputs": [],
   "source": [
    "data_pars_settings_vg = {}\n",
    "data_pars_measurements_vg = {}\n",
    "data_pars_alarms_vg = {}\n",
    "\n",
    "for case in cases:\n",
    "    a = data_pars_settings_ventilated[case]\n",
    "    data_pars_settings_vg[case] = a[a['VG_state'] == 'on'].copy()\n",
    "    data_pars_measurements_vg[case] = \\\n",
    "        data_pars_measurements_ventilated[case].reindex(index = data_pars_settings_vg[case].index)\n",
    "    data_pars_alarms_vg[case] = \\\n",
    "        data_pars_alarms_ventilated[case].reindex(index = data_pars_settings_vg[case].index)"
   ]
  },
  {
   "cell_type": "code",
   "execution_count": null,
   "metadata": {},
   "outputs": [],
   "source": [
    "len(data_pars_settings_vg)"
   ]
  },
  {
   "cell_type": "code",
   "execution_count": null,
   "metadata": {},
   "outputs": [],
   "source": [
    "# How many rows (= 2 sec each) were removed\n",
    "for case in cases:\n",
    "    if len(data_pars_measurements_ventilated[case]) - len(data_pars_measurements_vg[case]) > 0:\n",
    "        print(case, '%d seconds were removed' % (2 * (len(data_pars_measurements_ventilated[case]) -\\\n",
    "           len(data_pars_measurements_vg[case]))))"
   ]
  },
  {
   "cell_type": "markdown",
   "metadata": {},
   "source": [
    "### Add the baby's weight to data"
   ]
  },
  {
   "cell_type": "code",
   "execution_count": null,
   "metadata": {},
   "outputs": [],
   "source": [
    "for case in cases:\n",
    "    data_pars_measurements_vg[case]['weight'] = clin_df.loc[case, 'Weight']"
   ]
  },
  {
   "cell_type": "markdown",
   "metadata": {},
   "source": [
    "### Combine parameters and settings in the same DataFrames"
   ]
  },
  {
   "cell_type": "code",
   "execution_count": null,
   "metadata": {},
   "outputs": [],
   "source": [
    "data_pars_combined_vg = {}\n",
    "\n",
    "for case in cases:\n",
    "    data_pars_combined_vg[case] = pd.concat([data_pars_measurements_vg[case],\n",
    "                                          data_pars_settings_vg[case]], axis = 1)"
   ]
  },
  {
   "cell_type": "markdown",
   "metadata": {},
   "source": [
    "### Combine recordings into one DataFrame"
   ]
  },
  {
   "cell_type": "code",
   "execution_count": null,
   "metadata": {},
   "outputs": [],
   "source": [
    "data_pars_combined_vg_all = pd.concat(data_pars_combined_vg, sort = True)\n",
    "data_pars_combined_vg_all.index.names =  ['recording', 'datetime']\n",
    "len(data_pars_combined_vg_all)"
   ]
  },
  {
   "cell_type": "code",
   "execution_count": null,
   "metadata": {},
   "outputs": [],
   "source": [
    "# Drop those rows that have na values for PIP or VTemand_kg\n",
    "\n",
    "data_pars_combined_vg_all.dropna(subset = ['VTemand_kg', 'PIP'], how = 'any', inplace = True)"
   ]
  },
  {
   "cell_type": "code",
   "execution_count": null,
   "metadata": {},
   "outputs": [],
   "source": [
    "data_pars_combined_vg_all.info()"
   ]
  },
  {
   "cell_type": "markdown",
   "metadata": {},
   "source": [
    "### Remove those parameters that are always zero or irrelevant"
   ]
  },
  {
   "cell_type": "code",
   "execution_count": null,
   "metadata": {},
   "outputs": [],
   "source": [
    "to_keep = [ 'C20_C', 'Cdyn', 'FiO2', 'FiO2_set','Flow_exp_set', 'Flow_insp_set', 'Flow_sensor_state',\n",
    "       'IE_E_set', 'IE_I_set', 'Leak', 'MAP', 'MV', 'MV_kg', 'MV_lim_high_set',\n",
    "       'MV_lim_high_set_kg', 'MV_lim_low_set', 'MV_lim_low_set_kg', 'MVresp',\n",
    "       'Measuring_unit_pressure_set', 'Oxy_sensor_state', 'PEEP', 'PEEP_set',\n",
    "       'PIP', 'PIP_lim_high_set', 'PIP_lim_low_set', 'PIP_set', \n",
    "       'Patient_range', 'Powerstate', 'Pressure_rise_control', 'R', 'RR',\n",
    "       'RR_set', 'Te_set', 'Term_criteria_PSV_set', \n",
    "       'Ti_set', 'Trigger', 'Trigger_mode', 'Trigger_sens_set', 'VG_set',\n",
    "       'VG_set_kg', 'VG_state', 'VTemand', 'VTemand_kg', 'VTemand_resp',\n",
    "       'VTemand_resp_kg', 'VTespon_pat', 'VTespon_pat_kg', 'VTimand',\n",
    "       'VTimand_kg', 'Ventilation_stopped', 'Ventilator_mode',\n",
    "       'Ventilator_range', 'weight']\n",
    "\n",
    "data_pars_combined_vg_all = data_pars_combined_vg_all[to_keep]"
   ]
  },
  {
   "cell_type": "code",
   "execution_count": null,
   "metadata": {},
   "outputs": [],
   "source": [
    "data_pars_combined_vg_all.shape"
   ]
  },
  {
   "cell_type": "markdown",
   "metadata": {},
   "source": [
    "## Statistics on ventilator data"
   ]
  },
  {
   "cell_type": "markdown",
   "metadata": {},
   "source": [
    "### Descriptive statistics on the measured ventilator parameters in all recordings together"
   ]
  },
  {
   "cell_type": "code",
   "execution_count": null,
   "metadata": {},
   "outputs": [],
   "source": [
    "selected_measurements = ['C20_C', 'Cdyn', 'FiO2',  'Leak', 'MAP', 'MV',\n",
    "       'MV_kg',  'MVresp', 'PEEP', 'PIP', 'R', 'RR',\n",
    "       'VTemand', 'VTemand_kg', 'VTemand_resp', 'VTemand_resp_kg',\n",
    "       'VTespon_pat', 'VTespon_pat_kg', 'VTimand', 'VTimand_kg',\n",
    "       'weight',]"
   ]
  },
  {
   "cell_type": "code",
   "execution_count": null,
   "metadata": {},
   "outputs": [],
   "source": [
    "vent_measurements_stats_combined = round(data_pars_combined_vg_all[selected_measurements].describe(percentiles = \n",
    "                                                      [0.01, 0.05, 0.25, 0.5, 0.75, 0.95, 0.99]), 2)\n",
    "vent_measurements_stats_combined = vent_measurements_stats_combined.T\n",
    "vent_measurements_stats_combined"
   ]
  },
  {
   "cell_type": "markdown",
   "metadata": {},
   "source": [
    "### Showing the distribution of the measured ventilator parameters in all recordings together"
   ]
  },
  {
   "cell_type": "code",
   "execution_count": null,
   "metadata": {},
   "outputs": [],
   "source": [
    "selected_measurements_2 = ['Leak', 'MAP', 'MV_kg', 'PEEP', 'PIP', 'VTemand_kg', 'VTimand_kg',]\n",
    "\n",
    "# D’Agostino-Pearson normality test\n",
    "\n",
    "from scipy.stats import normaltest\n",
    "statistic_all, p_all = normaltest(data_pars_combined_vg_all[selected_measurements_2], \n",
    "                                  axis = 0, nan_policy = 'omit')\n",
    "\n",
    "normality_test_measurements = DataFrame([statistic_all, p_all]).T\n",
    "normality_test_measurements.index = selected_measurements_2\n",
    "normality_test_measurements.columns = ['statistic', 'p-value']"
   ]
  },
  {
   "cell_type": "code",
   "execution_count": null,
   "metadata": {},
   "outputs": [],
   "source": [
    "normality_test_measurements"
   ]
  },
  {
   "cell_type": "markdown",
   "metadata": {},
   "source": [
    "For plt.hist(), if `density = True`, the first element of the return tuple will be the counts normalized to form a probability density, i.e., the area (or integral) under the histogram will sum to 1. This is achieved by dividing the count by the number of observations times the bin width and not dividing by the total number of observations."
   ]
  },
  {
   "cell_type": "code",
   "execution_count": null,
   "metadata": {},
   "outputs": [],
   "source": [
    "data = data_pars_combined_vg_all['Leak']\n",
    "\n",
    "fig, ax = plt.subplots(figsize = [4,4])\n",
    "ax.hist(data, bins = 20, density = True, color = 'black', alpha = 0.7, log = True)    \n",
    "ax.set_xlabel('%', size = 12)\n",
    "ax.set_ylabel('Probability', size = 12)\n",
    "#ax.set_ylim(1, 1000000)\n",
    "plt.title('Leak', fontsize = 12)\n",
    "plt.grid(True)\n",
    "\n",
    "fig.savefig('%s/%s.%s' % (DIR_WRITE, 'leak_distribution_all', 'jpg'),\n",
    "    dpi = 200, facecolor='w', edgecolor='w', orientation='portrait', papertype=None, format = 'jpg',\n",
    "    transparent=False, bbox_inches='tight', pad_inches=0.1, frameon=True);"
   ]
  },
  {
   "cell_type": "code",
   "execution_count": null,
   "metadata": {},
   "outputs": [],
   "source": [
    "data = data_pars_combined_vg_all['MAP']\n",
    "\n",
    "fig, ax = plt.subplots(figsize = [4,4])\n",
    "ax.hist(data, bins = 25, density = True, color = 'black', alpha = 0.7)    \n",
    "# Plot the PDF.\n",
    "xmin, xmax = plt.xlim()\n",
    "x = np.linspace(xmin, xmax, 100)\n",
    "p = stats.norm.pdf(x, data.mean(), data.std())\n",
    "ax.plot(x, p, linewidth=2, color = 'red')\n",
    "ax.set_xlabel('cmH$_2$O', size = 12)\n",
    "ax.set_ylabel('Probability', size = 12)\n",
    "ax.set_xlim(0, data.mean()*2)\n",
    "plt.title('MAP', fontsize = 12)\n",
    "plt.grid(True)\n",
    "\n",
    "fig.savefig('%s/%s.%s' % (DIR_WRITE, 'MAP_distribution_all', 'jpg'),\n",
    "    dpi = 200, facecolor='w', edgecolor='w', orientation='portrait', papertype=None, format = 'jpg',\n",
    "    transparent=False, bbox_inches='tight', pad_inches=0.1, frameon=True);"
   ]
  },
  {
   "cell_type": "code",
   "execution_count": null,
   "metadata": {},
   "outputs": [],
   "source": [
    "data = data_pars_combined_vg_all['PIP']\n",
    "\n",
    "fig, ax = plt.subplots(figsize = [4,4])\n",
    "ax.hist(data, bins = 30, density = True, color = 'black', alpha = 0.7)    \n",
    "# Plot the PDF.\n",
    "xmin, xmax = plt.xlim()\n",
    "x = np.linspace(xmin, xmax, 100)\n",
    "p = stats.norm.pdf(x, data.mean(), data.std())\n",
    "ax.plot(x, p, linewidth=2, color = 'red')\n",
    "ax.set_xlabel('cmH$_2$O', size = 12)\n",
    "ax.set_ylabel('Probability', size = 12)\n",
    "ax.set_xlim(0, data.mean()*2)\n",
    "ax.set_ylim(0, 0.1)\n",
    "plt.title('PIP', fontsize = 12)\n",
    "plt.grid(True)\n",
    "\n",
    "fig.savefig('%s/%s.%s' % (DIR_WRITE, 'PIP_distribution_all', 'jpg'),\n",
    "    dpi = 200, facecolor='w', edgecolor='w', orientation='portrait', papertype=None, format = 'jpg',\n",
    "    transparent=False, bbox_inches='tight', pad_inches=0.1, frameon=True);"
   ]
  },
  {
   "cell_type": "code",
   "execution_count": null,
   "metadata": {},
   "outputs": [],
   "source": [
    "data = data_pars_combined_vg_all['PEEP']\n",
    "data = data[data < 12]\n",
    "\n",
    "fig, ax = plt.subplots(figsize = [4,4])\n",
    "ax.hist(data, bins = 45, density = True, color = 'black', alpha = 0.7)    \n",
    "# Plot the PDF.\n",
    "xmin, xmax = plt.xlim()\n",
    "x = np.linspace(xmin, xmax, 100)\n",
    "p = stats.norm.pdf(x, data.mean(), data.std())\n",
    "ax.plot(x, p, linewidth=2, color = 'red')\n",
    "ax.set_xlabel('cmH$_2$O', size = 12)\n",
    "ax.set_ylabel('Probability', size = 12)\n",
    "ax.set_xlim(0, data.mean()*2)\n",
    "plt.title('PEEP', fontsize = 12)\n",
    "plt.grid(True)\n",
    "\n",
    "fig.savefig('%s/%s.%s' % (DIR_WRITE, 'PEEP_distribution_all', 'jpg'),\n",
    "    dpi = 200, facecolor='w', edgecolor='w', orientation='portrait', papertype=None, format = 'jpg',\n",
    "    transparent=False, bbox_inches='tight', pad_inches=0.1, frameon=True);"
   ]
  },
  {
   "cell_type": "code",
   "execution_count": null,
   "metadata": {},
   "outputs": [],
   "source": [
    "data = data_pars_combined_vg_all['VTimand_kg']\n",
    "data = data[(data < 20) & (data > 0)]\n",
    "\n",
    "fig, ax = plt.subplots(figsize = [4,4])\n",
    "ax.hist(data, histtype = 'bar', bins = 40, density = True, color = 'black', alpha = 0.7, )    \n",
    "# Plot the PDF.\n",
    "xmin, xmax = ax.get_xlim()\n",
    "x = np.linspace(xmin, xmax, 100)\n",
    "p = stats.norm.pdf(x, data.mean(), data.std())\n",
    "ax.plot(x, p, linewidth=2, color = 'red')\n",
    "ax.set_xlabel('mL/kg', size = 12)\n",
    "ax.set_ylabel('Probability', size = 12)\n",
    "ax.set_xlim(0, data.mean()*2)\n",
    "plt.title('VTimand', fontsize = 12)\n",
    "plt.grid(True)\n",
    "\n",
    "fig.savefig('%s/%s.%s' % (DIR_WRITE, 'VTimand_distribution_all', 'jpg'),\n",
    "    dpi = 200, facecolor='w', edgecolor='w', orientation='portrait', papertype=None, format = 'jpg',\n",
    "    transparent=False, bbox_inches='tight', pad_inches=0.1, frameon=True);"
   ]
  },
  {
   "cell_type": "code",
   "execution_count": null,
   "metadata": {},
   "outputs": [],
   "source": [
    "data = data_pars_combined_vg_all['VTemand_kg']\n",
    "data = data[(data < 20) & (data > 0)]\n",
    "\n",
    "fig, ax = plt.subplots(figsize = [4,4])\n",
    "ax.hist(data, bins = 50, density = True, color = 'black', alpha = 0.7)    \n",
    "# Plot the PDF.\n",
    "xmin, xmax = ax.get_xlim()\n",
    "x = np.linspace(xmin, xmax, 100)\n",
    "p = stats.norm.pdf(x, data.mean(), data.std())\n",
    "ax.plot(x, p, linewidth=2, color = 'red')\n",
    "ax.set_xlabel('mL/kg', size = 12)\n",
    "ax.set_ylabel('Probability', size = 12)\n",
    "ax.set_xlim(0, data.mean()*2)\n",
    "plt.title('VTemand', fontsize = 12)\n",
    "plt.grid(True)\n",
    "\n",
    "fig.savefig('%s/%s.%s' % (DIR_WRITE, 'VTemand_distribution_all', 'jpg'),\n",
    "    dpi = 200, facecolor='w', edgecolor='w', orientation='portrait', papertype=None, format = 'jpg',\n",
    "    transparent=False, bbox_inches='tight', pad_inches=0.1, frameon=True);"
   ]
  },
  {
   "cell_type": "code",
   "execution_count": null,
   "metadata": {},
   "outputs": [],
   "source": [
    "data = data_pars_combined_vg_all['MV_kg']\n",
    "data = data[data < 1]\n",
    "\n",
    "fig, ax = plt.subplots(figsize = [4,4])\n",
    "ax.hist(data, bins = 50, density = True, color = 'black', alpha = 0.7)    \n",
    "# Plot the PDF.\n",
    "xmin, xmax = ax.get_xlim()\n",
    "x = np.linspace(xmin, xmax, 100)\n",
    "p = stats.norm.pdf(x, data.mean(), data.std())\n",
    "ax.plot(x, p, linewidth=2, color = 'red')\n",
    "ax.set_xlabel('L/kg/min', size = 12)\n",
    "ax.set_ylabel('Probability', size = 12)\n",
    "ax.set_xlim(0, data.mean()*2)\n",
    "plt.title('MV', fontsize = 12)\n",
    "plt.grid(True)\n",
    "\n",
    "fig.savefig('%s/%s.%s' % (DIR_WRITE, 'MV_distribution_all', 'jpg'),\n",
    "    dpi = 200, facecolor='w', edgecolor='w', orientation='portrait', papertype=None, format = 'jpg',\n",
    "    transparent=False, bbox_inches='tight', pad_inches=0.1, frameon=True);"
   ]
  },
  {
   "cell_type": "markdown",
   "metadata": {},
   "source": [
    "### Descriptive statistics on the measured ventilator parameters in the individual recordings"
   ]
  },
  {
   "cell_type": "code",
   "execution_count": null,
   "metadata": {},
   "outputs": [],
   "source": [
    "grouped_rec = data_pars_combined_vg_all.reset_index().groupby('recording')"
   ]
  },
  {
   "cell_type": "code",
   "execution_count": null,
   "metadata": {
    "scrolled": false
   },
   "outputs": [],
   "source": [
    "vent_measurements_stats_indiv = round(grouped_rec[selected_measurements].describe(percentiles = \n",
    "                                                        [0.01, 0.05, 0.25, 0.5, 0.75, 0.95, 0.99]), 2)\n",
    "vent_measurements_stats_indiv_sel = round(grouped_rec[selected_measurements].describe(percentiles = \n",
    "                                                        [0.25, 0.5, 0.75]), 2)\n",
    "vent_measurements_stats_indiv_sel.head()"
   ]
  },
  {
   "cell_type": "code",
   "execution_count": null,
   "metadata": {},
   "outputs": [],
   "source": [
    "vent_measurements_mean_stats = round(grouped_rec[selected_measurements].mean().describe(percentiles = \n",
    "                                                        [0.01, 0.05, 0.25, 0.5, 0.75, 0.95, 0.99]), 2).T\n",
    "vent_measurements_mean_stats"
   ]
  },
  {
   "cell_type": "code",
   "execution_count": null,
   "metadata": {},
   "outputs": [],
   "source": [
    "vent_measurements_median_stats = round(grouped_rec[selected_measurements].median().describe(percentiles = \n",
    "                                                        [0.01, 0.05, 0.25, 0.5, 0.75, 0.95, 0.99]), 2).T\n",
    "vent_measurements_median_stats"
   ]
  },
  {
   "cell_type": "code",
   "execution_count": null,
   "metadata": {},
   "outputs": [],
   "source": [
    "# Save statistics on ventilator settings\n",
    "writer = pd.ExcelWriter('%s/%s' % (DIR_WRITE, 'vent_measurements_stats_vg.xlsx'))\n",
    "vent_measurements_stats_combined.to_excel(writer, 'vent_measure_stats_combined')\n",
    "vent_measurements_stats_indiv.to_excel(writer, 'vent_measure_stats_indiv')\n",
    "vent_measurements_stats_indiv_sel.to_excel(writer, 'vent_measure_stats_indiv_sel')\n",
    "vent_measurements_mean_stats.to_excel(writer, 'vent_measure_mean_stats')\n",
    "vent_measurements_median_stats.to_excel(writer, 'vent_measure_median_stats')\n",
    "writer.save()"
   ]
  },
  {
   "cell_type": "markdown",
   "metadata": {},
   "source": [
    "### Descriptive statistics on the set ventilator parameters in all recordings together"
   ]
  },
  {
   "cell_type": "code",
   "execution_count": null,
   "metadata": {},
   "outputs": [],
   "source": [
    "selected_settings = ['FiO2_set', 'Flow_exp_set', 'Flow_insp_set', 'PEEP_set','PIP_set',\n",
    "                     'IE_E_set', 'IE_I_set', 'MV_lim_high_set', 'MV_lim_high_set_kg', 'MV_lim_low_set',\n",
    "                     'MV_lim_low_set_kg', 'PIP_lim_high_set', 'PIP_lim_low_set', \n",
    "                     'RR_set', 'Te_set', 'Ti_set',  'Trigger_sens_set', 'VG_set', 'VG_set_kg']"
   ]
  },
  {
   "cell_type": "code",
   "execution_count": null,
   "metadata": {},
   "outputs": [],
   "source": [
    "vent_settings_stats_combined = round(data_pars_combined_vg_all[selected_settings].describe(percentiles = \n",
    "                                                      [0.01, 0.05, 0.25, 0.5, 0.75, 0.95, 0.99]), 2)\n",
    "vent_settings_stats_combined = vent_settings_stats_combined.T\n",
    "vent_settings_stats_combined"
   ]
  },
  {
   "cell_type": "code",
   "execution_count": null,
   "metadata": {},
   "outputs": [],
   "source": [
    "selected_settings_2 = ['FiO2_set', 'Flow_exp_set', 'Flow_insp_set',\n",
    "                       'PEEP_set','PIP_set', 'RR_set', 'Te_set', 'Ti_set', 'VG_set_kg',]\n",
    "\n",
    "# D’Agostino-Pearson normality test\n",
    "from scipy.stats import normaltest\n",
    "statistic_all, p_all = normaltest(data_pars_combined_vg_all[selected_settings_2], \n",
    "                                  axis = 0, nan_policy = 'omit')\n",
    "\n",
    "normality_test_settings = DataFrame([statistic_all, p_all]).T\n",
    "normality_test_settings.index = selected_settings_2\n",
    "normality_test_settings.columns = ['statistic', 'p-value']"
   ]
  },
  {
   "cell_type": "code",
   "execution_count": null,
   "metadata": {},
   "outputs": [],
   "source": [
    "normality_test_settings"
   ]
  },
  {
   "cell_type": "markdown",
   "metadata": {},
   "source": [
    "### Showing the distribution of the set ventilator parameters in all recordings together"
   ]
  },
  {
   "cell_type": "code",
   "execution_count": null,
   "metadata": {},
   "outputs": [],
   "source": [
    "data = data_pars_combined_vg_all['FiO2_set']\n",
    "\n",
    "fig, ax = plt.subplots(figsize = [4,4])\n",
    "ax.hist(data, bins = 10, density = True, color = 'black', alpha = 0.7, log = True)    \n",
    "ax.set_xlabel('%', size = 12)\n",
    "ax.set_ylabel('Probability', size = 12)\n",
    "ax.set_ylim(0.0001, 1)\n",
    "plt.title('FiO2', fontsize = 12)\n",
    "plt.grid(True)\n",
    "\n",
    "fig.savefig('%s/%s.%s' % (DIR_WRITE, 'FiO2_distribution_all', 'jpg'),\n",
    "    dpi = 200, facecolor='w', edgecolor='w', orientation='portrait', papertype=None, format = 'jpg',\n",
    "    transparent=False, bbox_inches='tight', pad_inches=0.1, frameon=True);"
   ]
  },
  {
   "cell_type": "code",
   "execution_count": null,
   "metadata": {},
   "outputs": [],
   "source": [
    "data = data_pars_combined_vg_all['PIP_set']\n",
    "\n",
    "fig, ax = plt.subplots(figsize = [4,4])\n",
    "ax.hist(data, bins = 10, density = True, color = 'black', alpha = 0.7)    \n",
    "# Plot the PDF.\n",
    "xmin, xmax = plt.xlim()\n",
    "x = np.linspace(xmin, xmax, 100)\n",
    "p = stats.norm.pdf(x, data.mean(), data.std())\n",
    "ax.plot(x, p, linewidth=2, color = 'red')\n",
    "ax.set_xlabel('cmH$_2$O', size = 12)\n",
    "ax.set_ylabel('Probability', size = 12)\n",
    "ax.set_xlim(0, data.mean()*2)\n",
    "#ax.set_ylim(0, 0.1)\n",
    "#ax.set_ylim(0, 0.1)\n",
    "plt.title('PIP_set', fontsize = 12)\n",
    "plt.grid(True)\n",
    "\n",
    "fig.savefig('%s/%s.%s' % (DIR_WRITE, 'PIP_set_distribution_all', 'jpg'),\n",
    "    dpi = 200, facecolor='w', edgecolor='w', orientation='portrait', papertype=None, format = 'jpg',\n",
    "    transparent=False, bbox_inches='tight', pad_inches=0.1, frameon=True);"
   ]
  },
  {
   "cell_type": "code",
   "execution_count": null,
   "metadata": {},
   "outputs": [],
   "source": [
    "data = data_pars_combined_vg_all['PEEP_set']\n",
    "data = data[data < 10]\n",
    "\n",
    "fig, ax = plt.subplots(figsize = [4,4])\n",
    "ax.hist(data, bins = 10, density = True, color = 'black', alpha = 0.7)    \n",
    "# Plot the PDF.\n",
    "xmin, xmax = plt.xlim()\n",
    "x = np.linspace(xmin, xmax, 100)\n",
    "p = stats.norm.pdf(x, data.mean(), data.std())\n",
    "ax.plot(x, p, linewidth=2, color = 'red')\n",
    "ax.set_xlabel('cmH$_2$O', size = 12)\n",
    "ax.set_ylabel('Probability', size = 12)\n",
    "ax.set_xlim(0, data.mean()*2)\n",
    "plt.title('PEEP_set', fontsize = 12)\n",
    "plt.grid(True)\n",
    "\n",
    "fig.savefig('%s/%s.%s' % (DIR_WRITE, 'PEEP_set_distribution_all', 'jpg'),\n",
    "    dpi = 200, facecolor='w', edgecolor='w', orientation='portrait', papertype=None, format = 'jpg',\n",
    "    transparent=False, bbox_inches='tight', pad_inches=0.1, frameon=True);"
   ]
  },
  {
   "cell_type": "code",
   "execution_count": null,
   "metadata": {},
   "outputs": [],
   "source": [
    "data = data_pars_combined_vg_all['VG_set_kg']\n",
    "\n",
    "fig, ax = plt.subplots(figsize = [4,4])\n",
    "ax.hist(data, bins = 50, density = True, color = 'black', alpha = 0.7)    \n",
    "# Plot the PDF.\n",
    "xmin, xmax = ax.get_xlim()\n",
    "x = np.linspace(xmin, xmax, 100)\n",
    "p = stats.norm.pdf(x, data.mean(), data.std())\n",
    "ax.plot(x, p, linewidth=2, color = 'red')\n",
    "ax.set_xlabel('mL/kg', size = 12)\n",
    "ax.set_ylabel('Proportion of inflations', size = 12)\n",
    "ax.set_xlim(0, data.mean()*2)\n",
    "plt.title('VTset', fontsize = 12)\n",
    "plt.grid(True)\n",
    "\n",
    "fig.savefig('%s/%s.%s' % (DIR_WRITE, 'VGset_distribution_all', 'jpg'),\n",
    "    dpi = 200, facecolor='w', edgecolor='w', orientation='portrait', papertype=None, format = 'jpg',\n",
    "    transparent=False, bbox_inches='tight', pad_inches=0.1, frameon=True);"
   ]
  },
  {
   "cell_type": "code",
   "execution_count": null,
   "metadata": {},
   "outputs": [],
   "source": [
    "data = data_pars_combined_vg_all['RR_set']\n",
    "\n",
    "fig, ax = plt.subplots(figsize = [4,4])\n",
    "ax.hist(data, bins = 15, density = True, color = 'black', alpha = 0.7)    \n",
    "# Plot the PDF.\n",
    "xmin, xmax = ax.get_xlim()\n",
    "x = np.linspace(xmin, xmax, 100)\n",
    "p = stats.norm.pdf(x, data.mean(), data.std())\n",
    "ax.plot(x, p, linewidth=2, color = 'red')\n",
    "ax.set_xlabel('1/min', size = 12)\n",
    "ax.set_ylabel('Proportion of inflations', size = 12)\n",
    "ax.set_xlim(0, data.mean()*2)\n",
    "plt.title('RRset', fontsize = 12)\n",
    "plt.grid(True)\n",
    "\n",
    "fig.savefig('%s/%s.%s' % (DIR_WRITE, 'RRset_distribution_all', 'jpg'),\n",
    "    dpi = 200, facecolor='w', edgecolor='w', orientation='portrait', papertype=None, format = 'jpg',\n",
    "    transparent=False, bbox_inches='tight', pad_inches=0.1, frameon=True);"
   ]
  },
  {
   "cell_type": "markdown",
   "metadata": {},
   "source": [
    "### Descriptive statistics on the set ventilator parameters in the individual recordings"
   ]
  },
  {
   "cell_type": "code",
   "execution_count": null,
   "metadata": {
    "scrolled": false
   },
   "outputs": [],
   "source": [
    "vent_settings_stats_indiv = grouped_rec[selected_settings].describe(percentiles = \n",
    "                                                        [0.01, 0.05, 0.25, 0.5, 0.75, 0.95, 0.99])\n",
    "vent_settings_stats_indiv_sel = grouped_rec[selected_settings].describe(percentiles = \n",
    "                                                        [0.25, 0.5, 0.75])\n",
    "\n",
    "vent_settings_stats_indiv_sel.head()"
   ]
  },
  {
   "cell_type": "code",
   "execution_count": null,
   "metadata": {},
   "outputs": [],
   "source": [
    "vent_settings_mean_stats = round(grouped_rec[selected_settings].mean().describe(percentiles = \n",
    "                                                        [0.01, 0.05, 0.25, 0.5, 0.75, 0.95, 0.99]), 2).T\n",
    "vent_settings_mean_stats"
   ]
  },
  {
   "cell_type": "code",
   "execution_count": null,
   "metadata": {},
   "outputs": [],
   "source": [
    "vent_settings_median_stats = round(grouped_rec[selected_settings].median().describe(percentiles = \n",
    "                                                        [0.01, 0.05, 0.25, 0.5, 0.75, 0.95, 0.99]), 2).T\n",
    "vent_settings_median_stats"
   ]
  },
  {
   "cell_type": "code",
   "execution_count": null,
   "metadata": {},
   "outputs": [],
   "source": [
    "# Save statistics on ventilator settings\n",
    "writer = pd.ExcelWriter('%s/%s' % (DIR_WRITE, 'vent_settings_stats_vg.xlsx'))\n",
    "vent_settings_stats_combined.to_excel(writer, 'vent_settings_stats_combined')\n",
    "vent_settings_stats_indiv.to_excel(writer, 'vent_settings_stats_indiv')\n",
    "vent_settings_stats_indiv_sel.to_excel(writer, 'vent_settings_stats_indiv_sel')\n",
    "vent_settings_mean_stats.to_excel(writer, 'vent_settings_mean_stats')\n",
    "vent_settings_median_stats.to_excel(writer, 'vent_settings_median_stats')\n",
    "writer.save()"
   ]
  },
  {
   "cell_type": "markdown",
   "metadata": {},
   "source": [
    "### Descriptive statistics on the categorical ventilator settings in all recordings together "
   ]
  },
  {
   "cell_type": "code",
   "execution_count": null,
   "metadata": {},
   "outputs": [],
   "source": [
    "selected_settings_categorical = ['Flow_sensor_state', 'Measuring_unit_pressure_set', \n",
    "        'Oxy_sensor_state', 'Patient_range', 'Powerstate',\n",
    "       'Pressure_rise_control',  'Trigger_mode', 'VG_state', 'Ventilation_stopped',\n",
    "       'Ventilator_mode', 'Ventilator_range']"
   ]
  },
  {
   "cell_type": "code",
   "execution_count": null,
   "metadata": {},
   "outputs": [],
   "source": [
    "vent_settings_stats_cat_combined = round(data_pars_combined_vg_all[selected_settings_categorical].describe(percentiles = \n",
    "                                                      [0.01, 0.05, 0.25, 0.5, 0.75, 0.95, 0.99]), 2)\n",
    "vent_settings_stats_cat_combined = vent_settings_stats_cat_combined.T\n",
    "vent_settings_stats_cat_combined"
   ]
  },
  {
   "cell_type": "markdown",
   "metadata": {},
   "source": [
    "### Descriptive statistics on the categorical ventilator settings in the individual recordings"
   ]
  },
  {
   "cell_type": "code",
   "execution_count": null,
   "metadata": {},
   "outputs": [],
   "source": [
    "vent_settings_stats_cat_indiv = grouped_rec[selected_settings_categorical].describe(percentiles = \n",
    "                                                        [0.01, 0.05, 0.25, 0.5, 0.75, 0.95, 0.99])\n",
    "vent_settings_stats_cat_indiv_sel = grouped_rec[selected_settings_categorical].describe(percentiles = \n",
    "                                                        [0.25, 0.5, 0.75,])\n",
    "\n",
    "vent_settings_stats_cat_indiv_sel.head()"
   ]
  },
  {
   "cell_type": "code",
   "execution_count": null,
   "metadata": {},
   "outputs": [],
   "source": [
    "# Save statistics on ventilator settings\n",
    "writer = pd.ExcelWriter('%s/%s' % (DIR_WRITE, 'vent_settings_cat_stats_vg.xlsx'))\n",
    "vent_settings_stats_cat_combined.to_excel(writer, 'combined')\n",
    "vent_settings_stats_cat_indiv.to_excel(writer, 'individual')\n",
    "vent_settings_stats_cat_indiv_sel.to_excel(writer, 'individual_sel')\n",
    "writer.save()"
   ]
  },
  {
   "cell_type": "markdown",
   "metadata": {},
   "source": [
    "## Descriptive statistics on `ventilator alarms`"
   ]
  },
  {
   "cell_type": "code",
   "execution_count": null,
   "metadata": {},
   "outputs": [],
   "source": [
    "data_pars_alarms_vg_all = pd.concat(data_pars_alarms_vg, sort = True)\n",
    "data_pars_alarms_vg_all.fillna(0, inplace = True)"
   ]
  },
  {
   "cell_type": "code",
   "execution_count": null,
   "metadata": {},
   "outputs": [],
   "source": [
    "len(data_pars_alarms_vg_all)"
   ]
  },
  {
   "cell_type": "code",
   "execution_count": null,
   "metadata": {},
   "outputs": [],
   "source": [
    "data_pars_alarms_vg_all.head()"
   ]
  },
  {
   "cell_type": "code",
   "execution_count": null,
   "metadata": {},
   "outputs": [],
   "source": [
    "data_pars_alarms_vg_all.columns"
   ]
  },
  {
   "cell_type": "code",
   "execution_count": null,
   "metadata": {},
   "outputs": [],
   "source": [
    "data_pars_alarms_vg_all.sum() / len(data_pars_alarms_vg_all) * 100"
   ]
  },
  {
   "cell_type": "code",
   "execution_count": null,
   "metadata": {},
   "outputs": [],
   "source": [
    "data_pars_alarms_vg_all.reset_index(level = 1, inplace = True)\n",
    "grouped = data_pars_alarms_vg_all.groupby(data_pars_alarms_vg_all.index)"
   ]
  },
  {
   "cell_type": "code",
   "execution_count": null,
   "metadata": {},
   "outputs": [],
   "source": [
    "alarm_counts = grouped.sum()\n",
    "alarm_counts.head()"
   ]
  },
  {
   "cell_type": "code",
   "execution_count": null,
   "metadata": {},
   "outputs": [],
   "source": [
    "alarm_pc = grouped.sum().div(grouped.size(), axis = 0) * 100\n",
    "alarm_pc.head()"
   ]
  },
  {
   "cell_type": "code",
   "execution_count": null,
   "metadata": {},
   "outputs": [],
   "source": [
    "# Save statistics into Excel file\n",
    "writer = pd.ExcelWriter('%s/%s' % (DIR_WRITE, 'alarm_stats_ventilated_vg.xlsx'))\n",
    "alarm_counts.to_excel(writer, 'alarm_counts')\n",
    "alarm_pc.to_excel(writer, 'alarm_pc')\n",
    "writer.save()"
   ]
  },
  {
   "cell_type": "markdown",
   "metadata": {},
   "source": [
    "## Calculate `VTdiff` and `Pdiff` for all recordings"
   ]
  },
  {
   "cell_type": "markdown",
   "metadata": {},
   "source": [
    "For SIPPV recordings VTmand_resp is missing all breaths are are considered ventilator inflations - see code below to prove this "
   ]
  },
  {
   "cell_type": "raw",
   "metadata": {},
   "source": [
    "for case in cases:\n",
    "    print(case, data_pars_settings_vg[case]['Ventilator_mode'].unique())\n",
    "    \n",
    "    try:\n",
    "        print(len(data_pars_measurements_vg[case]['VTemand_resp_kg'].unique()))\n",
    "    \n",
    "    except KeyError:\n",
    "        print ('No VTemand_resp_kg data')"
   ]
  },
  {
   "cell_type": "code",
   "execution_count": null,
   "metadata": {},
   "outputs": [],
   "source": [
    "# For SIPPV recordings calculate Vdiff from VTemand other wise from VTemand_resp\n",
    "\n",
    "data_pars_combined_vg_all['VT_diff_kg'] = np.where(data_pars_combined_vg_all['Ventilator_mode'] == 'SIPPV',\n",
    "            data_pars_combined_vg_all['VTemand_kg'] - data_pars_combined_vg_all['VG_set_kg'],\n",
    "            data_pars_combined_vg_all['VTemand_resp_kg'] - data_pars_combined_vg_all['VG_set_kg'])\n",
    "\n",
    "data_pars_combined_vg_all['VT_diff_kg_abs'] = np.abs(data_pars_combined_vg_all['VT_diff_kg'])"
   ]
  },
  {
   "cell_type": "code",
   "execution_count": null,
   "metadata": {},
   "outputs": [],
   "source": [
    "data_pars_combined_vg_all['P_diff'] = data_pars_combined_vg_all['PIP_set'] - data_pars_combined_vg_all['PIP']\n",
    "\n",
    "data_pars_combined_vg_all['P_diff_abs'] = np.abs(data_pars_combined_vg_all['P_diff'])"
   ]
  },
  {
   "cell_type": "markdown",
   "metadata": {},
   "source": [
    "### Descriptive statistics on VTdiff and Pdiff in all recordings"
   ]
  },
  {
   "cell_type": "code",
   "execution_count": null,
   "metadata": {},
   "outputs": [],
   "source": [
    "calculated_pars = ['VT_diff_kg', 'VT_diff_kg_abs', 'P_diff', 'P_diff_abs']"
   ]
  },
  {
   "cell_type": "code",
   "execution_count": null,
   "metadata": {},
   "outputs": [],
   "source": [
    "grouped_rec = data_pars_combined_vg_all.reset_index().groupby('recording')"
   ]
  },
  {
   "cell_type": "code",
   "execution_count": null,
   "metadata": {},
   "outputs": [],
   "source": [
    "vent_calc_stats_combined = round(data_pars_combined_vg_all[calculated_pars].describe(percentiles = \n",
    "                                                      [0.01, 0.05, 0.25, 0.5, 0.75, 0.95, 0.99]), 2)\n",
    "vent_calc_stats_combined = vent_calc_stats_combined.T\n",
    "vent_calc_stats_combined"
   ]
  },
  {
   "cell_type": "code",
   "execution_count": null,
   "metadata": {},
   "outputs": [],
   "source": [
    "len(data_pars_combined_vg_all['VT_diff_kg_abs'][data_pars_combined_vg_all['VT_diff_kg_abs'] < 1]) /\\\n",
    "    len(data_pars_combined_vg_all['VT_diff_kg_abs'])"
   ]
  },
  {
   "cell_type": "code",
   "execution_count": null,
   "metadata": {},
   "outputs": [],
   "source": [
    "len(data_pars_combined_vg_all['VT_diff_kg_abs'][data_pars_combined_vg_all['VT_diff_kg_abs'] < 0.2]) /\\\n",
    "    len(data_pars_combined_vg_all['VT_diff_kg_abs'])"
   ]
  },
  {
   "cell_type": "code",
   "execution_count": null,
   "metadata": {},
   "outputs": [],
   "source": [
    "len(data_pars_combined_vg_all['P_diff'][data_pars_combined_vg_all['P_diff'] <= 0]) /\\\n",
    "    len(data_pars_combined_vg_all['P_diff'])"
   ]
  },
  {
   "cell_type": "code",
   "execution_count": null,
   "metadata": {},
   "outputs": [],
   "source": [
    "data = data_pars_combined_vg_all['VT_diff_kg_abs']\n",
    "data = data[data < 15]\n",
    "\n",
    "fig, ax = plt.subplots(figsize = [4,4])\n",
    "ax.hist(data, histtype = 'bar', bins = 20, density = True, color = 'black', alpha = 0.7, log = True )    \n",
    "# Plot the PDF.\n",
    "xmin, xmax = ax.get_xlim()\n",
    "x = np.linspace(-12, 12, 100)\n",
    "#p = stats.norm.pdf(x, data.mean(), data.std())\n",
    "#ax.plot(x, p, linewidth=2, color = 'red', )\n",
    "ax.set_xlabel('mL/kg', size = 12)\n",
    "ax.set_ylabel('Probability', size = 12)\n",
    "#ax.set_ylim(0.00001, 2)\n",
    "plt.title('VTdiff', fontsize = 12)\n",
    "plt.grid(True)\n",
    "\n",
    "fig.savefig('%s/%s.%s' % (DIR_WRITE, 'VTdiff_distribution_all', 'jpg'),\n",
    "    dpi = 200, facecolor='w', edgecolor='w', orientation='portrait', papertype=None, format = 'jpg',\n",
    "    transparent=False, bbox_inches='tight', pad_inches=0.1, frameon=True);"
   ]
  },
  {
   "cell_type": "code",
   "execution_count": null,
   "metadata": {},
   "outputs": [],
   "source": [
    "data = data_pars_combined_vg_all['P_diff']\n",
    "data = data[data > -5]\n",
    "\n",
    "fig, ax = plt.subplots(figsize = [4,4])\n",
    "ax.hist(data, bins = 20, density = True, color = 'black', alpha = 0.7)    \n",
    "# Plot the PDF.\n",
    "xmin, xmax = plt.xlim()\n",
    "x = np.linspace(xmin, xmax, 100)\n",
    "p = stats.norm.pdf(x, data.mean(), data.std())\n",
    "# ax.plot(x, p, linewidth=2, color = 'red')\n",
    "ax.set_xlabel('cmH$_2$O', size = 12)\n",
    "ax.set_ylabel('Probability', size = 12)\n",
    "ax.set_xlim(-10, 40)\n",
    "ax.set_ylim(0, 0.1)\n",
    "plt.title('Pdiff', fontsize = 12)\n",
    "plt.grid(True)\n",
    "\n",
    "fig.savefig('%s/%s.%s' % (DIR_WRITE, 'Pdiff_distribution_all', 'jpg'),\n",
    "    dpi = 200, facecolor='w', edgecolor='w', orientation='portrait', papertype=None, format = 'jpg',\n",
    "    transparent=False, bbox_inches='tight', pad_inches=0.1, frameon=True);"
   ]
  },
  {
   "cell_type": "markdown",
   "metadata": {},
   "source": [
    "### Descriptive statistics on VTdiff and Pdiff in the individual recordings"
   ]
  },
  {
   "cell_type": "code",
   "execution_count": null,
   "metadata": {
    "scrolled": false
   },
   "outputs": [],
   "source": [
    "vent_calc_stats_indiv = round(grouped_rec[calculated_pars].describe(percentiles = \n",
    "                                                        [0.01, 0.05, 0.25, 0.5, 0.75, 0.95, 0.99]), 2)\n",
    "vent_calc_stats_indiv_sel = round(grouped_rec[calculated_pars].describe(percentiles = \n",
    "                                                        [0.25, 0.5, 0.75]), 2)\n",
    "vent_calc_stats_indiv_sel.head()"
   ]
  },
  {
   "cell_type": "code",
   "execution_count": null,
   "metadata": {},
   "outputs": [],
   "source": [
    "vent_calc_mean_stats = round(grouped_rec[calculated_pars].mean().describe(percentiles = \n",
    "                                                        [0.01, 0.05, 0.25, 0.5, 0.75, 0.95, 0.99]), 2).T\n",
    "vent_calc_mean_stats"
   ]
  },
  {
   "cell_type": "code",
   "execution_count": null,
   "metadata": {},
   "outputs": [],
   "source": [
    "vent_calc_median_stats = round(grouped_rec[calculated_pars].median().describe(percentiles = \n",
    "                                                        [0.01, 0.05, 0.25, 0.5, 0.75, 0.95, 0.99]), 2).T\n",
    "vent_calc_median_stats"
   ]
  },
  {
   "cell_type": "code",
   "execution_count": null,
   "metadata": {},
   "outputs": [],
   "source": [
    "# Save statistics on ventilator settings\n",
    "writer = pd.ExcelWriter('%s/%s' % (DIR_WRITE, 'vent_calc_stats_vg.xlsx'))\n",
    "vent_calc_stats_combined.to_excel(writer, 'vent_calc_stats_combined')\n",
    "vent_calc_stats_indiv.to_excel(writer, 'vent_calc_stats_indiv')\n",
    "vent_calc_stats_indiv_sel.to_excel(writer, 'vent_calc_stats_indiv_sel')\n",
    "vent_calc_mean_stats.to_excel(writer, 'vent_calc_mean_stats')\n",
    "vent_calc_median_stats.to_excel(writer, 'vent_calc_median_stats')\n",
    "writer.save()"
   ]
  },
  {
   "cell_type": "markdown",
   "metadata": {},
   "source": [
    "### Analyse distribution of `VTdiff_kg` considering all inflations"
   ]
  },
  {
   "cell_type": "code",
   "execution_count": null,
   "metadata": {},
   "outputs": [],
   "source": [
    "np.abs(data_pars_combined_vg_all['VT_diff_kg']).describe()"
   ]
  },
  {
   "cell_type": "markdown",
   "metadata": {},
   "source": [
    "#### In how many percent of inflations was the absolute value of VTdiff less than 1 mL/kg?"
   ]
  },
  {
   "cell_type": "code",
   "execution_count": null,
   "metadata": {},
   "outputs": [],
   "source": [
    "sum(np.abs(data_pars_combined_vg_all['VT_diff_kg']) < 1)"
   ]
  },
  {
   "cell_type": "code",
   "execution_count": null,
   "metadata": {
    "scrolled": true
   },
   "outputs": [],
   "source": [
    "sum(np.abs(data_pars_combined_vg_all['VT_diff_kg']) < 1) / len(data_pars_combined_vg_all['VT_diff_kg'])"
   ]
  },
  {
   "cell_type": "code",
   "execution_count": null,
   "metadata": {},
   "outputs": [],
   "source": [
    "sum(np.abs(data_pars_combined_vg_all['VT_diff_kg']) < 0.2)"
   ]
  },
  {
   "cell_type": "code",
   "execution_count": null,
   "metadata": {},
   "outputs": [],
   "source": [
    "sum(np.abs(data_pars_combined_vg_all['VT_diff_kg']) < 0.2) / len(data_pars_combined_vg_all['VT_diff_kg'])"
   ]
  },
  {
   "cell_type": "code",
   "execution_count": null,
   "metadata": {},
   "outputs": [],
   "source": [
    "bins = np.arange(-11, 14, 2)\n",
    "\n",
    "cats_VTdiff = pd.cut(data_pars_combined_vg_all['VT_diff_kg'], bins = bins, right = True)\n",
    "cats_VTdiff.value_counts().sort_index()"
   ]
  },
  {
   "cell_type": "code",
   "execution_count": null,
   "metadata": {},
   "outputs": [],
   "source": [
    "(cats_VTdiff.value_counts() / len(cats_VTdiff)) * 100"
   ]
  },
  {
   "cell_type": "code",
   "execution_count": null,
   "metadata": {},
   "outputs": [],
   "source": [
    "fig, ax = plt.subplots(figsize = [8,4])\n",
    "cats_VTdiff.value_counts().sort_index().plot(kind = 'bar', logy = False, \n",
    "                        title = 'VT_diff', color = 'black', alpha = 0.7, fontsize = 14)\n",
    "ax.set_xlabel('range (mL/kg)', size = 14)\n",
    "ax.set_ylabel('number of inflations', size = 14)\n",
    "plt.title('VTdiff', fontsize = 16)\n",
    "plt.grid(True)\n",
    "\n",
    "fig.savefig('%s/%s.%s' % (DIR_WRITE, 'VTdiff_distribution_all', 'jpg'),\n",
    "    dpi = 200, facecolor='w', edgecolor='w', orientation='portrait', papertype=None, format = 'jpg',\n",
    "    transparent=False, bbox_inches='tight', pad_inches=0.1, frameon=True);"
   ]
  },
  {
   "cell_type": "code",
   "execution_count": null,
   "metadata": {},
   "outputs": [],
   "source": [
    "fig, ax = plt.subplots(figsize = [8,4])\n",
    "cats_VTdiff.value_counts().sort_index().plot(kind = 'bar', logy = True, \n",
    "                        title = 'VT_diff', color = 'black', alpha = 0.7, fontsize = 14)\n",
    "ax.set_xlabel('range (mL/kg)', size = 14)\n",
    "ax.set_ylabel('number of inflations', size = 14)\n",
    "plt.title('VTdiff', fontsize = 16)\n",
    "plt.grid(True)\n",
    "\n",
    "fig.savefig('%s/%s.%s' % (DIR_WRITE, 'VTdiff_distribution_all_log', 'jpg'),\n",
    "    dpi = 200, facecolor='w', edgecolor='w', orientation='portrait', papertype=None, format = 'jpg',\n",
    "    transparent=False, bbox_inches='tight', pad_inches=0.1, frameon=True);"
   ]
  },
  {
   "cell_type": "code",
   "execution_count": null,
   "metadata": {
    "scrolled": true
   },
   "outputs": [],
   "source": [
    "bins = list(np.arange(-4, 5, 1))\n",
    "\n",
    "cats_VTdiff = pd.cut(data_pars_combined_vg_all['VT_diff_kg'], bins = bins, right = True)\n",
    "cats_VTdiff.value_counts().sort_index()"
   ]
  },
  {
   "cell_type": "code",
   "execution_count": null,
   "metadata": {},
   "outputs": [],
   "source": [
    "(cats_VTdiff.value_counts() / len(cats_VTdiff)) * 100"
   ]
  },
  {
   "cell_type": "code",
   "execution_count": null,
   "metadata": {},
   "outputs": [],
   "source": [
    "labels = ['-4 - -3', '-3 - -2', '-2 - -1', '-1 - 0', '0 - 1', '1 - 2', '2 - 3', '3 - 4']\n",
    "fig, ax = plt.subplots(figsize = [8,4])\n",
    "cats_VTdiff.value_counts().sort_index().plot(kind = 'bar', logy = False, \n",
    "                        title = 'VT_diff', color = 'black', alpha = 0.7, fontsize = 14)\n",
    "ax.set_xlabel('range (mL/kg)', size = 14)\n",
    "ax.set_ylabel('number of inflations', size = 14)\n",
    "ax.set_xticklabels(labels, rotation = '90', size = 14)\n",
    "plt.title('VTdiff', fontsize = 16)\n",
    "plt.grid(True)\n",
    "\n",
    "fig.savefig('%s/%s.%s' % (DIR_WRITE, 'VTdiff_distribution_all_2', 'jpg'),\n",
    "    dpi = 200, facecolor='w', edgecolor='w', orientation='portrait', papertype=None, format = 'jpg',\n",
    "    transparent=False, bbox_inches='tight', pad_inches=0.1, frameon=True);"
   ]
  },
  {
   "cell_type": "code",
   "execution_count": null,
   "metadata": {
    "scrolled": false
   },
   "outputs": [],
   "source": [
    "labels = ['-4 - -3', '-3 - -2', '-2 - -1', '-1 - 0', '0 - 1', '1 - 2', '2 - 3', '3 - 4']\n",
    "fig, ax = plt.subplots(figsize = [8,4])\n",
    "cats_VTdiff.value_counts().sort_index().plot(kind = 'bar', logy = True, \n",
    "                        title = 'VT_diff', color = 'black', alpha = 0.7, fontsize = 14)\n",
    "ax.set_xlabel('range (mL/kg)', size = 14)\n",
    "ax.set_ylabel('number of inflations', size = 14)\n",
    "ax.set_xticklabels(labels, rotation = '90', size = 14)\n",
    "plt.title('VTdiff', fontsize = 16)\n",
    "plt.grid(True)\n",
    "\n",
    "fig.savefig('%s/%s.%s' % (DIR_WRITE, 'VTdiff_distribution_all_2_log', 'jpg'),\n",
    "    dpi = 200, facecolor='w', edgecolor='w', orientation='portrait', papertype=None, format = 'jpg',\n",
    "    transparent=False, bbox_inches='tight', pad_inches=0.1, frameon=True);"
   ]
  },
  {
   "cell_type": "code",
   "execution_count": null,
   "metadata": {},
   "outputs": [],
   "source": [
    "bins = list(np.arange(-2, 2.1, 0.2))\n",
    "\n",
    "cats_VTdiff = pd.cut(data_pars_combined_vg_all['VT_diff_kg'], bins = bins, right = True)\n",
    "cats_VTdiff.value_counts().sort_index()"
   ]
  },
  {
   "cell_type": "code",
   "execution_count": null,
   "metadata": {},
   "outputs": [],
   "source": [
    "(cats_VTdiff.value_counts() / len(cats_VTdiff)) * 100"
   ]
  },
  {
   "cell_type": "code",
   "execution_count": null,
   "metadata": {},
   "outputs": [],
   "source": [
    "labels = ['-2 - -1.8', '-1.8 - -1.6', '-1.6 - -1.4', '-1.4 - -1.2', '-1.2 - -1', \n",
    "          '-1 - -0.8', '-0.8 - -0.6', '-0.6 - -0.4', '-0.4 - -0.2', '-0.2 - 0',\n",
    "          '0 - 0.2', '0.2 - 0.4', '0.4 - 0.6', '0.6 - 0.8', '0.8 - 1',\n",
    "          '1 - 1.2', '1.2 - 1.4', '1.4 - 1.6', '1.6 - 1.8', '1.8 - 2']\n",
    "fig, ax = plt.subplots(figsize = [8,4])\n",
    "cats_VTdiff.value_counts().sort_index().plot(kind = 'bar', logy = False, \n",
    "                        title = 'VT_diff', color = 'black', alpha = 0.7, fontsize = 14)\n",
    "\n",
    "ax.set_xlabel('range (mL/kg)', size = 14)\n",
    "ax.set_ylabel('number of inflations', size = 14)\n",
    "ax.set_xticklabels(labels, rotation = '90', size = 14)\n",
    "plt.title('VTdiff', fontsize = 16)\n",
    "plt.grid(True)\n",
    "\n",
    "fig.savefig('%s/%s.%s' % (DIR_WRITE, 'VTdiff_distribution_all_3', 'jpg'),\n",
    "    dpi = 200, facecolor='w', edgecolor='w', orientation='portrait', papertype=None, format = 'jpg',\n",
    "    transparent=False, bbox_inches='tight', pad_inches=0.1, frameon=True);"
   ]
  },
  {
   "cell_type": "code",
   "execution_count": null,
   "metadata": {},
   "outputs": [],
   "source": [
    "labels = ['-2 - -1.8', '-1.8 - -1.6', '-1.6 - -1.4', '-1.4 - -1.2', '-1.2 - -1', \n",
    "          '-1 - -0.8', '-0.8 - -0.6', '-0.6 - -0.4', '-0.4 - -0.2', '-0.2 - 0',\n",
    "          '0 - 0.2', '0.2 - 0.4', '0.4 - 0.6', '0.6 - 0.8', '0.8 - 1',\n",
    "          '1 - 1.2', '1.2 - 1.4', '1.4 - 1.6', '1.6 - 1.8', '1.8 - 2']\n",
    "\n",
    "fig, ax = plt.subplots(figsize = [8,4])\n",
    "cats_VTdiff.value_counts().sort_index().plot(kind = 'bar', logy = True, \n",
    "                        title = 'VT_diff', color = 'black', alpha = 0.7, fontsize = 14)\n",
    "\n",
    "ax.set_xticklabels(labels, rotation = '90', size = 14)\n",
    "ax.set_xlabel('range (mL/kg)', size = 14)\n",
    "ax.set_ylabel('number of inflations', size = 14)\n",
    "plt.title('VTdiff', fontsize = 16)\n",
    "plt.grid(True)\n",
    "\n",
    "fig.savefig('%s/%s.%s' % (DIR_WRITE, 'VTdiff_distribution_all_3_log', 'jpg'),\n",
    "    dpi = 200, facecolor='w', edgecolor='w', orientation='portrait', papertype=None, format = 'jpg',\n",
    "    transparent=False, bbox_inches='tight', pad_inches=0.1, frameon=True);"
   ]
  },
  {
   "cell_type": "markdown",
   "metadata": {},
   "source": [
    "### Analyse distribution of P_diff for all inflations"
   ]
  },
  {
   "cell_type": "code",
   "execution_count": null,
   "metadata": {},
   "outputs": [],
   "source": [
    "data_pars_combined_vg_all['P_diff'].describe()"
   ]
  },
  {
   "cell_type": "code",
   "execution_count": null,
   "metadata": {},
   "outputs": [],
   "source": [
    "bins = np.arange(-17, 32, 2)\n",
    "\n",
    "cats_Pdiff = pd.cut(data_pars_combined_vg_all['P_diff'], bins = bins, right = True)\n",
    "cats_Pdiff.value_counts().sort_index()"
   ]
  },
  {
   "cell_type": "code",
   "execution_count": null,
   "metadata": {},
   "outputs": [],
   "source": [
    "(cats_Pdiff.value_counts() / len(cats_Pdiff)) * 100"
   ]
  },
  {
   "cell_type": "code",
   "execution_count": null,
   "metadata": {},
   "outputs": [],
   "source": [
    "fig, ax = plt.subplots(figsize = [8,6])\n",
    "cats_Pdiff.value_counts().sort_index().plot(kind = 'bar', logy = False, \n",
    "                        title = 'P_diff', color = 'black', alpha = 0.7, fontsize = 14)\n",
    "ax.set_xlabel('range (cmH$_2$O)', size = 14)\n",
    "ax.set_ylabel('number of inflations', size = 14)\n",
    "plt.title('Pdiff', fontsize = 16)\n",
    "plt.grid(True)\n",
    "\n",
    "fig.savefig('%s/%s.%s' % (DIR_WRITE, 'Pdiff_distribution_all', 'jpg'),\n",
    "    dpi = 200, facecolor='w', edgecolor='w', orientation='portrait', papertype=None, format = 'jpg',\n",
    "    transparent=False, bbox_inches='tight', pad_inches=0.1, frameon=True);"
   ]
  },
  {
   "cell_type": "code",
   "execution_count": null,
   "metadata": {},
   "outputs": [],
   "source": [
    "fig, ax = plt.subplots(figsize = [8,6])\n",
    "cats_Pdiff.value_counts().sort_index().plot(kind = 'bar', logy = True, \n",
    "                        title = 'P_diff', color = 'black', alpha = 0.7, fontsize = 14)\n",
    "ax.set_xlabel('range (cmH$_2$O)', size = 14)\n",
    "ax.set_ylabel('number of inflations', size = 14)\n",
    "plt.title('Pdiff', fontsize = 16)\n",
    "plt.grid(True)\n",
    "\n",
    "fig.savefig('%s/%s.%s' % (DIR_WRITE, 'Pdiff_distribution_all_log', 'jpg'),\n",
    "    dpi = 200, facecolor='w', edgecolor='w', orientation='portrait', papertype=None, format = 'jpg',\n",
    "    transparent=False, bbox_inches='tight', pad_inches=0.1, frameon=True);"
   ]
  },
  {
   "cell_type": "code",
   "execution_count": null,
   "metadata": {
    "scrolled": true
   },
   "outputs": [],
   "source": [
    "bins = [-20] + list(np.arange(-5, 35, 5))\n",
    "\n",
    "cats_Pdiff = pd.cut(data_pars_combined_vg_all['P_diff'], bins = bins, right = True)\n",
    "cats_Pdiff.value_counts().sort_index()"
   ]
  },
  {
   "cell_type": "code",
   "execution_count": null,
   "metadata": {},
   "outputs": [],
   "source": [
    "(cats_Pdiff.value_counts() / len(cats_Pdiff)) * 100"
   ]
  },
  {
   "cell_type": "code",
   "execution_count": null,
   "metadata": {},
   "outputs": [],
   "source": [
    "labels = ['-20 - -5', '-5 - 0', '0 - 5', '5 - 10', '10 - 15',\n",
    "          '15 - 20', '20 - 25', '25 - 30']\n",
    "fig, ax = plt.subplots(figsize = [8,6])\n",
    "cats_Pdiff.value_counts().sort_index().plot(kind = 'bar', logy = False, \n",
    "                         color = 'black', alpha = 0.7, fontsize = 14)\n",
    "ax.set_xlabel('range (cmH$_2$O)', size = 14)\n",
    "ax.set_ylabel('number of inflations', size = 14)\n",
    "ax.set_xticklabels(labels, rotation = '90', size = 14)\n",
    "plt.title('Pdiff', fontsize = 16)\n",
    "plt.grid(True)\n",
    "\n",
    "fig.savefig('%s/%s.%s' % (DIR_WRITE, 'Pdiff_distribution_all_2', 'jpg'),\n",
    "    dpi = 200, facecolor='w', edgecolor='w', orientation='portrait', papertype=None, format = 'jpg',\n",
    "    transparent=False, bbox_inches='tight', pad_inches=0.1, frameon=True);"
   ]
  },
  {
   "cell_type": "markdown",
   "metadata": {},
   "source": [
    "## Consider only those inflations where tidal volume delivery is not limited by leak or ventilator settings.\n",
    "\n",
    "Delivery of VTmand_resp_kg can limited by the following:\n",
    "\n",
    "1. Pmax (PIP_set) too low. In these cases P_diff is <= 0\n",
    "\n",
    "2. Excessive leak. Most but not all of these cases P_diff is <= 0 \n",
    "\n",
    "(in case of very large, >80-90% leak, Pdiff can be > 0 because the peak pressure the ventilator is aiming to reach in the circuit cannot be established due to the excessive leak\n",
    "\n",
    "3. Inspiratory time too short to deliver the targetet VT. \n",
    "\n",
    "This can happen if the rise time is too long compared to the Ti. However, in this scenario during VG ventilation, PIP would be quickly increased to Pmax therefore P_diff will be <=0"
   ]
  },
  {
   "cell_type": "markdown",
   "metadata": {},
   "source": [
    "### How frequently was Pmax reached"
   ]
  },
  {
   "cell_type": "code",
   "execution_count": null,
   "metadata": {},
   "outputs": [],
   "source": [
    "sum(data_pars_combined_vg_all['P_diff'] <= 0)  "
   ]
  },
  {
   "cell_type": "code",
   "execution_count": null,
   "metadata": {},
   "outputs": [],
   "source": [
    "sum(data_pars_combined_vg_all['P_diff'] <= 0)  / len(data_pars_combined_vg_all['P_diff'])"
   ]
  },
  {
   "cell_type": "markdown",
   "metadata": {},
   "source": [
    "### What was the distribution of leak"
   ]
  },
  {
   "cell_type": "code",
   "execution_count": null,
   "metadata": {},
   "outputs": [],
   "source": [
    "bins = np.arange(0, 101, 10)\n",
    "\n",
    "cats_leak = pd.cut(data_pars_combined_vg_all['Leak'], bins = bins, right = False)\n",
    "cats_leak.value_counts().sort_index()"
   ]
  },
  {
   "cell_type": "code",
   "execution_count": null,
   "metadata": {},
   "outputs": [],
   "source": [
    "sum(data_pars_combined_vg_all['Leak'] < 10)"
   ]
  },
  {
   "cell_type": "code",
   "execution_count": null,
   "metadata": {},
   "outputs": [],
   "source": [
    "# Leak was <10% in 90% of inflations\n",
    "sum(data_pars_combined_vg_all['Leak'] < 10) / len(data_pars_combined_vg_all['Leak']) "
   ]
  },
  {
   "cell_type": "code",
   "execution_count": null,
   "metadata": {},
   "outputs": [],
   "source": [
    "sum(data_pars_combined_vg_all['Leak'] < 50)"
   ]
  },
  {
   "cell_type": "code",
   "execution_count": null,
   "metadata": {},
   "outputs": [],
   "source": [
    "# Leak was <50% in 98% of inflations\n",
    "sum(data_pars_combined_vg_all['Leak'] < 50) / len(data_pars_combined_vg_all['Leak']) "
   ]
  },
  {
   "cell_type": "markdown",
   "metadata": {},
   "source": [
    "### Effect of leak on P_diff"
   ]
  },
  {
   "cell_type": "markdown",
   "metadata": {},
   "source": [
    "#### Leak less than 50%"
   ]
  },
  {
   "cell_type": "code",
   "execution_count": null,
   "metadata": {},
   "outputs": [],
   "source": [
    "bins = np.arange(-17, 32, 2)\n",
    "\n",
    "sel = data_pars_combined_vg_all[data_pars_combined_vg_all['Leak'] < 50]\n",
    "\n",
    "cats_Pdiff = pd.cut(sel['P_diff'], bins = bins, right = True)\n",
    "cats_Pdiff.value_counts().sort_index()"
   ]
  },
  {
   "cell_type": "code",
   "execution_count": null,
   "metadata": {},
   "outputs": [],
   "source": [
    "(cats_Pdiff.value_counts() / len(cats_Pdiff)) * 100;"
   ]
  },
  {
   "cell_type": "code",
   "execution_count": null,
   "metadata": {},
   "outputs": [],
   "source": [
    "fig, ax = plt.subplots(figsize = [8,6])\n",
    "cats_Pdiff.value_counts().sort_index().plot(kind = 'bar', logy = False, \n",
    "                        title = 'P_diff', color = 'black', alpha = 0.7, fontsize = 14)\n",
    "ax.set_xlabel('range (cmH$_2$O)', size = 14)\n",
    "ax.set_ylabel('number of inflations', size = 14)\n",
    "plt.title('Pdiff', fontsize = 16)\n",
    "plt.grid(True)\n",
    "\n",
    "fig.savefig('%s/%s.%s' % (DIR_WRITE, 'Pdiff_distribution_leak_below50pc', 'jpg'),\n",
    "    dpi = 200, facecolor='w', edgecolor='w', orientation='portrait', papertype=None, format = 'jpg',\n",
    "    transparent=False, bbox_inches='tight', pad_inches=0.1, frameon=True);"
   ]
  },
  {
   "cell_type": "code",
   "execution_count": null,
   "metadata": {
    "scrolled": true
   },
   "outputs": [],
   "source": [
    "bins = [-20] + list(np.arange(-5, 35, 5))\n",
    "sel = data_pars_combined_vg_all[data_pars_combined_vg_all['Leak'] < 50]\n",
    "cats_Pdiff = pd.cut(sel['P_diff'], bins = bins, right = True)\n",
    "cats_Pdiff.value_counts().sort_index()"
   ]
  },
  {
   "cell_type": "code",
   "execution_count": null,
   "metadata": {},
   "outputs": [],
   "source": [
    "(cats_Pdiff.value_counts() / len(cats_Pdiff)) * 100;"
   ]
  },
  {
   "cell_type": "code",
   "execution_count": null,
   "metadata": {},
   "outputs": [],
   "source": [
    "labels = ['-20 - -5', '-5 - 0', '0 - 5', '5 - 10', '10 - 15',\n",
    "          '15 - 20', '20 - 25', '25 - 30']\n",
    "fig, ax = plt.subplots(figsize = [8,6])\n",
    "cats_Pdiff.value_counts().sort_index().plot(kind = 'bar', logy = False, \n",
    "                         color = 'black', alpha = 0.7, fontsize = 14)\n",
    "ax.set_xlabel('range (cmH$_2$O)', size = 14)\n",
    "ax.set_ylabel('number of inflations', size = 14)\n",
    "ax.set_xticklabels(labels, rotation = '90', size = 14)\n",
    "ax.set_ylim(0, 70000)\n",
    "plt.title('Pdiff', fontsize = 16)\n",
    "plt.grid(True)\n",
    "\n",
    "fig.savefig('%s/%s.%s' % (DIR_WRITE, 'Pdiff_distribution_2_leak_below50pc', 'jpg'),\n",
    "    dpi = 200, facecolor='w', edgecolor='w', orientation='portrait', papertype=None, format = 'jpg',\n",
    "    transparent=False, bbox_inches='tight', pad_inches=0.1, frameon=True);"
   ]
  },
  {
   "cell_type": "markdown",
   "metadata": {},
   "source": [
    "#### Leak >=50%"
   ]
  },
  {
   "cell_type": "code",
   "execution_count": null,
   "metadata": {},
   "outputs": [],
   "source": [
    "bins = np.arange(-17, 32, 2)\n",
    "\n",
    "sel = data_pars_combined_vg_all[data_pars_combined_vg_all['Leak'] >= 50]\n",
    "\n",
    "cats_Pdiff = pd.cut(sel['P_diff'], bins = bins, right = True)\n",
    "cats_Pdiff.value_counts().sort_index()"
   ]
  },
  {
   "cell_type": "code",
   "execution_count": null,
   "metadata": {},
   "outputs": [],
   "source": [
    "(cats_Pdiff.value_counts() / len(cats_Pdiff)) * 100"
   ]
  },
  {
   "cell_type": "code",
   "execution_count": null,
   "metadata": {},
   "outputs": [],
   "source": [
    "fig, ax = plt.subplots(figsize = [8,6])\n",
    "cats_Pdiff.value_counts().sort_index().plot(kind = 'bar', logy = False, \n",
    "                        title = 'P_diff', color = 'black', alpha = 0.7, fontsize = 14)\n",
    "ax.set_xlabel('range (cmH$_2$O)', size = 14)\n",
    "ax.set_ylabel('number of inflations', size = 14)\n",
    "plt.title('Pdiff', fontsize = 16)\n",
    "plt.grid(True)\n",
    "\n",
    "fig.savefig('%s/%s.%s' % (DIR_WRITE, 'Pdiff_distribution_leak_over50pc', 'jpg'),\n",
    "    dpi = 200, facecolor='w', edgecolor='w', orientation='portrait', papertype=None, format = 'jpg',\n",
    "    transparent=False, bbox_inches='tight', pad_inches=0.1, frameon=True);"
   ]
  },
  {
   "cell_type": "code",
   "execution_count": null,
   "metadata": {
    "scrolled": true
   },
   "outputs": [],
   "source": [
    "bins = [-20] + list(np.arange(-5, 35, 5))\n",
    "sel = data_pars_combined_vg_all[data_pars_combined_vg_all['Leak'] >= 10]\n",
    "cats_Pdiff = pd.cut(sel['P_diff'], bins = bins, right = True)\n",
    "cats_Pdiff.value_counts().sort_index()"
   ]
  },
  {
   "cell_type": "code",
   "execution_count": null,
   "metadata": {},
   "outputs": [],
   "source": [
    "(cats_Pdiff.value_counts() / len(cats_Pdiff)) * 100;"
   ]
  },
  {
   "cell_type": "code",
   "execution_count": null,
   "metadata": {},
   "outputs": [],
   "source": [
    "labels = ['-20 - -5', '-5 - 0', '0 - 5', '5 - 10', '10 - 15',\n",
    "          '15 - 20', '20 - 25', '25 - 30']\n",
    "fig, ax = plt.subplots(figsize = [8,6])\n",
    "cats_Pdiff.value_counts().sort_index().plot(kind = 'bar', logy = False, \n",
    "                         color = 'black', alpha = 0.7, fontsize = 14)\n",
    "ax.set_xlabel('range (cmH$_2$O)', size = 14)\n",
    "ax.set_ylabel('number of inflations', size = 14)\n",
    "ax.set_xticklabels(labels, rotation = '90', size = 14)\n",
    "plt.title('Pdiff', fontsize = 16)\n",
    "plt.grid(True)\n",
    "\n",
    "fig.savefig('%s/%s.%s' % (DIR_WRITE, 'Pdiff_distribution_2_leak_over50pc', 'jpg'),\n",
    "    dpi = 200, facecolor='w', edgecolor='w', orientation='portrait', papertype=None, format = 'jpg',\n",
    "    transparent=False, bbox_inches='tight', pad_inches=0.1, frameon=True);"
   ]
  },
  {
   "cell_type": "markdown",
   "metadata": {},
   "source": [
    "### Distribution VT_diff and P_diff at different levels of leak"
   ]
  },
  {
   "cell_type": "code",
   "execution_count": null,
   "metadata": {},
   "outputs": [],
   "source": [
    "# Create bins for leak percentages\n",
    "\n",
    "bins = np.arange(0, 101, 10)\n",
    "cats_leak = pd.cut(data_pars_combined_vg_all['Leak'], bins = bins, right = False)\n",
    "grouped_leak = data_pars_combined_vg_all.groupby(cats_leak)"
   ]
  },
  {
   "cell_type": "code",
   "execution_count": null,
   "metadata": {},
   "outputs": [],
   "source": [
    "grouped_leak.size()"
   ]
  },
  {
   "cell_type": "code",
   "execution_count": null,
   "metadata": {},
   "outputs": [],
   "source": [
    "VTdiff_stats_leak_bins = round(grouped_leak['VT_diff_kg'].describe(), 2)\n",
    "VTdiff_stats_leak_bins"
   ]
  },
  {
   "cell_type": "code",
   "execution_count": null,
   "metadata": {},
   "outputs": [],
   "source": [
    "# This manipulation is required as the original index (range) cannot be exported to Excel file\n",
    "VTdiff_stats_leak_bins_mod = VTdiff_stats_leak_bins.copy()\n",
    "VTdiff_stats_leak_bins_mod.index = ['0-10', '10_20', '20-30', '30-40', '40-50', '50-60', '60-70',\n",
    "                      '70-80', '80-90', '90-100']\n",
    "VTdiff_stats_leak_bins_mod.index.rename('leak range (%)', inplace  = True)"
   ]
  },
  {
   "cell_type": "code",
   "execution_count": null,
   "metadata": {},
   "outputs": [],
   "source": [
    "dpi = 300\n",
    "filetype = 'jpg'\n",
    "xticklabels = ['0-9', '10-19', '20-29', '30-39', '40-49', '50-59', '60-69', '70-79',\n",
    "         '80-89', '90-99']\n",
    "# Define styling for each boxplot component\n",
    "medianprops = {'color': 'black', 'linewidth': 2}\n",
    "boxprops = {'color': 'black', 'linestyle': '-'}\n",
    "whiskerprops = {'color': 'black', 'linestyle': '-'}\n",
    "capprops = {'color': 'black', 'linestyle': '-'}\n",
    "\n",
    "fig, ax = plt.subplots(figsize = (8, 4))\n",
    "data = []\n",
    "for name, group in grouped_leak:\n",
    "    data.append(group['VT_diff_kg'].dropna().values)\n",
    "plt.boxplot(data, whis = [5, 95], showfliers = False, showmeans = True,\n",
    "        medianprops=medianprops, boxprops=boxprops, whiskerprops=whiskerprops, capprops=capprops,)\n",
    "\n",
    "plt.xticks(np.arange(1, len(data)+1), xticklabels, rotation = 'horizontal')\n",
    "plt.xlabel('Leak (%)', size = 14)\n",
    "plt.ylabel('VTdiff (mL/kg)', size = 14)\n",
    "ax.tick_params(axis='both', which='major', labelsize=14)\n",
    "plt.grid(True)\n",
    "\n",
    "fig.savefig('%s/%s.%s' % (DIR_WRITE, 'VT_diff_boxplot_leak_bins', 'jpg'),\n",
    "    dpi = 200, facecolor='w', edgecolor='w', orientation='portrait', papertype=None, format = 'jpg',\n",
    "    transparent=False, bbox_inches='tight', pad_inches=0.1, frameon=True);"
   ]
  },
  {
   "cell_type": "code",
   "execution_count": null,
   "metadata": {
    "scrolled": true
   },
   "outputs": [],
   "source": [
    "Pdiff_stats_leak_bins = round(grouped_leak['P_diff'].describe(), 2)\n",
    "Pdiff_stats_leak_bins"
   ]
  },
  {
   "cell_type": "code",
   "execution_count": null,
   "metadata": {},
   "outputs": [],
   "source": [
    "# This manipulation is required as the original index (range) cannot be exported to Excel file\n",
    "Pdiff_stats_leak_bins_mod = Pdiff_stats_leak_bins.copy()\n",
    "Pdiff_stats_leak_bins_mod.index = ['0-10', '10_20', '20-30', '30-40', '40-50', '50-60', '60-70',\n",
    "                      '70-80', '80-90', '90-100']\n",
    "Pdiff_stats_leak_bins_mod.index.rename('leak range (%)', inplace  = True)"
   ]
  },
  {
   "cell_type": "code",
   "execution_count": null,
   "metadata": {},
   "outputs": [],
   "source": [
    "dpi = 300\n",
    "filetype = 'jpg'\n",
    "xticklabels = ['0-9', '10-19', '20-29', '30-39', '40-49', '50-59', '60-69', '70-79',\n",
    "         '80-89', '90-99']\n",
    "# Define styling for each boxplot component\n",
    "medianprops = {'color': 'black', 'linewidth': 2}\n",
    "boxprops = {'color': 'black', 'linestyle': '-'}\n",
    "whiskerprops = {'color': 'black', 'linestyle': '-'}\n",
    "capprops = {'color': 'black', 'linestyle': '-'}\n",
    "\n",
    "fig, ax = plt.subplots(figsize = (8, 4))\n",
    "data = []\n",
    "for name, group in grouped_leak:\n",
    "    data.append(group['P_diff'].dropna().values)\n",
    "plt.boxplot(data, whis = [5, 95], showfliers = False, showmeans = True,\n",
    "        medianprops=medianprops, boxprops=boxprops, whiskerprops=whiskerprops, capprops=capprops,)\n",
    "\n",
    "plt.xticks(np.arange(1, len(data)+1), xticklabels, rotation = 'horizontal')\n",
    "plt.xlabel('Leak (%)', size = 14)\n",
    "plt.ylabel('Pdiff (cmH$_2$O)', size = 14)\n",
    "ax.tick_params(axis='both', which='major', labelsize=14)\n",
    "plt.grid(True)\n",
    "\n",
    "fig.savefig('%s/%s.%s' % (DIR_WRITE, 'P_diff_boxplot_leak_bins', 'jpg'),\n",
    "    dpi = 200, facecolor='w', edgecolor='w', orientation='portrait', papertype=None, format = 'jpg',\n",
    "    transparent=False, bbox_inches='tight', pad_inches=0.1, frameon=True);"
   ]
  },
  {
   "cell_type": "code",
   "execution_count": null,
   "metadata": {},
   "outputs": [],
   "source": [
    "# Save statistics on ventilator settings\n",
    "writer = pd.ExcelWriter('%s/%s' % (DIR_WRITE, 'stats_leak_bins.xlsx'))\n",
    "VTdiff_stats_leak_bins_mod.to_excel(writer, 'VTdiff')\n",
    "Pdiff_stats_leak_bins_mod.to_excel(writer, 'Pdiff')\n",
    "writer.save()"
   ]
  },
  {
   "cell_type": "markdown",
   "metadata": {},
   "source": [
    "### What was the relationship between rise time and Ti"
   ]
  },
  {
   "cell_type": "code",
   "execution_count": null,
   "metadata": {},
   "outputs": [],
   "source": [
    "# Pressure rise control was invariable flow rather than set slope time\n",
    "\n",
    "data_pars_combined_vg_all['Pressure_rise_control'].unique()"
   ]
  },
  {
   "cell_type": "code",
   "execution_count": null,
   "metadata": {},
   "outputs": [],
   "source": [
    "# Minimum Ti was 0.3 seconds\n",
    "\n",
    "sorted(data_pars_combined_vg_all['Ti_set'].unique())"
   ]
  },
  {
   "cell_type": "code",
   "execution_count": null,
   "metadata": {},
   "outputs": [],
   "source": [
    "# Set I-flow was at least 6 L/min which usually results in a slope time of < 0.15 seconds or so \n",
    "\n",
    "sorted(data_pars_combined_vg_all['Flow_insp_set'].unique())"
   ]
  },
  {
   "cell_type": "markdown",
   "metadata": {},
   "source": [
    "## Filter data only those inflation where `Pdiff>0` AND `leak<50%`"
   ]
  },
  {
   "cell_type": "code",
   "execution_count": null,
   "metadata": {},
   "outputs": [],
   "source": [
    "data_pars_combined_vg_all_filtered_1 = \\\n",
    "    data_pars_combined_vg_all[(data_pars_combined_vg_all['P_diff'] > 0) & (data_pars_combined_vg_all['Leak'] < 50)]"
   ]
  },
  {
   "cell_type": "code",
   "execution_count": null,
   "metadata": {},
   "outputs": [],
   "source": [
    "len(data_pars_combined_vg_all), len(data_pars_combined_vg_all_filtered_1), \\\n",
    "len(data_pars_combined_vg_all_filtered_1) / len(data_pars_combined_vg_all)"
   ]
  },
  {
   "cell_type": "markdown",
   "metadata": {},
   "source": [
    "### Analyse distribution of `VTdiff_kg` considering only the filtered inflations"
   ]
  },
  {
   "cell_type": "code",
   "execution_count": null,
   "metadata": {},
   "outputs": [],
   "source": [
    "bins = np.arange(-11, 14, 2)\n",
    "\n",
    "cats_VTdiff = pd.cut(data_pars_combined_vg_all_filtered_1['VT_diff_kg'], bins = bins, right = True)\n",
    "cats_VTdiff.value_counts().sort_index()"
   ]
  },
  {
   "cell_type": "code",
   "execution_count": null,
   "metadata": {},
   "outputs": [],
   "source": [
    "(cats_VTdiff.value_counts() / len(cats_VTdiff)) * 100"
   ]
  },
  {
   "cell_type": "code",
   "execution_count": null,
   "metadata": {},
   "outputs": [],
   "source": [
    "fig, ax = plt.subplots(figsize = [8,4])\n",
    "cats_VTdiff.value_counts().sort_index().plot(kind = 'bar', logy = False, \n",
    "                        title = 'VT_diff', color = 'black', alpha = 0.7, fontsize = 14)\n",
    "ax.set_xlabel('range (mL/kg)', size = 14)\n",
    "ax.set_ylabel('number of inflations', size = 14)\n",
    "plt.title('VTdiff', fontsize = 16)\n",
    "plt.grid(True)\n",
    "\n",
    "fig.savefig('%s/%s.%s' % (DIR_WRITE, 'VTdiff_distribution_filt_1', 'jpg'),\n",
    "    dpi = 200, facecolor='w', edgecolor='w', orientation='portrait', papertype=None, format = 'jpg',\n",
    "    transparent=False, bbox_inches='tight', pad_inches=0.1, frameon=True);"
   ]
  },
  {
   "cell_type": "code",
   "execution_count": null,
   "metadata": {},
   "outputs": [],
   "source": [
    "bins = list(np.arange(-4, 5, 1))\n",
    "\n",
    "cats_VTdiff = pd.cut(data_pars_combined_vg_all_filtered_1['VT_diff_kg'], bins = bins, right = True)\n",
    "cats_VTdiff.value_counts().sort_index()"
   ]
  },
  {
   "cell_type": "code",
   "execution_count": null,
   "metadata": {},
   "outputs": [],
   "source": [
    "(cats_VTdiff.value_counts() / len(cats_VTdiff)) * 100"
   ]
  },
  {
   "cell_type": "code",
   "execution_count": null,
   "metadata": {},
   "outputs": [],
   "source": [
    "labels = ['-4 - -3', '-3 - -2', '-2 - -1', '-1 - 0', '0 - 1', '1 - 2', '2 - 3', '3 - 4']\n",
    "fig, ax = plt.subplots(figsize = [8,4])\n",
    "cats_VTdiff.value_counts().sort_index().plot(kind = 'bar', logy = False, \n",
    "                        title = 'VT_diff', color = 'black', alpha = 0.7, fontsize = 14)\n",
    "ax.set_xlabel('range (mL/kg)', size = 14)\n",
    "ax.set_ylabel('number of inflations', size = 14)\n",
    "ax.set_ylim(0, 100000)\n",
    "ax.set_xticklabels(labels, rotation = '90', size = 14)\n",
    "plt.title('VTdiff', fontsize = 16)\n",
    "plt.grid(True)\n",
    "\n",
    "fig.savefig('%s/%s.%s' % (DIR_WRITE, 'VTdiff_distribution_2_filt_1', 'jpg'),\n",
    "    dpi = 200, facecolor='w', edgecolor='w', orientation='portrait', papertype=None, format = 'jpg',\n",
    "    transparent=False, bbox_inches='tight', pad_inches=0.1, frameon=True);"
   ]
  },
  {
   "cell_type": "code",
   "execution_count": null,
   "metadata": {},
   "outputs": [],
   "source": [
    "bins = list(np.arange(-2, 2.1, 0.2))\n",
    "\n",
    "cats_VTdiff = pd.cut(data_pars_combined_vg_all_filtered_1['VT_diff_kg'], \n",
    "                              bins = bins, right = False)\n",
    "cats_VTdiff.value_counts().sort_index()"
   ]
  },
  {
   "cell_type": "code",
   "execution_count": null,
   "metadata": {},
   "outputs": [],
   "source": [
    "(cats_VTdiff.value_counts() / len(cats_VTdiff)) * 100"
   ]
  },
  {
   "cell_type": "code",
   "execution_count": null,
   "metadata": {
    "scrolled": false
   },
   "outputs": [],
   "source": [
    "labels = ['-2 - -1.8', '-1.8 - -1.6', '-1.6 - -1.4', '-1.4 - -1.2', '-1.2 - -1', \n",
    "          '-1 - -0.8', '-0.8 - -0.6', '-0.6 - -0.4', '-0.4 - -0.2', '-0.2 - 0',\n",
    "          '0 - 0.2', '0.2 - 0.4', '0.4 - 0.6', '0.6 - 0.8', '0.8 - 1',\n",
    "          '1 - 1.2', '1.2 - 1.4', '1.4 - 1.6', '1.6 - 1.8', '1.8 - 2']\n",
    "fig, ax = plt.subplots(figsize = [8,4])\n",
    "cats_VTdiff.value_counts().sort_index().plot(kind = 'bar', logy = False, \n",
    "                        title = 'VT_diff', color = 'black', alpha = 0.7, fontsize = 14)\n",
    "\n",
    "ax.set_xlabel('range (mL/kg)', size = 14)\n",
    "ax.set_ylabel('number of inflations', size = 14)\n",
    "ax.set_xticklabels(labels, rotation = '90', size = 14)\n",
    "plt.title('VTdiff', fontsize = 16)\n",
    "plt.grid(True)\n",
    "\n",
    "fig.savefig('%s/%s.%s' % (DIR_WRITE, 'VTdiff_distribution_3_filt_1', 'jpg'),\n",
    "    dpi = 200, facecolor='w', edgecolor='w', orientation='portrait', papertype=None, format = 'jpg',\n",
    "    transparent=False, bbox_inches='tight', pad_inches=0.1, frameon=True);"
   ]
  },
  {
   "cell_type": "markdown",
   "metadata": {},
   "source": [
    "## Filter data only those inflation where the `Pdiff<=0` AND `leak>=50%`"
   ]
  },
  {
   "cell_type": "code",
   "execution_count": null,
   "metadata": {},
   "outputs": [],
   "source": [
    "data_pars_combined_vg_all_filtered_2 = \\\n",
    "    data_pars_combined_vg_all[(data_pars_combined_vg_all['P_diff'] <= 0) | (data_pars_combined_vg_all['Leak'] >= 50)]"
   ]
  },
  {
   "cell_type": "code",
   "execution_count": null,
   "metadata": {},
   "outputs": [],
   "source": [
    "len(data_pars_combined_vg_all), len(data_pars_combined_vg_all_filtered_2), \\\n",
    "len(data_pars_combined_vg_all_filtered_2) / len(data_pars_combined_vg_all)"
   ]
  },
  {
   "cell_type": "markdown",
   "metadata": {},
   "source": [
    "### Analyse distribution of `VTdiff_kg` considering only the filtered inflations"
   ]
  },
  {
   "cell_type": "code",
   "execution_count": null,
   "metadata": {},
   "outputs": [],
   "source": [
    "bins = np.arange(-11, 14, 2)\n",
    "\n",
    "cats_VTdiff = pd.cut(data_pars_combined_vg_all_filtered_2['VT_diff_kg'], bins = bins, right = True)\n",
    "cats_VTdiff.value_counts().sort_index()"
   ]
  },
  {
   "cell_type": "code",
   "execution_count": null,
   "metadata": {},
   "outputs": [],
   "source": [
    "(cats_VTdiff.value_counts() / len(cats_VTdiff)) * 100"
   ]
  },
  {
   "cell_type": "code",
   "execution_count": null,
   "metadata": {},
   "outputs": [],
   "source": [
    "fig, ax = plt.subplots(figsize = [8,4])\n",
    "cats_VTdiff.value_counts().sort_index().plot(kind = 'bar', logy = False, \n",
    "                        title = 'VT_diff', color = 'black', alpha = 0.7, fontsize = 14)\n",
    "ax.set_xlabel('range (mL/kg)', size = 14)\n",
    "ax.set_ylabel('number of inflations', size = 14)\n",
    "plt.title('VTdiff', fontsize = 16)\n",
    "plt.grid(True)\n",
    "\n",
    "fig.savefig('%s/%s.%s' % (DIR_WRITE, 'VTdiff_distribution_filt_2', 'jpg'),\n",
    "    dpi = 200, facecolor='w', edgecolor='w', orientation='portrait', papertype=None, format = 'jpg',\n",
    "    transparent=False, bbox_inches='tight', pad_inches=0.1, frameon=True);"
   ]
  },
  {
   "cell_type": "code",
   "execution_count": null,
   "metadata": {},
   "outputs": [],
   "source": [
    "bins = list(np.arange(-4, 5, 1))\n",
    "\n",
    "cats_VTdiff = pd.cut(data_pars_combined_vg_all_filtered_2['VT_diff_kg'], bins = bins, right = True)\n",
    "cats_VTdiff.value_counts().sort_index()"
   ]
  },
  {
   "cell_type": "code",
   "execution_count": null,
   "metadata": {},
   "outputs": [],
   "source": [
    "(cats_VTdiff.value_counts() / len(cats_VTdiff)) * 100"
   ]
  },
  {
   "cell_type": "code",
   "execution_count": null,
   "metadata": {},
   "outputs": [],
   "source": [
    "labels = ['-4 - -3', '-3 - -2', '-2 - -1', '-1 - 0', '0 - 1', '1 - 2', '2 - 3', '3 - 4']\n",
    "fig, ax = plt.subplots(figsize = [8,4])\n",
    "cats_VTdiff.value_counts().sort_index().plot(kind = 'bar', logy = False, \n",
    "                        title = 'VT_diff', color = 'black', alpha = 0.7, fontsize = 14)\n",
    "ax.set_xlabel('range (mL/kg)', size = 14)\n",
    "ax.set_ylabel('number of inflations', size = 14)\n",
    "ax.set_ylim(0, 12000)\n",
    "ax.set_xticklabels(labels, rotation = '90', size = 14)\n",
    "plt.title('VTdiff', fontsize = 16)\n",
    "plt.grid(True)\n",
    "\n",
    "fig.savefig('%s/%s.%s' % (DIR_WRITE, 'VTdiff_distribution_2_filt_2', 'jpg'),\n",
    "    dpi = 200, facecolor='w', edgecolor='w', orientation='portrait', papertype=None, format = 'jpg',\n",
    "    transparent=False, bbox_inches='tight', pad_inches=0.1, frameon=True);"
   ]
  },
  {
   "cell_type": "code",
   "execution_count": null,
   "metadata": {},
   "outputs": [],
   "source": [
    "bins = list(np.arange(-2, 2.1, 0.2))\n",
    "\n",
    "cats_VTdiff = pd.cut(data_pars_combined_vg_all_filtered_2['VT_diff_kg'], bins = bins, right = True)\n",
    "cats_VTdiff.value_counts().sort_index()"
   ]
  },
  {
   "cell_type": "code",
   "execution_count": null,
   "metadata": {},
   "outputs": [],
   "source": [
    "(cats_VTdiff.value_counts() / len(cats_VTdiff)) * 100"
   ]
  },
  {
   "cell_type": "code",
   "execution_count": null,
   "metadata": {
    "scrolled": false
   },
   "outputs": [],
   "source": [
    "labels = ['-2 - -1.8', '-1.8 - -1.6', '-1.6 - -1.4', '-1.4 - -1.2', '-1.2 - -1', \n",
    "          '-1 - -0.8', '-0.8 - -0.6', '-0.6 - -0.4', '-0.4 - -0.2', '-0.2 - 0',\n",
    "          '0 - 0.2', '0.2 - 0.4', '0.4 - 0.6', '0.6 - 0.8', '0.8 - 1',\n",
    "          '1 - 1.2', '1.2 - 1.4', '1.4 - 1.6', '1.6 - 1.8', '1.8 - 2']\n",
    "fig, ax = plt.subplots(figsize = [8,4])\n",
    "cats_VTdiff.value_counts().sort_index().plot(kind = 'bar', logy = False, \n",
    "                        title = 'VT_diff', color = 'black', alpha = 0.7, fontsize = 14)\n",
    "\n",
    "ax.set_xlabel('range (mL/kg)', size = 14)\n",
    "ax.set_ylabel('number of inflations', size = 14)\n",
    "ax.set_xticklabels(labels, rotation = '90', size = 14)\n",
    "plt.title('VTdiff', fontsize = 16)\n",
    "plt.grid(True)\n",
    "\n",
    "fig.savefig('%s/%s.%s' % (DIR_WRITE, 'VTdiff_distribution_3_filt_2', 'jpg'),\n",
    "    dpi = 200, facecolor='w', edgecolor='w', orientation='portrait', papertype=None, format = 'jpg',\n",
    "    transparent=False, bbox_inches='tight', pad_inches=0.1, frameon=True);"
   ]
  },
  {
   "cell_type": "markdown",
   "metadata": {},
   "source": [
    "## Groupby VTdiff according to weight"
   ]
  },
  {
   "cell_type": "markdown",
   "metadata": {},
   "source": [
    "### All inflations"
   ]
  },
  {
   "cell_type": "code",
   "execution_count": null,
   "metadata": {
    "scrolled": true
   },
   "outputs": [],
   "source": [
    "# Create bins for weight categories\n",
    "bins_wt = np.arange(500, 5500, 500)\n",
    "cats_wt = pd.cut(data_pars_combined_vg_all['weight'], bins = bins_wt, right = False)"
   ]
  },
  {
   "cell_type": "code",
   "execution_count": null,
   "metadata": {},
   "outputs": [],
   "source": [
    "# How many data points in each weight bin\n",
    "grouped_wt = data_pars_combined_vg_all.groupby(cats_wt)\n",
    "grouped_wt_frame = DataFrame(grouped_wt.size())\n",
    "grouped_wt_frame.columns = ['data_points']\n",
    "grouped_wt_frame"
   ]
  },
  {
   "cell_type": "code",
   "execution_count": null,
   "metadata": {},
   "outputs": [],
   "source": [
    "# How many data points in each weight and ventilator mode bin\n",
    "\n",
    "grouped_wt_mode = data_pars_combined_vg_all.groupby([cats_wt, 'Ventilator_mode'])\n",
    "grouped_wt_mode_frame = DataFrame(grouped_wt_mode.size())\n",
    "grouped_wt_mode_frame.columns = ['data_points']\n",
    "grouped_wt_mode_frame"
   ]
  },
  {
   "cell_type": "code",
   "execution_count": null,
   "metadata": {},
   "outputs": [],
   "source": [
    "cases_weight_bins_1 = DataFrame(grouped_wt.apply(lambda x: len(x.reset_index()['recording'].unique())))\n",
    "cases_weight_bins_1.columns = ['number of cases']\n",
    "cases_weight_bins_1;"
   ]
  },
  {
   "cell_type": "code",
   "execution_count": null,
   "metadata": {
    "scrolled": true
   },
   "outputs": [],
   "source": [
    "cases_weight_bins_2 = grouped_wt.apply(lambda x: sorted(x.reset_index()['recording'].unique()))\n",
    "cases_weight_bins_2 = DataFrame(cases_weight_bins_2)\n",
    "cases_weight_bins_2.columns = ['cases']\n",
    "cases_weight_bins_2;"
   ]
  },
  {
   "cell_type": "code",
   "execution_count": null,
   "metadata": {},
   "outputs": [],
   "source": [
    "cases_weight_bins = pd.merge(cases_weight_bins_1, cases_weight_bins_2, left_index= True, right_index= True)\n",
    "cases_weight_bins"
   ]
  },
  {
   "cell_type": "code",
   "execution_count": null,
   "metadata": {},
   "outputs": [],
   "source": [
    "# This manipulation is required as the original index (range) cannot be exported to Excel file\n",
    "weight_bins = ['500-1000', '1000-1500', '1500-2000', '2000-2500', '2500-3000', '3000-3500', '3500-4000',\n",
    "               '4000-4500', '4500-5000',]\n",
    "\n",
    "grouped_wt_frame_mod = grouped_wt_frame.copy()\n",
    "grouped_wt_frame_mod.index = weight_bins\n",
    "#grouped_wt_mode_frame_mod = grouped_wt_mode_frame.copy()\n",
    "#grouped_wt_mode_frame.index = weight_bins\n",
    "cases_weight_bins_mod = cases_weight_bins.copy()\n",
    "cases_weight_bins_mod.index = weight_bins"
   ]
  },
  {
   "cell_type": "markdown",
   "metadata": {},
   "source": [
    "### Only filtered inflations (leak <50%, Pmax not reached)"
   ]
  },
  {
   "cell_type": "code",
   "execution_count": null,
   "metadata": {
    "scrolled": false
   },
   "outputs": [],
   "source": [
    "# Create bins for weight categories\n",
    "bins_wt = np.arange(500, 5500, 500)\n",
    "cats_wt_filtered_1 = pd.cut(data_pars_combined_vg_all_filtered_1['weight'], bins = bins_wt, right = False)\n"
   ]
  },
  {
   "cell_type": "code",
   "execution_count": null,
   "metadata": {},
   "outputs": [],
   "source": [
    "# How many data points in each weight bin\n",
    "\n",
    "grouped_wt_filtered_1 = data_pars_combined_vg_all_filtered_1.groupby(cats_wt_filtered_1)\n",
    "grouped_wt_filtered_1_frame = DataFrame(grouped_wt_filtered_1.size())\n",
    "grouped_wt_filtered_1_frame.columns = ['data_points']\n",
    "grouped_wt_filtered_1_frame"
   ]
  },
  {
   "cell_type": "code",
   "execution_count": null,
   "metadata": {},
   "outputs": [],
   "source": [
    "# How many data points in each weight and ventilator mode bin\n",
    "\n",
    "grouped_wt_mode_filtered_1 = data_pars_combined_vg_all_filtered_1.groupby([cats_wt_filtered_1, 'Ventilator_mode'])\n",
    "grouped_wt_mode_filtered_1_frame = DataFrame(grouped_wt_mode_filtered_1.size())\n",
    "grouped_wt_mode_filtered_1_frame.columns = ['data_points']\n",
    "grouped_wt_mode_filtered_1_frame"
   ]
  },
  {
   "cell_type": "code",
   "execution_count": null,
   "metadata": {},
   "outputs": [],
   "source": [
    "cases_weight_filtered_1_bins_1 = DataFrame(grouped_wt_filtered_1.apply(lambda x: \n",
    "                                                                       len(x.reset_index()['recording'].unique())))\n",
    "cases_weight_filtered_1_bins_1.columns = ['number of cases']\n",
    "cases_weight_filtered_1_bins_1;"
   ]
  },
  {
   "cell_type": "code",
   "execution_count": null,
   "metadata": {
    "scrolled": true
   },
   "outputs": [],
   "source": [
    "cases_weight_filtered_1_bins_2 = grouped_wt.apply(lambda x: sorted(x.reset_index()['recording'].unique()))\n",
    "cases_weight_filtered_1_bins_2 = DataFrame(cases_weight_filtered_1_bins_2)\n",
    "cases_weight_filtered_1_bins_2.columns = ['cases']\n",
    "cases_weight_filtered_1_bins_2;"
   ]
  },
  {
   "cell_type": "code",
   "execution_count": null,
   "metadata": {},
   "outputs": [],
   "source": [
    "cases_weight_filtered_1_bins = pd.merge(cases_weight_filtered_1_bins_1, \n",
    "                                        cases_weight_filtered_1_bins_2, left_index= True, right_index= True)\n",
    "cases_weight_filtered_1_bins"
   ]
  },
  {
   "cell_type": "code",
   "execution_count": null,
   "metadata": {},
   "outputs": [],
   "source": [
    "# This manipulation is required as the original index (range) cannot be exported to Excel file\n",
    "weight_bins = ['500-1000', '1000-1500', '1500-2000', '2000-2500', '2500-3000', '3000-3500', '3500-4000',\n",
    "               '4000-4500', '4500-5000',]\n",
    "\n",
    "grouped_wt_filtered_1_frame_mod = grouped_wt_filtered_1_frame.copy()\n",
    "grouped_wt_filtered_1_frame_mod.index = weight_bins\n",
    "#grouped_wt_mode_filtered_1_frame_mod = grouped_wt_mode_filtered_1_frame.copy()\n",
    "#grouped_wt_mode_filtered_1_frame.index = weight_bins\n",
    "cases_weight_filtered_1_bins_mod = cases_weight_filtered_1_bins.copy()\n",
    "cases_weight_filtered_1_bins_mod.index = weight_bins"
   ]
  },
  {
   "cell_type": "markdown",
   "metadata": {},
   "source": [
    "### Only filtered inflations: `leak >=50%`, `Pdiff<=0`"
   ]
  },
  {
   "cell_type": "code",
   "execution_count": null,
   "metadata": {
    "scrolled": false
   },
   "outputs": [],
   "source": [
    "# Create bins for weight categories\n",
    "bins = np.arange(500, 5500, 500)\n",
    "cats_wt_filtered_2 = pd.cut(data_pars_combined_vg_all_filtered_2['weight'], bins = bins, right = False)"
   ]
  },
  {
   "cell_type": "code",
   "execution_count": null,
   "metadata": {},
   "outputs": [],
   "source": [
    "# How many data points in each weight bin\n",
    "\n",
    "grouped_wt_filtered_2 = data_pars_combined_vg_all_filtered_2.groupby(cats_wt_filtered_2)\n",
    "grouped_wt_filtered_2_frame = DataFrame(grouped_wt_filtered_2.size())\n",
    "grouped_wt_filtered_2_frame.columns = ['data_points']\n",
    "grouped_wt_filtered_2_frame"
   ]
  },
  {
   "cell_type": "code",
   "execution_count": null,
   "metadata": {},
   "outputs": [],
   "source": [
    "# How many data points in each weight and ventilator mode bin\n",
    "\n",
    "grouped_wt_mode_filtered_2 = data_pars_combined_vg_all_filtered_2.groupby([cats_wt_filtered_2, 'Ventilator_mode'])\n",
    "grouped_wt_mode_filtered_2_frame = DataFrame(grouped_wt_mode_filtered_2.size())\n",
    "grouped_wt_mode_filtered_2_frame.columns = ['data_points']\n",
    "grouped_wt_mode_filtered_2_frame"
   ]
  },
  {
   "cell_type": "code",
   "execution_count": null,
   "metadata": {},
   "outputs": [],
   "source": [
    "cases_weight_filtered_2_bins_1 = DataFrame(grouped_wt_filtered_2.apply(lambda x: \n",
    "                                                                       len(x.reset_index()['recording'].unique())))\n",
    "cases_weight_filtered_2_bins_1.columns = ['number of cases']\n",
    "cases_weight_filtered_2_bins_1;"
   ]
  },
  {
   "cell_type": "code",
   "execution_count": null,
   "metadata": {
    "scrolled": true
   },
   "outputs": [],
   "source": [
    "cases_weight_filtered_2_bins_2 = grouped_wt.apply(lambda x: sorted(x.reset_index()['recording'].unique()))\n",
    "cases_weight_filtered_2_bins_2 = DataFrame(cases_weight_filtered_2_bins_2)\n",
    "cases_weight_filtered_2_bins_2.columns = ['cases']\n",
    "cases_weight_filtered_2_bins_2;"
   ]
  },
  {
   "cell_type": "code",
   "execution_count": null,
   "metadata": {},
   "outputs": [],
   "source": [
    "cases_weight_filtered_2_bins = pd.merge(cases_weight_filtered_2_bins_1, \n",
    "                                        cases_weight_filtered_2_bins_2, left_index= True, right_index= True)\n",
    "cases_weight_filtered_2_bins"
   ]
  },
  {
   "cell_type": "code",
   "execution_count": null,
   "metadata": {},
   "outputs": [],
   "source": [
    "# This manipulation is required as the original index (range) cannot be exported to Excel file\n",
    "weight_bins = ['500-1000', '1000-1500', '1500-2000', '2000-2500', '2500-3000', '3000-3500', '3500-4000',\n",
    "               '4000-4500', '4500-5000',]\n",
    "\n",
    "grouped_wt_filtered_2_frame_mod = grouped_wt_filtered_2_frame.copy()\n",
    "grouped_wt_filtered_2_frame_mod.index = weight_bins\n",
    "#grouped_wt_mode_filtered_2_frame_mod = grouped_wt_mode_filtered_2_frame.copy()\n",
    "#grouped_wt_mode_filtered_2_frame.index = weight_bins\n",
    "cases_weight_filtered_2_bins_mod = cases_weight_filtered_2_bins.copy()\n",
    "cases_weight_filtered_2_bins_mod.index = weight_bins"
   ]
  },
  {
   "cell_type": "markdown",
   "metadata": {},
   "source": [
    "## Calculate the mean values for each weight category  selected important ventilator parameters and settings - include all inflations"
   ]
  },
  {
   "cell_type": "markdown",
   "metadata": {},
   "source": [
    "VTemand_resp_kg is the tidal volume of ventilator inflations assuming that during SIPPV aand PSV all patient-triggered inflations are supported by ventilator"
   ]
  },
  {
   "cell_type": "code",
   "execution_count": null,
   "metadata": {},
   "outputs": [],
   "source": [
    "selected_parameters =  ['FiO2', 'Leak', 'MAP', 'MV_kg', 'MVresp', 'PEEP', 'PIP', 'P_diff', 'RR',\n",
    "                        'VT_diff_kg', 'VTemand_kg', 'VTespon_pat_kg', 'VTemand_resp_kg', 'VTimand_kg',\n",
    "                        'PIP_set', 'Ti_set', 'Te_set', 'RR_set', 'VG_set',]"
   ]
  },
  {
   "cell_type": "code",
   "execution_count": null,
   "metadata": {},
   "outputs": [],
   "source": [
    "grouped_wt[selected_parameters].describe()"
   ]
  },
  {
   "cell_type": "code",
   "execution_count": null,
   "metadata": {},
   "outputs": [],
   "source": [
    "grouped_wt[selected_parameters].mean()"
   ]
  },
  {
   "cell_type": "code",
   "execution_count": null,
   "metadata": {},
   "outputs": [],
   "source": [
    "grouped_wt['VT_diff_kg'].describe(percentiles = [0.05, 0.25, 0.50, 0.75, 0.95])"
   ]
  },
  {
   "cell_type": "code",
   "execution_count": null,
   "metadata": {},
   "outputs": [],
   "source": [
    "dpi = 300\n",
    "filetype = 'jpg'\n",
    "xticklabels = ['0.5-1', '1-1.5', '1.5-2', '2-2.5', '2.5-3', '3-3.5', '3.5-4', '4-4.5', '4.5-5']\n",
    "\n",
    "fig, ax = plt.subplots(figsize = (6,3))\n",
    "data = []\n",
    "for _, group in grouped_wt:\n",
    "    # 0.5Hz sampling, needs to be divided by 2\n",
    "    data.append(len(group) / 2)\n",
    "\n",
    "plt.bar(np.arange(1, len(data) + 1), data, width=0.5, color='black', alpha  = 0.7, align = 'center')\n",
    "\n",
    "plt.xticks(np.arange(1, len(data) + 1), xticklabels, rotation = 'vertical')\n",
    "plt.xlim(0.5, 10)\n",
    "plt.xlabel('weight (kg)', size = 14)\n",
    "plt.ylabel('inflations (n)', size = 14)\n",
    "ax.tick_params(axis='both', which='major', labelsize=14)\n",
    "plt.grid(True)\n",
    "\n",
    "fig.savefig('%s/%s.%s' % (DIR_WRITE,  'VTdiff_wt_count',  filetype),\n",
    "            dpi = dpi, facecolor='w', edgecolor='w', orientation='portrait', papertype=None, format = filetype,\n",
    "            transparent=False, bbox_inches='tight', pad_inches=0.1, frameon=True);"
   ]
  },
  {
   "cell_type": "code",
   "execution_count": null,
   "metadata": {
    "scrolled": false
   },
   "outputs": [],
   "source": [
    "dpi = 300\n",
    "filetype = 'jpg'\n",
    "xticklabels = ['0.5-1', '1-1.5', '1.5-2', '2-2.5', '2.5-3', '3-3.5', '3.5-4', '4-4.5', '4.5-5']\n",
    "# Define styling for each boxplot component\n",
    "medianprops = {'color': 'black', 'linewidth': 2}\n",
    "boxprops = {'color': 'black', 'linestyle': '-'}\n",
    "whiskerprops = {'color': 'black', 'linestyle': '-'}\n",
    "capprops = {'color': 'black', 'linestyle': '-'}\n",
    "# flierprops = {'color': 'black', 'marker': 'x'}\n",
    "\n",
    "\n",
    "fig, ax = plt.subplots(figsize = (6,4))\n",
    "data = []\n",
    "for name, group in grouped_wt:\n",
    "    data.append(group['VT_diff_kg'].dropna().values)\n",
    "plt.boxplot(data, whis = [5, 95], showfliers = False,\n",
    "        medianprops=medianprops, boxprops=boxprops, whiskerprops=whiskerprops, capprops=capprops,)\n",
    "\n",
    "plt.xticks(np.arange(1, len(data)+1), xticklabels, rotation = 'vertical')\n",
    "plt.ylim(-6.5, 5)\n",
    "plt.xlabel('weight (kg)', size = 14)\n",
    "plt.ylabel('VTdiff (mL/kg))', size = 14)\n",
    "ax.tick_params(axis='both', which='major', labelsize=14)\n",
    "plt.grid(True)\n",
    "\n",
    "fig.savefig('%s/%s.%s' % (DIR_WRITE,  'VTdiff_wt',  filetype),\n",
    "            dpi = dpi, facecolor='w', edgecolor='w', orientation='portrait', papertype=None, format = filetype,\n",
    "            transparent=False, bbox_inches='tight', pad_inches=0.1, frameon=True);"
   ]
  },
  {
   "cell_type": "code",
   "execution_count": null,
   "metadata": {},
   "outputs": [],
   "source": [
    "for name, group in grouped_wt:\n",
    "    print(name,len(group))"
   ]
  },
  {
   "cell_type": "markdown",
   "metadata": {},
   "source": [
    "### Calculate the mean values for each weight category  selected important ventilator parameters and settings - only include inflations with `leak<50%` and `P_diff>0`"
   ]
  },
  {
   "cell_type": "code",
   "execution_count": null,
   "metadata": {},
   "outputs": [],
   "source": [
    "grouped_wt_filtered_1[selected_parameters].describe()"
   ]
  },
  {
   "cell_type": "code",
   "execution_count": null,
   "metadata": {},
   "outputs": [],
   "source": [
    "grouped_wt_filtered_1[selected_parameters].mean()"
   ]
  },
  {
   "cell_type": "code",
   "execution_count": null,
   "metadata": {},
   "outputs": [],
   "source": [
    "grouped_wt_filtered_1['VT_diff_kg'].describe(percentiles = [0.01, 0.05, 0.10, 0.12, 0.25, 0.50, 0.75, 0.90, 0.95, 0.99])"
   ]
  },
  {
   "cell_type": "code",
   "execution_count": null,
   "metadata": {},
   "outputs": [],
   "source": [
    "dpi = 300\n",
    "filetype = 'jpg'\n",
    "xticklabels = ['0.5-1', '1-1.5', '1.5-2', '2-2.5', '2.5-3', '3-3.5', '3.5-4', '4-4.5', '4.5-5']\n",
    "\n",
    "fig, ax = plt.subplots(figsize = (6,3))\n",
    "data = []\n",
    "for _, group in grouped_wt_filtered_1:\n",
    "    # 0.5Hz sampling, needs to be divided by 2\n",
    "    data.append(len(group) / 2)\n",
    "\n",
    "plt.bar(np.arange(1, len(data) + 1), data, width=0.5, color='black', alpha  = 0.7, align = 'center')\n",
    "\n",
    "plt.xticks(np.arange(1, len(data) + 1), xticklabels, rotation = 'vertical')\n",
    "plt.xlim(0.5, 10)\n",
    "plt.ylim(0, 25000)\n",
    "plt.xlabel('weight (kg)', size = 14)\n",
    "plt.ylabel('inflations (n)', size = 14)\n",
    "ax.tick_params(axis='both', which='major', labelsize=14)\n",
    "plt.grid(True)\n",
    "\n",
    "fig.savefig('%s/%s.%s' % (DIR_WRITE,  'VTdiff_wt_count_filtered_1',  filetype),\n",
    "            dpi = dpi, facecolor='w', edgecolor='w', orientation='portrait', papertype=None, format = filetype,\n",
    "            transparent=False, bbox_inches='tight', pad_inches=0.1, frameon=True);"
   ]
  },
  {
   "cell_type": "code",
   "execution_count": null,
   "metadata": {},
   "outputs": [],
   "source": [
    "dpi = 300\n",
    "filetype = 'jpg'\n",
    "xticklabels = ['0.5-1', '1-1.5', '1.5-2', '2-2.5', '2.5-3', '3-3.5', '3.5-4', '4-4.5', '4.5-5']\n",
    "# Define styling for each boxplot component\n",
    "medianprops = {'color': 'black', 'linewidth': 2}\n",
    "boxprops = {'color': 'black', 'linestyle': '-'}\n",
    "whiskerprops = {'color': 'black', 'linestyle': '-'}\n",
    "capprops = {'color': 'black', 'linestyle': '-'}\n",
    "# flierprops = {'color': 'black', 'marker': 'x'}\n",
    "\n",
    "\n",
    "fig, ax = plt.subplots(figsize = (6,3))\n",
    "data = []\n",
    "for name, group in grouped_wt_filtered_1:\n",
    "    data.append(group['VT_diff_kg'].dropna().values)\n",
    "plt.boxplot(data, whis = [5, 95], showfliers = False,\n",
    "        medianprops=medianprops, boxprops=boxprops, whiskerprops=whiskerprops, capprops=capprops,)\n",
    "\n",
    "plt.xticks(np.arange(1, len(data)+1), xticklabels, rotation = 'vertical')\n",
    "plt.ylim(-2, 5)\n",
    "plt.xlabel('weight (kg)', size = 14)\n",
    "plt.ylabel('VTdiff (mL/kg))', size = 14)\n",
    "ax.tick_params(axis='both', which='major', labelsize=14)\n",
    "plt.grid(True)\n",
    "\n",
    "fig.savefig('%s/%s.%s' % (DIR_WRITE,  'VTdiff_wt_filtered_1',  filetype),\n",
    "            dpi = dpi, facecolor='w', edgecolor='w', orientation='portrait', papertype=None, format = filetype,\n",
    "            transparent=False, bbox_inches='tight', pad_inches=0.1, frameon=True);"
   ]
  },
  {
   "cell_type": "markdown",
   "metadata": {},
   "source": [
    "### Calculate the mean values for each weight category  selected important ventilator parameters and settings - only include inflations with `leak>=50%` and `P_diff<=0`"
   ]
  },
  {
   "cell_type": "code",
   "execution_count": null,
   "metadata": {},
   "outputs": [],
   "source": [
    "grouped_wt_filtered_2[selected_parameters].describe()"
   ]
  },
  {
   "cell_type": "code",
   "execution_count": null,
   "metadata": {},
   "outputs": [],
   "source": [
    "grouped_wt_filtered_2[selected_parameters].mean()"
   ]
  },
  {
   "cell_type": "code",
   "execution_count": null,
   "metadata": {},
   "outputs": [],
   "source": [
    "grouped_wt_filtered_2['VT_diff_kg'].describe(percentiles = [0.05, 0.25, 0.50, 0.75, 0.95])"
   ]
  },
  {
   "cell_type": "code",
   "execution_count": null,
   "metadata": {},
   "outputs": [],
   "source": [
    "dpi = 300\n",
    "filetype = 'jpg'\n",
    "xticklabels = ['0.5-1', '1-1.5', '1.5-2', '2-2.5', '2.5-3', '3-3.5', '3.5-4', '4-4.5', '4.5-5']\n",
    "\n",
    "fig, ax = plt.subplots(figsize = (6,3))\n",
    "data = []\n",
    "for _, group in grouped_wt_filtered_2:\n",
    "    # 0.5Hz sampling, needs to be divided by 2\n",
    "    data.append(len(group) / 2)\n",
    "\n",
    "plt.bar(np.arange(1, len(data) + 1), data, width=0.5, color='black', alpha  = 0.7, align = 'center')\n",
    "\n",
    "plt.xticks(np.arange(1, len(data) + 1), xticklabels, rotation = 'vertical')\n",
    "plt.xlim(0.5, 10)\n",
    "plt.xlabel('weight (kg)', size = 14)\n",
    "plt.ylabel('inflations (n)', size = 14)\n",
    "ax.tick_params(axis='both', which='major', labelsize=14)\n",
    "plt.grid(True)\n",
    "\n",
    "fig.savefig('%s/%s.%s' % (DIR_WRITE,  'VTdiff_wt_count_filtered_2',  filetype),\n",
    "            dpi = dpi, facecolor='w', edgecolor='w', orientation='portrait', papertype=None, format = filetype,\n",
    "            transparent=False, bbox_inches='tight', pad_inches=0.1, frameon=True);"
   ]
  },
  {
   "cell_type": "code",
   "execution_count": null,
   "metadata": {
    "scrolled": true
   },
   "outputs": [],
   "source": [
    "dpi = 300\n",
    "filetype = 'jpg'\n",
    "xticklabels = ['0.5-1', '1-1.5', '1.5-2', '2-2.5', '2.5-3', '3-3.5', '3.5-4', '4-4.5', '4.5-5']\n",
    "# Define styling for each boxplot component\n",
    "medianprops = {'color': 'black', 'linewidth': 2}\n",
    "boxprops = {'color': 'black', 'linestyle': '-'}\n",
    "whiskerprops = {'color': 'black', 'linestyle': '-'}\n",
    "capprops = {'color': 'black', 'linestyle': '-'}\n",
    "# flierprops = {'color': 'black', 'marker': 'x'}\n",
    "\n",
    "\n",
    "fig, ax = plt.subplots(figsize = (6,4))\n",
    "data = []\n",
    "for name, group in grouped_wt_filtered_2:\n",
    "    data.append(group['VT_diff_kg'].dropna().values)\n",
    "plt.boxplot(data, whis = [5, 95], showfliers = False,\n",
    "        medianprops=medianprops, boxprops=boxprops, whiskerprops=whiskerprops, capprops=capprops,)\n",
    "\n",
    "plt.xticks(np.arange(1, len(data)+1), xticklabels, rotation = 'vertical')\n",
    "plt.ylim(-6.5, 5)\n",
    "plt.xlabel('weight (kg)', size = 14)\n",
    "plt.ylabel('VTdiff (mL/kg))', size = 14)\n",
    "ax.tick_params(axis='both', which='major', labelsize=14)\n",
    "plt.grid(True)\n",
    "\n",
    "fig.savefig('%s/%s.%s' % (DIR_WRITE,  'VTdiff_wt_filtered_2',  filetype),\n",
    "            dpi = dpi, facecolor='w', edgecolor='w', orientation='portrait', papertype=None, format = filetype,\n",
    "            transparent=False, bbox_inches='tight', pad_inches=0.1, frameon=True);"
   ]
  },
  {
   "cell_type": "markdown",
   "metadata": {},
   "source": [
    "## Groupby VTdiff according to ventilator mode"
   ]
  },
  {
   "cell_type": "code",
   "execution_count": null,
   "metadata": {
    "scrolled": true
   },
   "outputs": [],
   "source": [
    "# Create bins for ventilator modes\n",
    "grouped_mode = data_pars_combined_vg_all.groupby('Ventilator_mode')"
   ]
  },
  {
   "cell_type": "code",
   "execution_count": null,
   "metadata": {},
   "outputs": [],
   "source": [
    "# How many data points in each weight bin\n",
    "grouped_mode.size()"
   ]
  },
  {
   "cell_type": "code",
   "execution_count": null,
   "metadata": {},
   "outputs": [],
   "source": [
    "# Create bins for ventilator modes\n",
    "grouped_mode_wt = data_pars_combined_vg_all.groupby(['Ventilator_mode', cats_wt])\n",
    "grouped_mode_wt_frame = DataFrame(grouped_mode_wt.size())\n",
    "grouped_mode_wt_frame.columns = ['data_points']\n",
    "grouped_mode_wt_frame"
   ]
  },
  {
   "cell_type": "markdown",
   "metadata": {},
   "source": [
    "## Calculate the mean values for each ventilator modes of  selected important ventilator parameters and settings - include all inflations"
   ]
  },
  {
   "cell_type": "code",
   "execution_count": null,
   "metadata": {},
   "outputs": [],
   "source": [
    "grouped_mode[selected_parameters].describe()"
   ]
  },
  {
   "cell_type": "code",
   "execution_count": null,
   "metadata": {},
   "outputs": [],
   "source": [
    "grouped_mode[selected_parameters].mean()"
   ]
  },
  {
   "cell_type": "code",
   "execution_count": null,
   "metadata": {},
   "outputs": [],
   "source": [
    "grouped_mode['VT_diff_kg'].describe(percentiles = [0.05, 0.25, 0.50, 0.75, 0.95])"
   ]
  },
  {
   "cell_type": "code",
   "execution_count": null,
   "metadata": {},
   "outputs": [],
   "source": [
    "dpi = 300\n",
    "filetype = 'jpg'\n",
    "xticklabels = ['SIMV', 'SIMV-PS', 'SIPPV']\n",
    "\n",
    "fig, ax = plt.subplots(figsize = (4,3))\n",
    "data = []\n",
    "for _, group in grouped_mode:\n",
    "    # 0.5Hz sampling, needs to be divided by 2\n",
    "    data.append(len(group) / 2)\n",
    "\n",
    "plt.bar(np.arange(1, len(data) + 1), data, width=0.5, color='black', alpha  = 0.7, align = 'center')\n",
    "\n",
    "plt.xticks(np.arange(1, len(data) + 1), xticklabels, rotation = 'horizontal')\n",
    "plt.xlim(0.5, 4)\n",
    "plt.xlabel('ventilation mode', size = 14)\n",
    "plt.ylabel('inflations (n)', size = 14)\n",
    "ax.tick_params(axis='both', which='major', labelsize=14)\n",
    "plt.grid(True)\n",
    "\n",
    "fig.savefig('%s/%s.%s' % (DIR_WRITE,  'VTdiff_wt_mode_count',  filetype),\n",
    "            dpi = dpi, facecolor='w', edgecolor='w', orientation='portrait', papertype=None, format = filetype,\n",
    "            transparent=False, bbox_inches='tight', pad_inches=0.1, frameon=True);"
   ]
  },
  {
   "cell_type": "code",
   "execution_count": null,
   "metadata": {
    "scrolled": true
   },
   "outputs": [],
   "source": [
    "dpi = 300\n",
    "filetype = 'jpg'\n",
    "xticklabels = ['SIMV', 'SIMV-PS', 'SIPPV']\n",
    "# Define styling for each boxplot component\n",
    "medianprops = {'color': 'black', 'linewidth': 2}\n",
    "boxprops = {'color': 'black', 'linestyle': '-'}\n",
    "whiskerprops = {'color': 'black', 'linestyle': '-'}\n",
    "capprops = {'color': 'black', 'linestyle': '-'}\n",
    "# flierprops = {'color': 'black', 'marker': 'x'}\n",
    "\n",
    "fig, ax = plt.subplots(figsize = (3.5, 4))\n",
    "data = []\n",
    "for name, group in grouped_mode:\n",
    "    data.append(group['VT_diff_kg'].dropna().values)\n",
    "plt.boxplot(data, whis = [5, 95], showfliers = False,widths = 0.5,\n",
    "        medianprops=medianprops, boxprops=boxprops, whiskerprops=whiskerprops, capprops=capprops,)\n",
    "\n",
    "plt.xticks(np.arange(1, len(data)+1), xticklabels, rotation = 'horizontal')\n",
    "plt.ylim(-3, 3)\n",
    "plt.xlabel('ventilator mode', size = 14)\n",
    "plt.ylabel('VTdiff (mL/kg))', size = 14)\n",
    "ax.tick_params(axis='both', which='major', labelsize=14)\n",
    "plt.grid(True)\n",
    "\n",
    "fig.savefig('%s/%s.%s' % (DIR_WRITE,  'VTdiff_mode',  filetype),\n",
    "            dpi = dpi, facecolor='w', edgecolor='w', orientation='portrait', papertype=None, format = filetype,\n",
    "            transparent=False, bbox_inches='tight', pad_inches=0.1, frameon=True);"
   ]
  },
  {
   "cell_type": "markdown",
   "metadata": {},
   "source": [
    "## Save curves for some parameters for each recording"
   ]
  },
  {
   "cell_type": "markdown",
   "metadata": {},
   "source": [
    "##### VTemand_kg and VG_set_kg"
   ]
  },
  {
   "cell_type": "raw",
   "metadata": {},
   "source": [
    "pars = ['VTemand_kg', 'VG_set_kg']\n",
    "name = 'VTemand_VG_set'\n",
    "dim = 'mL/kg'; filetype = 'jpg'; dpi = 200\n",
    "\n",
    "for case in cases:\n",
    "\n",
    "    fig = plt.figure()\n",
    "    fig.set_size_inches(8, 4)\n",
    "    fig.subplots_adjust(left=None, bottom=None, right=None, top=None, \n",
    "                            wspace=None, hspace=0.1)\n",
    "    ax0 = fig.add_subplot(1, 1, 1)\n",
    "    data_pars_combined_vg_all.loc[case][pars[0]].plot()\n",
    "    data_pars_combined_vg_all.loc[case][pars[1]].plot(color = 'red')\n",
    "\n",
    "    ax0.set_xlabel('Time', size = 14, color = 'black')\n",
    "    ax0.set_ylabel(dim, size = 14, color = 'black')\n",
    "    ax0.set_title(case,  size = 14, color = 'black')\n",
    "    ax0.legend(pars, fontsize = 12)\n",
    "    ax0.grid('on', linestyle='-', linewidth=0.5, color = 'gray')\n",
    "    xticks = pd.date_range(start = data_pars_combined_vg_all.loc[case].index.min(), \n",
    "                           end = data_pars_combined_vg_all.loc[case].index.max(), freq='15min')\n",
    "    # plt.xticks(xticks, xticks.strftime('%H:%M'), rotation=0, ha=\"center\")\n",
    "    ax0.tick_params(which = 'both', labelsize=14)\n",
    "            \n",
    "    fig.savefig('%s/%s/%s/%s_%s_%s.%s' % (DATA_DUMP, 'fabian_cases', case, case, 'VG', name, filetype), dpi = dpi, \n",
    "        facecolor='w', edgecolor='w', orientation='portrait', \n",
    "        papertype=None, format = filetype, transparent=False, bbox_inches='tight',\n",
    "        pad_inches=0.1, frameon=True);\n",
    "\n",
    "    plt.close()"
   ]
  },
  {
   "cell_type": "markdown",
   "metadata": {},
   "source": [
    "#### PIP with limits"
   ]
  },
  {
   "cell_type": "raw",
   "metadata": {},
   "source": [
    "pars = ['PIP', 'PIP_set', 'PIP_lim_high_set', 'PIP_lim_low_set']\n",
    "name = 'PIP_with_limits'\n",
    "dim = 'cmH$_2$O'; filetype = 'jpg'; dpi = 200\n",
    "\n",
    "for case in cases:\n",
    "\n",
    "    fig = plt.figure()\n",
    "    fig.set_size_inches(8, 4)\n",
    "    fig.subplots_adjust(left=None, bottom=None, right=None, top=None, \n",
    "                            wspace=None, hspace=0.1)\n",
    "    ax0 = fig.add_subplot(1, 1, 1)\n",
    "    data_pars_measurements_vg[case][pars[0]].plot()\n",
    "    data_pars_settings_vg[case][pars[1]].plot(color = 'black', linewidth = 2)\n",
    "    data_pars_settings_vg[case][pars[2]].plot(color = 'red')\n",
    "    data_pars_settings_vg[case][pars[3]].plot(color = 'red')\n",
    "    \n",
    "    ax0.set_ylim(0, data_pars_settings_vg[case][pars[2]].max() + 10)\n",
    "    ax0.set_xlabel('Time', size = 14, color = 'black')\n",
    "    ax0.set_ylabel(dim, size = 14, color = 'black')\n",
    "    ax0.set_title(case,  size = 14, color = 'black')\n",
    "    ax0.legend(pars, fontsize = 12)\n",
    "    ax0.grid('on', linestyle='-', linewidth=0.5, color = 'gray')\n",
    "    xticks = pd.date_range(start = data_pars_combined_vg_all.loc[case].index.min(), \n",
    "                           end = data_pars_combined_vg_all.loc[case].index.max(), freq='15min')\n",
    "    # plt.xticks(xticks, xticks.strftime('%H:%M'), rotation=0, ha=\"center\")\n",
    "    ax0.tick_params(which = 'both', labelsize=14)\n",
    "            \n",
    "    fig.savefig('%s/%s/%s/%s_%s_%s.%s' % (DATA_DUMP, 'fabian_cases', case, case, 'VG', name, filetype), dpi = dpi, \n",
    "        facecolor='w', edgecolor='w', orientation='portrait', \n",
    "        papertype=None, format = filetype, transparent=False, bbox_inches='tight',\n",
    "        pad_inches=0.1, frameon=True);\n",
    "\n",
    "    plt.close()"
   ]
  },
  {
   "cell_type": "markdown",
   "metadata": {},
   "source": [
    "##### MV"
   ]
  },
  {
   "cell_type": "raw",
   "metadata": {},
   "source": [
    "pars = ['MV_kg']\n",
    "name = 'MV'\n",
    "dim = 'mL/kg'; filetype = 'jpg'; dpi = 200\n",
    "\n",
    "for case in cases:\n",
    "\n",
    "    fig = plt.figure()\n",
    "    fig.set_size_inches(8, 4)\n",
    "    fig.subplots_adjust(left=None, bottom=None, right=None, top=None, \n",
    "                            wspace=None, hspace=0.1)\n",
    "    ax0 = fig.add_subplot(1, 1, 1)\n",
    "    data_pars_measurements_vg[case][pars[0]].plot(color = 'blue')\n",
    "    \n",
    "    ax0.set_xlabel('Time', size = 14, color = 'black')\n",
    "    ax0.set_ylabel(dim, size = 14, color = 'black')\n",
    "    ax0.set_title(case,  size = 14, color = 'black')\n",
    "    ax0.legend(pars, fontsize = 12)\n",
    "    ax0.grid('on', linestyle='-', linewidth=0.5, color = 'gray')\n",
    "    xticks = pd.date_range(start = data_pars_combined_vg_all.loc[case].index.min(), \n",
    "                           end = data_pars_combined_vg_all.loc[case].index.max(), freq='15min')\n",
    "    # plt.xticks(xticks, xticks.strftime('%H:%M'), rotation=0, ha=\"center\")\n",
    "    ax0.tick_params(which = 'both', labelsize=14)\n",
    "            \n",
    "    fig.savefig('%s/%s/%s/%s_%s_%s.%s' % (DATA_DUMP, 'fabian_cases', case, case, 'VG', name, filetype), dpi = dpi, \n",
    "        facecolor='w', edgecolor='w', orientation='portrait', \n",
    "        papertype=None, format = filetype, transparent=False, bbox_inches='tight',\n",
    "        pad_inches=0.1, frameon=True);\n",
    "\n",
    "    plt.close()"
   ]
  },
  {
   "cell_type": "markdown",
   "metadata": {},
   "source": [
    "## Correlation between ventilator parameters and pCO2"
   ]
  },
  {
   "cell_type": "markdown",
   "metadata": {},
   "source": [
    "### Set `interval` and `offset`  and `dead_space` for parameter analysis"
   ]
  },
  {
   "cell_type": "code",
   "execution_count": null,
   "metadata": {},
   "outputs": [],
   "source": [
    "# Analysing MVs over \"interval\" minutes stopping \"offset\" minutes prior to the time\n",
    "# of the blood gas\n",
    "\n",
    "interval = 10 #  minutes\n",
    "offset = 2 #  minutes"
   ]
  },
  {
   "cell_type": "markdown",
   "metadata": {},
   "source": [
    "### Set `colors` and `marker sets` for visualization"
   ]
  },
  {
   "cell_type": "code",
   "execution_count": null,
   "metadata": {},
   "outputs": [],
   "source": [
    "# color and marker set for visualization\n",
    "\n",
    "colors = ['b', 'g', 'r', 'm', 'y', 'k', 'magenta', 'maroon', 'navy', 'salmon',]\n",
    "markers = '.o+Dds*<>^vphh8'\n",
    "colmarks = [(color, marker) for marker in markers for color in colors ]\n",
    "colmarks = colmarks * 10"
   ]
  },
  {
   "cell_type": "markdown",
   "metadata": {},
   "source": [
    "### Generate DataFrame with pCO2 data and mean minute volume (MV) and mean VTemand over a 10-minute period -12 - -2 minutes prior to the gas."
   ]
  },
  {
   "cell_type": "code",
   "execution_count": null,
   "metadata": {},
   "outputs": [],
   "source": [
    "blood_gases_vg = {case: blood_gases[case] for case in blood_gases.keys()\n",
    "                       if case in cases }\n",
    "\n",
    "len(blood_gases_vg) # number of cases when blood gases were available"
   ]
  },
  {
   "cell_type": "code",
   "execution_count": null,
   "metadata": {},
   "outputs": [],
   "source": [
    "blood_gases_vg = pd.concat(blood_gases_vg, sort = True)\n",
    "blood_gases_vg['pCO2'] = blood_gases_vg['pCO2'].astype('float')\n",
    "blood_gases_vg.head()"
   ]
  },
  {
   "cell_type": "code",
   "execution_count": null,
   "metadata": {},
   "outputs": [],
   "source": [
    "len(blood_gases_vg['pCO2'])"
   ]
  },
  {
   "cell_type": "code",
   "execution_count": null,
   "metadata": {
    "scrolled": false
   },
   "outputs": [],
   "source": [
    "len(blood_gases_vg[(blood_gases_vg['pCO2'] >= 37.5) & (blood_gases_vg['pCO2'] <= 60)])"
   ]
  },
  {
   "cell_type": "code",
   "execution_count": null,
   "metadata": {},
   "outputs": [],
   "source": [
    "CO2_vg = blood_gases_vg[['Type','pCO2']]\n",
    "CO2_vg.head()"
   ]
  },
  {
   "cell_type": "code",
   "execution_count": null,
   "metadata": {},
   "outputs": [],
   "source": [
    "CO2_vg['Type'].value_counts(dropna = False)"
   ]
  },
  {
   "cell_type": "code",
   "execution_count": null,
   "metadata": {},
   "outputs": [],
   "source": [
    "CO2_vg[CO2_vg['Type'] == 'Art']"
   ]
  },
  {
   "cell_type": "code",
   "execution_count": null,
   "metadata": {},
   "outputs": [],
   "source": [
    "CO2_vg['pCO2'].describe()"
   ]
  },
  {
   "cell_type": "code",
   "execution_count": null,
   "metadata": {},
   "outputs": [],
   "source": [
    "# Define a function to generate a separate DataFrames MV values during the interval before each blood gas\n",
    "\n",
    "def data_selector(rec, pars, time, interval, offset):\n",
    "    '''\n",
    "    Returns a trimmed DataFrame before a set timepoint (starts at (interval + offset) minutes before\n",
    "    the timepoint and ends at offset minutes before the time point. The DataFrame only contains\n",
    "    the parameters listed in par. \n",
    "    \n",
    "    Example: data_selector(data_pars_combined_vg_all.reset_index('recording'),\n",
    "                          ['recording', 'MV_kg'], '2017-04-01 00:53:00', 10, 2)\n",
    "    \n",
    "    '''\n",
    "    # time is given in nanoseconds: 1 min = 60000000000 nanoseconds\n",
    "    end = pd.to_datetime(time) - pd.to_timedelta(offset * 60000000000) \n",
    "    start = end - pd.to_timedelta(interval * 60000000000) + pd.to_timedelta(1000000000)\n",
    "    # 1 sec (1000000000 nsec) needs to be taken away otherwise the period will be 1 second \n",
    "    # too long as it includes the last second\n",
    "    \n",
    "    data = rec.loc[start : end ][pars]\n",
    "    return data"
   ]
  },
  {
   "cell_type": "code",
   "execution_count": null,
   "metadata": {},
   "outputs": [],
   "source": [
    "# Over 10 minutes, stopping at two minutes prior to the blood gas\n",
    "\n",
    "vent_pars_gas = {}\n",
    "for time in CO2_vg.reset_index('Time')['Time'].values:\n",
    "    vent_pars_gas[str(time)] = data_selector(data_pars_combined_vg_all.reset_index('recording'), \n",
    "                           ['recording', 'MV_kg', 'VTemand_kg', 'VG_set_kg'], time, 10, 2)"
   ]
  },
  {
   "cell_type": "markdown",
   "metadata": {},
   "source": [
    "##### Remove items from the dictionary where there < 8min (<240 data points) before the blood gas"
   ]
  },
  {
   "cell_type": "code",
   "execution_count": null,
   "metadata": {},
   "outputs": [],
   "source": [
    "vent_pars_gas = {key : value for key, value in vent_pars_gas.items() if len(value) >= 240}"
   ]
  },
  {
   "cell_type": "raw",
   "metadata": {
    "scrolled": false
   },
   "source": [
    "for key, value in vent_pars_gas.items():\n",
    "    print(key, len(value.index))"
   ]
  },
  {
   "cell_type": "code",
   "execution_count": null,
   "metadata": {},
   "outputs": [],
   "source": [
    "len(vent_pars_gas)"
   ]
  },
  {
   "cell_type": "code",
   "execution_count": null,
   "metadata": {},
   "outputs": [],
   "source": [
    "vent_pars_CO2 = {}\n",
    "\n",
    "for key in vent_pars_gas.keys():\n",
    "    a = CO2_vg.reset_index(0).loc[pd.to_datetime(key)]\n",
    "    vent_pars_CO2[pd.to_datetime(key)] = [float(vent_pars_gas[key]['MV_kg'].mean()), \n",
    "                                          float(vent_pars_gas[key]['VTemand_kg'].mean()), \n",
    "                                          float(vent_pars_gas[key]['VG_set_kg'].mean()), \n",
    "                                          a['level_0'], a['Type'], float(a['pCO2'])]\n",
    "    \n",
    "vent_pars_CO2 = DataFrame(vent_pars_CO2).T\n",
    "vent_pars_CO2.columns = ['MV_kg', 'VTemand_kg', 'VG_set_kg', 'recording', 'gas_type', 'pCO2']\n",
    "vent_pars_CO2 = pd.merge(vent_pars_CO2, clin_df[['Weight']], left_on = 'recording', right_index= True)\n"
   ]
  },
  {
   "cell_type": "code",
   "execution_count": null,
   "metadata": {
    "scrolled": true
   },
   "outputs": [],
   "source": [
    "vent_pars_CO2.dropna(how = 'any', subset = ['pCO2'], inplace = True)\n",
    "len(vent_pars_CO2)"
   ]
  },
  {
   "cell_type": "code",
   "execution_count": null,
   "metadata": {},
   "outputs": [],
   "source": [
    "vent_pars_CO2 = pd.merge(vent_pars_CO2, \n",
    "    data_pars_combined_vg_all[['Ventilator_mode']].reset_index().set_index('datetime').resample('1min').first(), \n",
    "        left_index = True, right_index= True)\n",
    "\n",
    "vent_pars_CO2['Recording'] = vent_pars_CO2['recording_x']\n",
    "vent_pars_CO2.drop(['recording_x', 'recording_y'], axis = 1, inplace = True)"
   ]
  },
  {
   "cell_type": "code",
   "execution_count": null,
   "metadata": {
    "scrolled": false
   },
   "outputs": [],
   "source": [
    "vent_pars_CO2;"
   ]
  },
  {
   "cell_type": "code",
   "execution_count": null,
   "metadata": {},
   "outputs": [],
   "source": [
    "len(vent_pars_CO2)"
   ]
  },
  {
   "cell_type": "code",
   "execution_count": null,
   "metadata": {},
   "outputs": [],
   "source": [
    "normocapnic = vent_pars_CO2[(vent_pars_CO2['pCO2'] >= 37.5) &  (vent_pars_CO2['pCO2'] <= 60)]"
   ]
  },
  {
   "cell_type": "code",
   "execution_count": null,
   "metadata": {},
   "outputs": [],
   "source": [
    "len(normocapnic)"
   ]
  },
  {
   "cell_type": "code",
   "execution_count": null,
   "metadata": {},
   "outputs": [],
   "source": [
    "normocapnic_4_6 = normocapnic[(normocapnic['VTemand_kg'] >= 4) & (normocapnic['VTemand_kg'] <= 6)]"
   ]
  },
  {
   "cell_type": "code",
   "execution_count": null,
   "metadata": {},
   "outputs": [],
   "source": [
    "len(normocapnic_4_6)"
   ]
  },
  {
   "cell_type": "code",
   "execution_count": null,
   "metadata": {},
   "outputs": [],
   "source": [
    "normocapnic_4_6;"
   ]
  },
  {
   "cell_type": "code",
   "execution_count": null,
   "metadata": {},
   "outputs": [],
   "source": [
    "normocapnic_below_4 = normocapnic[(normocapnic['VTemand_kg'] < 4)]"
   ]
  },
  {
   "cell_type": "code",
   "execution_count": null,
   "metadata": {},
   "outputs": [],
   "source": [
    "len(normocapnic_below_4)"
   ]
  },
  {
   "cell_type": "code",
   "execution_count": null,
   "metadata": {},
   "outputs": [],
   "source": [
    "normocapnic_above_6 = normocapnic[(normocapnic['VTemand_kg'] > 6)]"
   ]
  },
  {
   "cell_type": "code",
   "execution_count": null,
   "metadata": {},
   "outputs": [],
   "source": [
    "len(normocapnic_above_6)"
   ]
  },
  {
   "cell_type": "code",
   "execution_count": null,
   "metadata": {},
   "outputs": [],
   "source": [
    "vent_pars_CO2['gas_type'].unique()"
   ]
  },
  {
   "cell_type": "code",
   "execution_count": null,
   "metadata": {},
   "outputs": [],
   "source": [
    "len(vent_pars_CO2[vent_pars_CO2['gas_type'] == 'Art'])"
   ]
  },
  {
   "cell_type": "code",
   "execution_count": null,
   "metadata": {},
   "outputs": [],
   "source": [
    "len(vent_pars_CO2[vent_pars_CO2['gas_type'] == 'Venas'])"
   ]
  },
  {
   "cell_type": "code",
   "execution_count": null,
   "metadata": {},
   "outputs": [],
   "source": [
    "len(vent_pars_CO2[vent_pars_CO2['gas_type'].isnull()])"
   ]
  },
  {
   "cell_type": "code",
   "execution_count": null,
   "metadata": {
    "scrolled": true
   },
   "outputs": [],
   "source": [
    "len(vent_pars_CO2[vent_pars_CO2['gas_type'] == 'Capillaris'])"
   ]
  },
  {
   "cell_type": "code",
   "execution_count": null,
   "metadata": {},
   "outputs": [],
   "source": [
    "vent_pars_CO2['gas_type'].describe()"
   ]
  },
  {
   "cell_type": "code",
   "execution_count": null,
   "metadata": {},
   "outputs": [],
   "source": [
    "stats.pearsonr(vent_pars_CO2['VTemand_kg'], vent_pars_CO2['pCO2'])"
   ]
  },
  {
   "cell_type": "code",
   "execution_count": null,
   "metadata": {},
   "outputs": [],
   "source": [
    "stats.pearsonr(vent_pars_CO2['VG_set_kg'], vent_pars_CO2['pCO2'])"
   ]
  },
  {
   "cell_type": "code",
   "execution_count": null,
   "metadata": {},
   "outputs": [],
   "source": [
    "stats.pearsonr(vent_pars_CO2['MV_kg'], vent_pars_CO2['pCO2'])"
   ]
  },
  {
   "cell_type": "code",
   "execution_count": null,
   "metadata": {},
   "outputs": [],
   "source": [
    "def corr_pearson(x, y):\n",
    "\n",
    "    '''\n",
    "    input: two numeric arrays of the same size\n",
    "\n",
    "    returns: a tuple of \n",
    "    1. Pearson's correlation coefficient: r\n",
    "    2. low and high 95% confidence intervals or r (two values)\n",
    "    3. Coefficient of determination: r^2\n",
    "    4. p-value of correlation\n",
    "\n",
    "    '''\n",
    "    \n",
    "    assert len(x) == len(y)\n",
    "    \n",
    "    r, p = pearsonr(x, y)\n",
    "    f = 0.5*np.log((1+r)/(1-r))\n",
    "    se = 1/np.sqrt(len(x)-3)\n",
    "    ucl = f + 1.96 * se\n",
    "    lcl = f - 1.96 * se\n",
    "\n",
    "    lcl = (np.exp(2*lcl) - 1) / (np.exp(2*lcl) + 1)\n",
    "    ucl = (np.exp(2*ucl) - 1) / (np.exp(2*ucl) + 1)\n",
    "\n",
    "    return r , lcl, ucl , r*r, p"
   ]
  },
  {
   "cell_type": "markdown",
   "metadata": {},
   "source": [
    "#### MV"
   ]
  },
  {
   "cell_type": "code",
   "execution_count": null,
   "metadata": {},
   "outputs": [],
   "source": [
    "dpi = 300\n",
    "filetype = 'jpg'\n",
    "\n",
    "x = vent_pars_CO2['MV_kg']\n",
    "y = vent_pars_CO2['pCO2']\n",
    "\n",
    "fig = plt.figure()\n",
    "fig.set_size_inches(6,6)\n",
    "fig.subplots_adjust(left=None, bottom=None, right=None, top=None, wspace=None, hspace=0.7)\n",
    "\n",
    "fig.add_subplot(1,1,1);\n",
    "plt.scatter(x, y, color = 'blue', marker = 'o', s = 15)\n",
    "plt.ylim([0, 120])\n",
    "plt.ylabel(r'pCO$_2$ (mmHg)', fontsize  = 14)\n",
    "plt.xlabel('MV (L/min/kg)', fontsize  = 14)\n",
    "plt.tick_params(axis = 'both', labelsize = 14)\n",
    "plt.title('MV - pCO$_2$', fontsize = 14)\n",
    "plt.grid(True)\n",
    "\n",
    "fig.savefig('%s/%s.%s' % (DIR_WRITE, 'MV_CO2',  filetype), \n",
    "            dpi = dpi, facecolor='w', edgecolor='w',\n",
    "            orientation='portrait', papertype=None, format = filetype,\n",
    "            transparent=False, bbox_inches='tight', pad_inches=0.1, frameon=True);"
   ]
  },
  {
   "cell_type": "code",
   "execution_count": null,
   "metadata": {},
   "outputs": [],
   "source": [
    "from scipy.stats import pearsonr\n",
    "dpi = 300\n",
    "filetype = 'jpg'\n",
    "bins = [0, 1000, 1500, 2000, 3000, 6500]\n",
    "labels = ['<1000g', '1000-1500g', '1500-2000g', '2000-3000g', '>3000g']\n",
    "\n",
    "colors = ['k', 'r', 'b', 'g', 'm', 'y', 'magenta', 'maroon', 'navy', 'salmon',]\n",
    "markers = 'oDds*<>+.^vphh8'\n",
    "\n",
    "fig = plt.figure()\n",
    "fig.set_size_inches(8, 8)\n",
    "fig.subplots_adjust(left=None, bottom=None, right=None, top=None, wspace=None, hspace=0.7)\n",
    "fig.add_subplot(1,1,1);\n",
    "\n",
    "i = 0\n",
    "for index, group in vent_pars_CO2.groupby(pd.cut(vent_pars_CO2['Weight'], bins = bins, right = False)):\n",
    "\n",
    "    x = group['MV_kg']\n",
    "    y = group['pCO2']\n",
    "    plt.scatter(x, y, color = colors[i], marker = markers[i], s = 30, label = labels[i])\n",
    "    i += 1\n",
    "    \n",
    "plt.ylim([0, 120])\n",
    "plt.ylabel(r'pCO$_2$ (mmHg)', fontsize  = 14)\n",
    "plt.xlabel('MV (L/min/kg)', fontsize  = 14)\n",
    "plt.tick_params(axis = 'both', labelsize = 14)\n",
    "plt.title('MV - pCO$_2$', fontsize = 14)\n",
    "plt.grid(True)\n",
    "plt.legend()\n",
    "\n",
    "# Polynomial Coefficients\n",
    "coeffs = np.polyfit(vent_pars_CO2['MV_kg'].values.astype('float'), \n",
    "                    vent_pars_CO2['pCO2'].values.astype('float'), deg = 1)\n",
    "result = coeffs.tolist()\n",
    "result\n",
    "\n",
    "fig.savefig('%s/%s_%s.%s' % (DIR_WRITE, 'MV_CO2', 'weight',  filetype), \n",
    "            dpi = dpi, facecolor='w', edgecolor='w',\n",
    "            orientation='portrait', papertype=None, format = filetype,\n",
    "            transparent=False, bbox_inches='tight', pad_inches=0.1, frameon=True);"
   ]
  },
  {
   "cell_type": "code",
   "execution_count": null,
   "metadata": {
    "scrolled": false
   },
   "outputs": [],
   "source": [
    "from scipy.stats import pearsonr\n",
    "dpi = 300\n",
    "filetype = 'jpg'\n",
    "bins = [0, 1000, 1500, 2000, 3000, 6500]\n",
    "labels = ['<1000g', '1000-1500g', '1500-2000g', '2000-3000g', '>3000g']\n",
    "\n",
    "colors = ['k', 'r', 'b', 'g', 'm', 'y', 'magenta', 'maroon', 'navy', 'salmon',]\n",
    "markers = 'oDds*<>+.^vphh8'\n",
    "\n",
    "fig = plt.figure()\n",
    "fig.set_size_inches(8, 8)\n",
    "fig.subplots_adjust(left=None, bottom=None, right=None, top=None, wspace=None, hspace=0.7)\n",
    "fig.add_subplot(1,1,1);\n",
    "\n",
    "i = 0\n",
    "for index, group in vent_pars_CO2.groupby(pd.cut(vent_pars_CO2['Weight'], bins = bins, right = False)):\n",
    "\n",
    "    x = group['MV_kg']\n",
    "    y = group['pCO2']\n",
    "    plt.scatter(x, y, color = colors[i], marker = markers[i], s = 30, label = labels[i])\n",
    "    i += 1\n",
    "    \n",
    "plt.ylim([0, 120])\n",
    "plt.ylabel(r'pCO$_2$ (mmHg)', fontsize  = 14)\n",
    "plt.xlabel('MV (L/min/kg)', fontsize  = 14)\n",
    "plt.tick_params(axis = 'both', labelsize = 14)\n",
    "plt.title('MV - pCO$_2$', fontsize = 14)\n",
    "plt.grid(True)\n",
    "plt.legend()\n",
    "\n",
    "# Polynomial Coefficients\n",
    "coeffs = np.polyfit(vent_pars_CO2['MV_kg'].values.astype('float'), \n",
    "                    vent_pars_CO2['pCO2'].values.astype('float'), deg = 1)\n",
    "result = coeffs.tolist()\n",
    "result\n",
    "\n",
    "# Fit a trendline\n",
    "l = np.poly1d(coeffs)\n",
    "plt.plot(x,l(x),'r--')\n",
    "\n",
    "# Calculate pearson's correlation coefficient with confidence intervals, coefficiet of determination and p value\n",
    "r , lcl, ucl , r2, p = corr_pearson(vent_pars_CO2['MV_kg'], vent_pars_CO2['pCO2'])\n",
    "\n",
    "# print the equation on the graph area \n",
    "text = 'y=%.2fx+(%.2f)\\nr=%.2f (%.2f , %.2f)\\np=%.4f' % (result[0], result[1], r, lcl, ucl, p)\n",
    "plt.text(0.03 , 5 ,  text, color = 'black', style='normal', fontsize = 14, \n",
    "         bbox={'facecolor':'white', 'edgecolor':'black', 'alpha':1, 'pad':10})\n",
    "\n",
    "fig.savefig('%s/%s_%s.%s' % (DIR_WRITE, 'MV_CO2', 'weight_with_line',  filetype), \n",
    "            dpi = dpi, facecolor='w', edgecolor='w',\n",
    "            orientation='portrait', papertype=None, format = filetype,\n",
    "            transparent=False, bbox_inches='tight', pad_inches=0.1, frameon=True);"
   ]
  },
  {
   "cell_type": "code",
   "execution_count": null,
   "metadata": {},
   "outputs": [],
   "source": [
    "from scipy.stats import pearsonr\n",
    "dpi = 300\n",
    "filetype = 'jpg'\n",
    "bins = [0, 1000, 1500, 2000, 3000, 6500]\n",
    "labels = ['<1000g', '1000-1500g', '1500-2000g', '2000-3000g', '>3000g']\n",
    "\n",
    "colors = ['k', 'r', 'b', 'g', 'm', 'y', 'magenta', 'maroon', 'navy', 'salmon',]\n",
    "markers = 'oDds*<>+.^vphh8'\n",
    "\n",
    "fig = plt.figure()\n",
    "fig.set_size_inches(8, 8)\n",
    "fig.subplots_adjust(left=None, bottom=None, right=None, top=None, wspace=None, hspace=0.7)\n",
    "fig.add_subplot(1,1,1);\n",
    "\n",
    "i = 0\n",
    "for index, group in vent_pars_CO2.groupby('Ventilator_mode'):\n",
    "\n",
    "    x = group['MV_kg']\n",
    "    y = group['pCO2']\n",
    "    plt.scatter(x, y, color = colors[i], marker = markers[i], s = 30, label = index)\n",
    "    i += 1\n",
    "    \n",
    "plt.ylim([0, 120])\n",
    "plt.ylabel(r'pCO$_2$ (mmHg)', fontsize  = 14)\n",
    "plt.xlabel('MV (L/min/kg)', fontsize  = 14)\n",
    "plt.tick_params(axis = 'both', labelsize = 14)\n",
    "plt.title('MV - pCO$_2$', fontsize = 14)\n",
    "plt.grid(True)\n",
    "plt.legend()\n",
    "\n",
    "# Polynomial Coefficients\n",
    "coeffs = np.polyfit(vent_pars_CO2['MV_kg'].values.astype('float'), \n",
    "                    vent_pars_CO2['pCO2'].values.astype('float'), deg = 1)\n",
    "result = coeffs.tolist()\n",
    "result\n",
    "\n",
    "# Fit a trendline\n",
    "l = np.poly1d(coeffs)\n",
    "plt.plot(x,l(x),'r--')\n",
    "\n",
    "# Calculate pearson's correlation coefficient with confidence intervals, coefficiet of determination and p value\n",
    "r , lcl, ucl , r2, p = corr_pearson(vent_pars_CO2['MV_kg'], vent_pars_CO2['pCO2'])\n",
    "\n",
    "# print the equation on the graph area \n",
    "text = 'y=%.2fx+(%.2f)\\nr=%.2f (%.2f , %.2f)\\np=%.4f' % (result[0], result[1], r, lcl, ucl, p)\n",
    "plt.text(0.03 , 5 ,  text, color = 'black', style='normal', fontsize = 14, \n",
    "         bbox={'facecolor':'white', 'edgecolor':'black', 'alpha':1, 'pad':10})\n",
    "\n",
    "fig.savefig('%s/%s_%s.%s' % (DIR_WRITE, 'MV_CO2', 'vent_mode',  filetype), \n",
    "            dpi = dpi, facecolor='w', edgecolor='w',\n",
    "            orientation='portrait', papertype=None, format = filetype,\n",
    "            transparent=False, bbox_inches='tight', pad_inches=0.1, frameon=True);"
   ]
  },
  {
   "cell_type": "code",
   "execution_count": null,
   "metadata": {},
   "outputs": [],
   "source": [
    "from scipy.stats import pearsonr\n",
    "dpi = 300\n",
    "filetype = 'jpg'\n",
    "bins = [0, 1000, 1500, 2000, 3000, 6500]\n",
    "labels = ['<1000g', '1000-1500g', '1500-2000g', '2000-3000g', '>3000g']\n",
    "\n",
    "colors = ['k', 'r', 'b', 'g', 'm', 'y', 'magenta', 'maroon', 'navy', 'salmon',]\n",
    "markers = 'oDds*<>+.^vphh8'\n",
    "\n",
    "fig = plt.figure()\n",
    "fig.set_size_inches(8, 8)\n",
    "fig.subplots_adjust(left=None, bottom=None, right=None, top=None, wspace=None, hspace=0.7)\n",
    "fig.add_subplot(1,1,1);\n",
    "\n",
    "i = 0\n",
    "for index, group in vent_pars_CO2.groupby('Ventilator_mode'):\n",
    "    if index == 'SIPPV':\n",
    "        x = group['MV_kg']\n",
    "        y = group['pCO2']\n",
    "        plt.scatter(x, y, color = colors[i], marker = markers[i], s = 30, label = index)\n",
    "        i += 1\n",
    "    \n",
    "plt.xlim([0, 0.6])\n",
    "plt.ylim([0, 120])\n",
    "plt.ylabel(r'pCO$_2$ (mmHg)', fontsize  = 14)\n",
    "plt.xlabel('MV (L/min/kg)', fontsize  = 14)\n",
    "plt.tick_params(axis = 'both', labelsize = 14)\n",
    "plt.title('MV - pCO$_2$', fontsize = 14)\n",
    "plt.grid(True)\n",
    "plt.legend()\n",
    "\n",
    "vent_pars_CO2_SIPPV = vent_pars_CO2[vent_pars_CO2['Ventilator_mode'] == 'SIPPV']\n",
    "\n",
    "# Polynomial Coefficients\n",
    "coeffs = np.polyfit(vent_pars_CO2_SIPPV['MV_kg'].values.astype('float'), \n",
    "                    vent_pars_CO2_SIPPV['pCO2'].values.astype('float'), deg = 1)\n",
    "result = coeffs.tolist()\n",
    "result\n",
    "\n",
    "# Fit a trendline\n",
    "l = np.poly1d(coeffs)\n",
    "plt.plot(x,l(x),'r--')\n",
    "\n",
    "# Calculate pearson's correlation coefficient with confidence intervals, coefficiet of determination and p value\n",
    "r , lcl, ucl , r2, p = corr_pearson(vent_pars_CO2_SIPPV['MV_kg'], vent_pars_CO2_SIPPV['pCO2'])\n",
    "\n",
    "# print the equation on the graph area \n",
    "text = 'y=%.2fx+(%.2f)\\nr=%.2f (%.2f , %.2f)\\np=%.4f' % (result[0], result[1], r, lcl, ucl, p)\n",
    "plt.text(0.03 , 5 ,  text, color = 'black', style='normal', fontsize = 14, \n",
    "         bbox={'facecolor':'white', 'edgecolor':'black', 'alpha':1, 'pad':10})\n",
    "\n",
    "\n",
    "fig.savefig('%s/%s_%s.%s' % (DIR_WRITE, 'MV_CO2', 'vent_mode_SIPPV',  filetype), \n",
    "            dpi = dpi, facecolor='w', edgecolor='w',\n",
    "            orientation='portrait', papertype=None, format = filetype,\n",
    "            transparent=False, bbox_inches='tight', pad_inches=0.1, frameon=True);"
   ]
  },
  {
   "cell_type": "code",
   "execution_count": null,
   "metadata": {},
   "outputs": [],
   "source": [
    "from scipy.stats import pearsonr\n",
    "dpi = 300\n",
    "filetype = 'jpg'\n",
    "bins = [0, 1000, 1500, 2000, 3000, 6500]\n",
    "labels = ['<1000g', '1000-1500g', '1500-2000g', '2000-3000g', '>3000g']\n",
    "\n",
    "colors = ['k', 'r', 'b', 'g', 'm', 'y', 'magenta', 'maroon', 'navy', 'salmon',]\n",
    "markers = 'oDds*<>+.^vphh8'\n",
    "\n",
    "fig = plt.figure()\n",
    "fig.set_size_inches(8, 8)\n",
    "fig.subplots_adjust(left=None, bottom=None, right=None, top=None, wspace=None, hspace=0.7)\n",
    "fig.add_subplot(1,1,1);\n",
    "\n",
    "i = 0\n",
    "for index, group in vent_pars_CO2.groupby('Ventilator_mode'):\n",
    "    if index == 'SIMV' or index == 'SIMVPSV':\n",
    "        x = group['MV_kg']\n",
    "        y = group['pCO2']\n",
    "        plt.scatter(x, y, color = colors[i], marker = markers[i], s = 30, label = index)\n",
    "        i += 1\n",
    "    \n",
    "plt.xlim([0, 0.6])\n",
    "plt.ylim([0, 120])\n",
    "plt.ylabel(r'pCO$_2$ (mmHg)', fontsize  = 14)\n",
    "plt.xlabel('MV (L/min/kg)', fontsize  = 14)\n",
    "plt.tick_params(axis = 'both', labelsize = 14)\n",
    "plt.title('MV - pCO$_2$', fontsize = 14)\n",
    "plt.grid(True)\n",
    "plt.legend()\n",
    "\n",
    "vent_pars_CO2_SIMV = vent_pars_CO2[vent_pars_CO2['Ventilator_mode'].isin(['SIMV', 'SIMVPSV'])]\n",
    "\n",
    "# Polynomial Coefficients\n",
    "coeffs = np.polyfit(vent_pars_CO2_SIMV['MV_kg'].values.astype('float'), \n",
    "                    vent_pars_CO2_SIMV['pCO2'].values.astype('float'), deg = 1)\n",
    "result = coeffs.tolist()\n",
    "result\n",
    "\n",
    "# Fit a trendline\n",
    "l = np.poly1d(coeffs)\n",
    "plt.plot(x,l(x),'r--')\n",
    "\n",
    "# Calculate pearson's correlation coefficient with confidence intervals, coefficiet of determination and p value\n",
    "r , lcl, ucl , r2, p = corr_pearson(vent_pars_CO2_SIMV['MV_kg'], vent_pars_CO2_SIMV['pCO2'])\n",
    "\n",
    "# print the equation on the graph area \n",
    "text = 'y=%.2fx+(%.2f)\\nr=%.2f (%.2f , %.2f)\\np=%.4f' % (result[0], result[1], r, lcl, ucl, p)\n",
    "plt.text(0.03 , 5 ,  text, color = 'black', style='normal', fontsize = 14, \n",
    "         bbox={'facecolor':'white', 'edgecolor':'black', 'alpha':1, 'pad':10})\n",
    "\n",
    "\n",
    "fig.savefig('%s/%s_%s.%s' % (DIR_WRITE, 'MV_CO2', 'vent_mode_SIMV',  filetype), \n",
    "            dpi = dpi, facecolor='w', edgecolor='w',\n",
    "            orientation='portrait', papertype=None, format = filetype,\n",
    "            transparent=False, bbox_inches='tight', pad_inches=0.1, frameon=True);"
   ]
  },
  {
   "cell_type": "markdown",
   "metadata": {},
   "source": [
    "### VTemand"
   ]
  },
  {
   "cell_type": "code",
   "execution_count": null,
   "metadata": {},
   "outputs": [],
   "source": [
    "dpi = 300\n",
    "filetype = 'jpg'\n",
    "\n",
    "x = vent_pars_CO2['VTemand_kg']\n",
    "y = vent_pars_CO2['pCO2']\n",
    "\n",
    "fig = plt.figure()\n",
    "fig.set_size_inches(6,6)\n",
    "fig.subplots_adjust(left=None, bottom=None, right=None, top=None, wspace=None, hspace=0.7)\n",
    "\n",
    "fig.add_subplot(1,1,1);\n",
    "plt.scatter(x, y, color = 'blue', marker = 'o', s = 15)\n",
    "plt.ylim([0, 120])\n",
    "plt.ylabel(r'pCO$_2$ (mmHg)', fontsize  = 14)\n",
    "plt.xlabel('VTemand (mL/kg)', fontsize  = 14)\n",
    "plt.tick_params(axis = 'both', labelsize = 14)\n",
    "plt.title('VTemand - pCO$_2$', fontsize = 14)\n",
    "plt.grid(True)\n",
    "\n",
    "fig.savefig('%s/%s.%s' % (DIR_WRITE, 'VTemand_CO2',  filetype), \n",
    "            dpi = dpi, facecolor='w', edgecolor='w',\n",
    "            orientation='portrait', papertype=None, format = filetype,\n",
    "            transparent=False, bbox_inches='tight', pad_inches=0.1, frameon=True);"
   ]
  },
  {
   "cell_type": "code",
   "execution_count": null,
   "metadata": {},
   "outputs": [],
   "source": [
    "from scipy.stats import pearsonr\n",
    "dpi = 300\n",
    "filetype = 'jpg'\n",
    "bins = [0, 1000, 1500, 2000, 3000, 6500]\n",
    "labels = ['<1000g', '1000-1500g', '1500-2000g', '2000-3000g', '>3000g']\n",
    "\n",
    "colors = ['k', 'r', 'b', 'g', 'm', 'y', 'magenta', 'maroon', 'navy', 'salmon',]\n",
    "markers = 'oDds*<>+.^vphh8'\n",
    "\n",
    "fig = plt.figure()\n",
    "fig.set_size_inches(8, 8)\n",
    "fig.subplots_adjust(left=None, bottom=None, right=None, top=None, wspace=None, hspace=0.7)\n",
    "fig.add_subplot(1,1,1);\n",
    "\n",
    "i = 0\n",
    "for index, group in vent_pars_CO2.groupby(pd.cut(vent_pars_CO2['Weight'], bins = bins, right = False)):\n",
    "\n",
    "    x = group['VTemand_kg']\n",
    "    y = group['pCO2']\n",
    "    plt.scatter(x, y, color = colors[i], marker = markers[i], s = 30, label = labels[i])\n",
    "    i += 1\n",
    "    \n",
    "plt.ylim([0, 120])\n",
    "plt.ylabel(r'pCO$_2$ (mmHg)', fontsize  = 14)\n",
    "plt.xlabel('VTemand (mL/kg)', fontsize  = 14)\n",
    "plt.tick_params(axis = 'both', labelsize = 14)\n",
    "plt.title('VTemand - pCO$_2$', fontsize = 14)\n",
    "plt.grid(True)\n",
    "plt.legend()\n",
    "\n",
    "# Polynomial Coefficients\n",
    "coeffs = np.polyfit(vent_pars_CO2['VTemand_kg'].values.astype('float'), \n",
    "                    vent_pars_CO2['pCO2'].values.astype('float'), deg = 1)\n",
    "result = coeffs.tolist()\n",
    "result\n",
    "\n",
    "fig.savefig('%s/%s_%s.%s' % (DIR_WRITE, 'VTemand_CO2', 'weight',  filetype), \n",
    "            dpi = dpi, facecolor='w', edgecolor='w',\n",
    "            orientation='portrait', papertype=None, format = filetype,\n",
    "            transparent=False, bbox_inches='tight', pad_inches=0.1, frameon=True);"
   ]
  },
  {
   "cell_type": "code",
   "execution_count": null,
   "metadata": {},
   "outputs": [],
   "source": [
    "from scipy.stats import pearsonr\n",
    "dpi = 300\n",
    "filetype = 'jpg'\n",
    "bins = [0, 1000, 1500, 2000, 3000, 6500]\n",
    "labels = ['<1000g', '1000-1500g', '1500-2000g', '2000-3000g', '>3000g']\n",
    "\n",
    "colors = ['k', 'r', 'b', 'g', 'm', 'y', 'magenta', 'maroon', 'navy', 'salmon',]\n",
    "markers = 'oDds*<>+.^vphh8'\n",
    "\n",
    "fig = plt.figure()\n",
    "fig.set_size_inches(8, 8)\n",
    "fig.subplots_adjust(left=None, bottom=None, right=None, top=None, wspace=None, hspace=0.7)\n",
    "fig.add_subplot(1,1,1);\n",
    "\n",
    "i = 0\n",
    "for index, group in vent_pars_CO2.groupby(pd.cut(vent_pars_CO2['Weight'], bins = bins, right = False)):\n",
    "\n",
    "    x = group['VTemand_kg']\n",
    "    y = group['pCO2']\n",
    "    plt.scatter(x, y, color = colors[i], marker = markers[i], s = 30, label = labels[i])\n",
    "    i += 1\n",
    "    \n",
    "plt.ylim([0, 120])\n",
    "plt.ylabel(r'pCO$_2$ (mmHg)', fontsize  = 14)\n",
    "plt.xlabel('VTemand (mL/kg)', fontsize  = 14)\n",
    "plt.tick_params(axis = 'both', labelsize = 14)\n",
    "plt.title('VT - pCO$_2$', fontsize = 14)\n",
    "plt.grid(True)\n",
    "plt.legend()\n",
    "\n",
    "# Polynomial Coefficients\n",
    "coeffs = np.polyfit(vent_pars_CO2['VTemand_kg'].values.astype('float'), \n",
    "                    vent_pars_CO2['pCO2'].values.astype('float'), deg = 1)\n",
    "result = coeffs.tolist()\n",
    "result\n",
    "\n",
    "# Fit a trendline\n",
    "l = np.poly1d(coeffs)\n",
    "plt.plot(x,l(x),'r--')\n",
    "\n",
    "# Calculate pearson's correlation coefficient with confidence intervals, coefficiet of determination and p value\n",
    "r , lcl, ucl , r2, p = corr_pearson(vent_pars_CO2['VTemand_kg'], vent_pars_CO2['pCO2'])\n",
    "\n",
    "# print the equation on the graph area \n",
    "text = 'y=%.2fx+(%.2f)\\nr=%.2f (%.2f , %.2f)\\np=%.4f' % (result[0], result[1], r, lcl, ucl, p)\n",
    "plt.text(0.3 , 5 ,  text, color = 'black', style='normal', fontsize = 14, \n",
    "         bbox={'facecolor':'white', 'edgecolor':'black', 'alpha':1, 'pad':10})\n",
    "\n",
    "plt.savefig('%s/%s_%s.%s' % (DIR_WRITE, 'VT_CO2', 'weight_with_line',  filetype), \n",
    "            dpi = dpi, facecolor='w', edgecolor='w',\n",
    "            orientation='portrait', papertype=None, format = filetype,\n",
    "            transparent=False, bbox_inches='tight', pad_inches=0.1, frameon=True);"
   ]
  },
  {
   "cell_type": "code",
   "execution_count": null,
   "metadata": {
    "scrolled": false
   },
   "outputs": [],
   "source": [
    "from scipy.stats import pearsonr\n",
    "dpi = 300\n",
    "filetype = 'jpg'\n",
    "bins = [0, 1000, 1500, 2000, 3000, 6500]\n",
    "labels = ['<1000g', '1000-1500g', '1500-2000g', '2000-3000g', '>3000g']\n",
    "\n",
    "colors = ['k', 'r', 'b', 'g', 'm', 'y', 'magenta', 'maroon', 'navy', 'salmon',]\n",
    "markers = 'oDds*<>+.^vphh8'\n",
    "\n",
    "fig = plt.figure()\n",
    "fig.set_size_inches(8, 8)\n",
    "fig.subplots_adjust(left=None, bottom=None, right=None, top=None, wspace=None, hspace=0.7)\n",
    "fig.add_subplot(1,1,1);\n",
    "\n",
    "i = 0\n",
    "for index, group in vent_pars_CO2.groupby('Ventilator_mode'):\n",
    "\n",
    "    x = group['VTemand_kg']\n",
    "    y = group['pCO2']\n",
    "    plt.scatter(x, y, color = colors[i], marker = markers[i], s = 30, label = index)\n",
    "    i += 1\n",
    "    \n",
    "plt.ylim([0, 120])\n",
    "plt.ylabel(r'pCO$_2$ (mmHg)', fontsize  = 14)\n",
    "plt.xlabel('VTemand (mL/kg)', fontsize  = 14)\n",
    "plt.tick_params(axis = 'both', labelsize = 14)\n",
    "plt.title('VTemand - pCO$_2$', fontsize = 14)\n",
    "plt.grid(True)\n",
    "plt.legend()\n",
    "\n",
    "# Polynomial Coefficients\n",
    "coeffs = np.polyfit(vent_pars_CO2['VTemand_kg'].values.astype('float'), \n",
    "                    vent_pars_CO2['pCO2'].values.astype('float'), deg = 1)\n",
    "result = coeffs.tolist()\n",
    "result\n",
    "\n",
    "# Fit a trendline\n",
    "l = np.poly1d(coeffs)\n",
    "plt.plot(x,l(x),'r--')\n",
    "\n",
    "# Calculate pearson's correlation coefficient with confidence intervals, coefficiet of determination and p value\n",
    "r , lcl, ucl , r2, p = corr_pearson(vent_pars_CO2['VTemand_kg'], vent_pars_CO2['pCO2'])\n",
    "\n",
    "# print the equation on the graph area \n",
    "text = 'y=%.2fx+(%.2f)\\nr=%.2f (%.2f , %.2f)\\np=%.4f' % (result[0], result[1], r, lcl, ucl, p)\n",
    "plt.text(0.3 , 5 ,  text, color = 'black', style='normal', fontsize = 14, \n",
    "         bbox={'facecolor':'white', 'edgecolor':'black', 'alpha':1, 'pad':10})\n",
    "\n",
    "fig.savefig('%s/%s_%s.%s' % (DIR_WRITE, 'VT_CO2', 'vent_mode',  filetype), \n",
    "            dpi = dpi, facecolor='w', edgecolor='w',\n",
    "            orientation='portrait', papertype=None, format = filetype,\n",
    "            transparent=False, bbox_inches='tight', pad_inches=0.1, frameon=True);"
   ]
  },
  {
   "cell_type": "code",
   "execution_count": null,
   "metadata": {
    "scrolled": false
   },
   "outputs": [],
   "source": [
    "from scipy.stats import pearsonr\n",
    "dpi = 300\n",
    "filetype = 'jpg'\n",
    "bins = [0, 1000, 1500, 2000, 3000, 6500]\n",
    "labels = ['<1000g', '1000-1500g', '1500-2000g', '2000-3000g', '>3000g']\n",
    "\n",
    "colors = ['k', 'r', 'b', 'g', 'm', 'y', 'magenta', 'maroon', 'navy', 'salmon',]\n",
    "markers = 'oDds*<>+.^vphh8'\n",
    "\n",
    "fig = plt.figure()\n",
    "fig.set_size_inches(8, 8)\n",
    "fig.subplots_adjust(left=None, bottom=None, right=None, top=None, wspace=None, hspace=0.7)\n",
    "fig.add_subplot(1,1,1);\n",
    "\n",
    "i = 0\n",
    "for index, group in vent_pars_CO2.groupby('Ventilator_mode'):\n",
    "    if index == 'SIPPV':\n",
    "        x = group['VTemand_kg']\n",
    "        y = group['pCO2']\n",
    "        plt.scatter(x, y, color = colors[i], marker = markers[i], s = 30, label = index)\n",
    "        i += 1\n",
    "\n",
    "plt.xlim([0,9])\n",
    "plt.ylim([0, 120])\n",
    "plt.ylabel(r'pCO$_2$ (mmHg)', fontsize  = 14)\n",
    "plt.xlabel('VTemand (mL/kg)', fontsize  = 14)\n",
    "plt.tick_params(axis = 'both', labelsize = 14)\n",
    "plt.title('VTemand - pCO$_2$', fontsize = 14)\n",
    "plt.grid(True)\n",
    "plt.legend()\n",
    "\n",
    "vent_pars_CO22_SIPPV = vent_pars_CO2[vent_pars_CO2['Ventilator_mode'] == 'SIPPV']\n",
    "\n",
    "# Polynomial Coefficients\n",
    "coeffs = np.polyfit(vent_pars_CO2_SIPPV['VTemand_kg'].values.astype('float'), \n",
    "                    vent_pars_CO2_SIPPV['pCO2'].values.astype('float'), deg = 1)\n",
    "result = coeffs.tolist()\n",
    "result\n",
    "\n",
    "# Fit a trendline\n",
    "l = np.poly1d(coeffs)\n",
    "plt.plot(x,l(x),'r--')\n",
    "\n",
    "# Calculate pearson's correlation coefficient with confidence intervals, coefficiet of determination and p value\n",
    "r , lcl, ucl , r2, p = corr_pearson(vent_pars_CO2_SIPPV['VTemand_kg'], vent_pars_CO2_SIPPV['pCO2'])\n",
    "\n",
    "# print the equation on the graph area \n",
    "text = 'y=%.2fx+(%.2f)\\nr=%.2f (%.2f , %.2f)\\np=%.4f' % (result[0], result[1], r, lcl, ucl, p)\n",
    "plt.text(0.3 , 5 ,  text, color = 'black', style='normal', fontsize = 14, \n",
    "         bbox={'facecolor':'white', 'edgecolor':'black', 'alpha':1, 'pad':10})\n",
    "\n",
    "fig.savefig('%s/%s_%s.%s' % (DIR_WRITE, 'VT_CO2', 'vent_mode_SIPPV',  filetype), \n",
    "            dpi = dpi, facecolor='w', edgecolor='w',\n",
    "            orientation='portrait', papertype=None, format = filetype,\n",
    "            transparent=False, bbox_inches='tight', pad_inches=0.1, frameon=True);"
   ]
  },
  {
   "cell_type": "code",
   "execution_count": null,
   "metadata": {
    "scrolled": false
   },
   "outputs": [],
   "source": [
    "from scipy.stats import pearsonr\n",
    "dpi = 300\n",
    "filetype = 'jpg'\n",
    "bins = [0, 1000, 1500, 2000, 3000, 6500]\n",
    "labels = ['<1000g', '1000-1500g', '1500-2000g', '2000-3000g', '>3000g']\n",
    "\n",
    "colors = ['k', 'r', 'b', 'g', 'm', 'y', 'magenta', 'maroon', 'navy', 'salmon',]\n",
    "markers = 'oDds*<>+.^vphh8'\n",
    "\n",
    "fig = plt.figure()\n",
    "fig.set_size_inches(8, 8)\n",
    "fig.subplots_adjust(left=None, bottom=None, right=None, top=None, wspace=None, hspace=0.7)\n",
    "fig.add_subplot(1,1,1);\n",
    "\n",
    "i = 0\n",
    "for index, group in vent_pars_CO2.groupby('Ventilator_mode'):\n",
    "    if index == 'SIMV' or index == 'SIMVPSV' :\n",
    "        x = group['VTemand_kg']\n",
    "        y = group['pCO2']\n",
    "        plt.scatter(x, y, color = colors[i], marker = markers[i], s = 30, label = index)\n",
    "        i += 1\n",
    "\n",
    "plt.xlim([0,9])\n",
    "plt.ylim([0, 120])\n",
    "plt.ylabel(r'pCO$_2$ (mmHg)', fontsize  = 14)\n",
    "plt.xlabel('VTemand (mL/kg)', fontsize  = 14)\n",
    "plt.tick_params(axis = 'both', labelsize = 14)\n",
    "plt.title('VTemand - pCO$_2$', fontsize = 14)\n",
    "plt.grid(True)\n",
    "plt.legend()\n",
    "\n",
    "vent_pars_CO2_SIMV = vent_pars_CO2[vent_pars_CO2['Ventilator_mode'].isin(['SIMV', 'SIMVPSV'])]\n",
    "\n",
    "# Polynomial Coefficients\n",
    "coeffs = np.polyfit(vent_pars_CO2_SIMV['VTemand_kg'].values.astype('float'), \n",
    "                    vent_pars_CO2_SIMV['pCO2'].values.astype('float'), deg = 1)\n",
    "result = coeffs.tolist()\n",
    "result\n",
    "\n",
    "# Fit a trendline\n",
    "l = np.poly1d(coeffs)\n",
    "plt.plot(x,l(x),'r--')\n",
    "\n",
    "# Calculate pearson's correlation coefficient with confidence intervals, coefficiet of determination and p value\n",
    "r , lcl, ucl , r2, p = corr_pearson(vent_pars_CO2_SIMV['VTemand_kg'], vent_pars_CO2_SIMV['pCO2'])\n",
    "\n",
    "# print the equation on the graph area \n",
    "text = 'y=%.2fx+(%.2f)\\nr=%.2f (%.2f , %.2f)\\np=%.4f' % (result[0], result[1], r, lcl, ucl, p)\n",
    "plt.text(0.3 , 5 ,  text, color = 'black', style='normal', fontsize = 14, \n",
    "         bbox={'facecolor':'white', 'edgecolor':'black', 'alpha':1, 'pad':10})\n",
    "\n",
    "fig.savefig('%s/%s_%s.%s' % (DIR_WRITE, 'VT_CO2', 'vent_mode_SIMV',  filetype), \n",
    "            dpi = dpi, facecolor='w', edgecolor='w',\n",
    "            orientation='portrait', papertype=None, format = filetype,\n",
    "            transparent=False, bbox_inches='tight', pad_inches=0.1, frameon=True);"
   ]
  },
  {
   "cell_type": "markdown",
   "metadata": {},
   "source": [
    "### VG_set_kg"
   ]
  },
  {
   "cell_type": "code",
   "execution_count": null,
   "metadata": {},
   "outputs": [],
   "source": [
    "dpi = 300\n",
    "filetype = 'jpg'\n",
    "\n",
    "x = vent_pars_CO2['VG_set_kg']\n",
    "y = vent_pars_CO2['pCO2']\n",
    "\n",
    "fig = plt.figure()\n",
    "fig.set_size_inches(6,6)\n",
    "fig.subplots_adjust(left=None, bottom=None, right=None, top=None, wspace=None, hspace=0.7)\n",
    "\n",
    "fig.add_subplot(1,1,1);\n",
    "plt.scatter(x, y, color = 'blue', marker = 'o', s = 15)\n",
    "plt.ylim([0, 120])\n",
    "plt.ylabel(r'pCO$_2$ (mmHg)', fontsize  = 14)\n",
    "plt.xlabel('VTset (mL/kg)', fontsize  = 14)\n",
    "plt.tick_params(axis = 'both', labelsize = 14)\n",
    "plt.title('VTset - pCO$_2$', fontsize = 14)\n",
    "plt.grid(True)\n",
    "\n",
    "fig.savefig('%s/%s.%s' % (DIR_WRITE, 'VTset_CO2',  filetype), \n",
    "            dpi = dpi, facecolor='w', edgecolor='w',\n",
    "            orientation='portrait', papertype=None, format = filetype,\n",
    "            transparent=False, bbox_inches='tight', pad_inches=0.1, frameon=True);"
   ]
  },
  {
   "cell_type": "code",
   "execution_count": null,
   "metadata": {},
   "outputs": [],
   "source": [
    "from scipy.stats import pearsonr\n",
    "dpi = 300\n",
    "filetype = 'jpg'\n",
    "bins = [0, 1000, 1500, 2000, 3000, 6500]\n",
    "labels = ['<1000g', '1000-1500g', '1500-2000g', '2000-3000g', '>3000g']\n",
    "\n",
    "colors = ['k', 'r', 'b', 'g', 'm', 'y', 'magenta', 'maroon', 'navy', 'salmon',]\n",
    "markers = 'oDds*<>+.^vphh8'\n",
    "\n",
    "fig = plt.figure()\n",
    "fig.set_size_inches(8, 8)\n",
    "fig.subplots_adjust(left=None, bottom=None, right=None, top=None, wspace=None, hspace=0.7)\n",
    "fig.add_subplot(1,1,1);\n",
    "\n",
    "i = 0\n",
    "for index, group in vent_pars_CO2.groupby(pd.cut(vent_pars_CO2['Weight'], bins = bins, right = False)):\n",
    "\n",
    "    x = group['VG_set_kg']\n",
    "    y = group['pCO2']\n",
    "    plt.scatter(x, y, color = colors[i], marker = markers[i], s = 30, label = labels[i])\n",
    "    i += 1\n",
    "    \n",
    "plt.ylim([0, 120])\n",
    "plt.ylabel(r'pCO$_2$ (mmHg)', fontsize  = 14)\n",
    "plt.xlabel('VTset (mL/kg)', fontsize  = 14)\n",
    "plt.tick_params(axis = 'both', labelsize = 14)\n",
    "plt.title('VTset - pCO$_2$', fontsize = 14)\n",
    "plt.grid(True)\n",
    "plt.legend()\n",
    "\n",
    "# Polynomial Coefficients\n",
    "coeffs = np.polyfit(vent_pars_CO2['VG_set_kg'].values.astype('float'), \n",
    "                    vent_pars_CO2['pCO2'].values.astype('float'), deg = 1)\n",
    "result = coeffs.tolist()\n",
    "result\n",
    "\n",
    "fig.savefig('%s/%s_%s.%s' % (DIR_WRITE, 'VTset_CO2', 'weight',  filetype), \n",
    "            dpi = dpi, facecolor='w', edgecolor='w',\n",
    "            orientation='portrait', papertype=None, format = filetype,\n",
    "            transparent=False, bbox_inches='tight', pad_inches=0.1, frameon=True);"
   ]
  },
  {
   "cell_type": "code",
   "execution_count": null,
   "metadata": {},
   "outputs": [],
   "source": [
    "from scipy.stats import pearsonr\n",
    "dpi = 300\n",
    "filetype = 'jpg'\n",
    "bins = [0, 1000, 1500, 2000, 3000, 6500]\n",
    "labels = ['<1000g', '1000-1500g', '1500-2000g', '2000-3000g', '>3000g']\n",
    "\n",
    "colors = ['k', 'r', 'b', 'g', 'm', 'y', 'magenta', 'maroon', 'navy', 'salmon',]\n",
    "markers = 'oDds*<>+.^vphh8'\n",
    "\n",
    "fig = plt.figure()\n",
    "fig.set_size_inches(8, 8)\n",
    "fig.subplots_adjust(left=None, bottom=None, right=None, top=None, wspace=None, hspace=0.7)\n",
    "fig.add_subplot(1,1,1);\n",
    "\n",
    "i = 0\n",
    "for index, group in vent_pars_CO2.groupby(pd.cut(vent_pars_CO2['Weight'], bins = bins, right = False)):\n",
    "\n",
    "    x = group['VG_set_kg']\n",
    "    y = group['pCO2']\n",
    "    plt.scatter(x, y, color = colors[i], marker = markers[i], s = 30, label = labels[i])\n",
    "    i += 1\n",
    "\n",
    "plt.xlim([0, 9])    \n",
    "plt.ylim([0, 120])\n",
    "plt.ylabel(r'pCO$_2$ (mmHg)', fontsize  = 14)\n",
    "plt.xlabel('VTset (mL/kg)', fontsize  = 14)\n",
    "plt.tick_params(axis = 'both', labelsize = 14)\n",
    "plt.title('VTset - pCO$_2$', fontsize = 14)\n",
    "plt.grid(True)\n",
    "plt.legend()\n",
    "\n",
    "# Polynomial Coefficients\n",
    "coeffs = np.polyfit(vent_pars_CO2['VG_set_kg'].values.astype('float'), \n",
    "                    vent_pars_CO2['pCO2'].values.astype('float'), deg = 1)\n",
    "result = coeffs.tolist()\n",
    "result\n",
    "\n",
    "# Fit a trendline\n",
    "l = np.poly1d(coeffs)\n",
    "plt.plot(x,l(x),'r--')\n",
    "\n",
    "# Calculate pearson's correlation coefficient with confidence intervals, coefficiet of determination and p value\n",
    "r , lcl, ucl , r2, p = corr_pearson(vent_pars_CO2['VG_set_kg'], vent_pars_CO2['pCO2'])\n",
    "\n",
    "# print the equation on the graph area \n",
    "text = 'y=%.2fx+(%.2f)\\nr=%.2f (%.2f , %.2f)\\np=%.4f' % (result[0], result[1], r, lcl, ucl, p)\n",
    "plt.text(0.3 , 5 ,  text, color = 'black', style='normal', fontsize = 14, \n",
    "         bbox={'facecolor':'white', 'edgecolor':'black', 'alpha':1, 'pad':10})\n",
    "\n",
    "plt.savefig('%s/%s_%s.%s' % (DIR_WRITE, 'VTset_CO2', 'weight_with_line',  filetype), \n",
    "            dpi = dpi, facecolor='w', edgecolor='w',\n",
    "            orientation='portrait', papertype=None, format = filetype,\n",
    "            transparent=False, bbox_inches='tight', pad_inches=0.1, frameon=True);"
   ]
  },
  {
   "cell_type": "code",
   "execution_count": null,
   "metadata": {
    "scrolled": false
   },
   "outputs": [],
   "source": [
    "from scipy.stats import pearsonr\n",
    "dpi = 300\n",
    "filetype = 'jpg'\n",
    "bins = [0, 1000, 1500, 2000, 3000, 6500]\n",
    "labels = ['<1000g', '1000-1500g', '1500-2000g', '2000-3000g', '>3000g']\n",
    "\n",
    "colors = ['k', 'r', 'b', 'g', 'm', 'y', 'magenta', 'maroon', 'navy', 'salmon',]\n",
    "markers = 'oDds*<>+.^vphh8'\n",
    "\n",
    "fig = plt.figure()\n",
    "fig.set_size_inches(8, 8)\n",
    "fig.subplots_adjust(left=None, bottom=None, right=None, top=None, wspace=None, hspace=0.7)\n",
    "fig.add_subplot(1,1,1);\n",
    "\n",
    "i = 0\n",
    "for index, group in vent_pars_CO2.groupby('Ventilator_mode'):\n",
    "\n",
    "    x = group['VG_set_kg']\n",
    "    y = group['pCO2']\n",
    "    plt.scatter(x, y, color = colors[i], marker = markers[i], s = 30, label = index)\n",
    "    i += 1\n",
    "    \n",
    "plt.xlim([0, 9])\n",
    "plt.ylim([0, 120])\n",
    "plt.ylabel(r'pCO$_2$ (mmHg)', fontsize  = 14)\n",
    "plt.xlabel('VTset (mL/kg)', fontsize  = 14)\n",
    "plt.tick_params(axis = 'both', labelsize = 14)\n",
    "plt.title('VTset - pCO$_2$', fontsize = 14)\n",
    "plt.grid(True)\n",
    "plt.legend()\n",
    "\n",
    "# Polynomial Coefficients\n",
    "coeffs = np.polyfit(vent_pars_CO2['VG_set_kg'].values.astype('float'), \n",
    "                    vent_pars_CO2['pCO2'].values.astype('float'), deg = 1)\n",
    "result = coeffs.tolist()\n",
    "result\n",
    "\n",
    "# Fit a trendline\n",
    "l = np.poly1d(coeffs)\n",
    "plt.plot(x,l(x),'r--')\n",
    "\n",
    "# Calculate pearson's correlation coefficient with confidence intervals, coefficiet of determination and p value\n",
    "r , lcl, ucl , r2, p = corr_pearson(vent_pars_CO2['VG_set_kg'], vent_pars_CO2['pCO2'])\n",
    "\n",
    "# print the equation on the graph area \n",
    "text = 'y=%.2fx+(%.2f)\\nr=%.2f (%.2f , %.2f)\\np=%.4f' % (result[0], result[1], r, lcl, ucl, p)\n",
    "plt.text(0.3 , 5 ,  text, color = 'black', style='normal', fontsize = 14, \n",
    "         bbox={'facecolor':'white', 'edgecolor':'black', 'alpha':1, 'pad':10})\n",
    "\n",
    "fig.savefig('%s/%s_%s.%s' % (DIR_WRITE, 'VTset_CO2', 'vent_mode',  filetype), \n",
    "            dpi = dpi, facecolor='w', edgecolor='w',\n",
    "            orientation='portrait', papertype=None, format = filetype,\n",
    "            transparent=False, bbox_inches='tight', pad_inches=0.1, frameon=True);"
   ]
  },
  {
   "cell_type": "code",
   "execution_count": null,
   "metadata": {
    "scrolled": false
   },
   "outputs": [],
   "source": [
    "from scipy.stats import pearsonr\n",
    "dpi = 300\n",
    "filetype = 'jpg'\n",
    "bins = [0, 1000, 1500, 2000, 3000, 6500]\n",
    "labels = ['<1000g', '1000-1500g', '1500-2000g', '2000-3000g', '>3000g']\n",
    "\n",
    "colors = ['k', 'r', 'b', 'g', 'm', 'y', 'magenta', 'maroon', 'navy', 'salmon',]\n",
    "markers = 'oDds*<>+.^vphh8'\n",
    "\n",
    "fig = plt.figure()\n",
    "fig.set_size_inches(8, 8)\n",
    "fig.subplots_adjust(left=None, bottom=None, right=None, top=None, wspace=None, hspace=0.7)\n",
    "fig.add_subplot(1,1,1);\n",
    "\n",
    "i = 0\n",
    "for index, group in vent_pars_CO2.groupby('Ventilator_mode'):\n",
    "    if index == 'SIPPV':\n",
    "        x = group['VG_set_kg']\n",
    "        y = group['pCO2']\n",
    "        plt.scatter(x, y, color = colors[i], marker = markers[i], s = 30, label = index)\n",
    "        i += 1\n",
    "\n",
    "plt.xlim([0,9])\n",
    "plt.ylim([0, 120])\n",
    "plt.ylabel(r'pCO$_2$ (mmHg)', fontsize  = 14)\n",
    "plt.xlabel('VTset (mL/kg)', fontsize  = 14)\n",
    "plt.tick_params(axis = 'both', labelsize = 14)\n",
    "plt.title('VTset - pCO$_2$', fontsize = 14)\n",
    "plt.grid(True)\n",
    "plt.legend()\n",
    "\n",
    "vent_pars_CO22_SIPPV = vent_pars_CO2[vent_pars_CO2['Ventilator_mode'] == 'SIPPV']\n",
    "\n",
    "# Polynomial Coefficients\n",
    "coeffs = np.polyfit(vent_pars_CO2_SIPPV['VG_set_kg'].values.astype('float'), \n",
    "                    vent_pars_CO2_SIPPV['pCO2'].values.astype('float'), deg = 1)\n",
    "result = coeffs.tolist()\n",
    "result\n",
    "\n",
    "# Fit a trendline\n",
    "l = np.poly1d(coeffs)\n",
    "plt.plot(x,l(x),'r--')\n",
    "\n",
    "# Calculate pearson's correlation coefficient with confidence intervals, coefficiet of determination and p value\n",
    "r , lcl, ucl , r2, p = corr_pearson(vent_pars_CO2_SIPPV['VG_set_kg'], vent_pars_CO2_SIPPV['pCO2'])\n",
    "\n",
    "# print the equation on the graph area \n",
    "text = 'y=%.2fx+(%.2f)\\nr=%.2f (%.2f , %.2f)\\np=%.4f' % (result[0], result[1], r, lcl, ucl, p)\n",
    "plt.text(0.3 , 5 ,  text, color = 'black', style='normal', fontsize = 14, \n",
    "         bbox={'facecolor':'white', 'edgecolor':'black', 'alpha':1, 'pad':10})\n",
    "\n",
    "fig.savefig('%s/%s_%s.%s' % (DIR_WRITE, 'VTset_CO2', 'vent_mode_SIPPV',  filetype), \n",
    "            dpi = dpi, facecolor='w', edgecolor='w',\n",
    "            orientation='portrait', papertype=None, format = filetype,\n",
    "            transparent=False, bbox_inches='tight', pad_inches=0.1, frameon=True);"
   ]
  },
  {
   "cell_type": "code",
   "execution_count": null,
   "metadata": {
    "scrolled": false
   },
   "outputs": [],
   "source": [
    "from scipy.stats import pearsonr\n",
    "dpi = 300\n",
    "filetype = 'jpg'\n",
    "bins = [0, 1000, 1500, 2000, 3000, 6500]\n",
    "labels = ['<1000g', '1000-1500g', '1500-2000g', '2000-3000g', '>3000g']\n",
    "\n",
    "colors = ['k', 'r', 'b', 'g', 'm', 'y', 'magenta', 'maroon', 'navy', 'salmon',]\n",
    "markers = 'oDds*<>+.^vphh8'\n",
    "\n",
    "fig = plt.figure()\n",
    "fig.set_size_inches(8, 8)\n",
    "fig.subplots_adjust(left=None, bottom=None, right=None, top=None, wspace=None, hspace=0.7)\n",
    "fig.add_subplot(1,1,1);\n",
    "\n",
    "i = 0\n",
    "for index, group in vent_pars_CO2.groupby('Ventilator_mode'):\n",
    "    if index == 'SIMV' or index == 'SIMVPSV' :\n",
    "        x = group['VG_set_kg']\n",
    "        y = group['pCO2']\n",
    "        plt.scatter(x, y, color = colors[i], marker = markers[i], s = 30, label = index)\n",
    "        i += 1\n",
    "\n",
    "plt.xlim([0,9])\n",
    "plt.ylim([0, 120])\n",
    "plt.ylabel(r'pCO$_2$ (mmHg)', fontsize  = 14)\n",
    "plt.xlabel('VTset (mL/kg)', fontsize  = 14)\n",
    "plt.tick_params(axis = 'both', labelsize = 14)\n",
    "plt.title('VTset - pCO$_2$', fontsize = 14)\n",
    "plt.grid(True)\n",
    "plt.legend()\n",
    "\n",
    "vent_pars_CO2_SIMV = vent_pars_CO2[vent_pars_CO2['Ventilator_mode'].isin(['SIMV', 'SIMVPSV'])]\n",
    "\n",
    "# Polynomial Coefficients\n",
    "coeffs = np.polyfit(vent_pars_CO2_SIMV['VG_set_kg'].values.astype('float'), \n",
    "                    vent_pars_CO2_SIMV['pCO2'].values.astype('float'), deg = 1)\n",
    "result = coeffs.tolist()\n",
    "result\n",
    "\n",
    "# Fit a trendline\n",
    "l = np.poly1d(coeffs)\n",
    "plt.plot(x,l(x),'r--')\n",
    "\n",
    "# Calculate pearson's correlation coefficient with confidence intervals, coefficiet of determination and p value\n",
    "r , lcl, ucl , r2, p = corr_pearson(vent_pars_CO2_SIMV['VG_set_kg'], vent_pars_CO2_SIMV['pCO2'])\n",
    "\n",
    "# print the equation on the graph area \n",
    "text = 'y=%.2fx+(%.2f)\\nr=%.2f (%.2f , %.2f)\\np=%.4f' % (result[0], result[1], r, lcl, ucl, p)\n",
    "plt.text(0.3 , 5 ,  text, color = 'black', style='normal', fontsize = 14, \n",
    "         bbox={'facecolor':'white', 'edgecolor':'black', 'alpha':1, 'pad':10})\n",
    "\n",
    "fig.savefig('%s/%s_%s.%s' % (DIR_WRITE, 'VTset_CO2', 'vent_mode_SIMV',  filetype), \n",
    "            dpi = dpi, facecolor='w', edgecolor='w',\n",
    "            orientation='portrait', papertype=None, format = filetype,\n",
    "            transparent=False, bbox_inches='tight', pad_inches=0.1, frameon=True);"
   ]
  },
  {
   "cell_type": "markdown",
   "metadata": {},
   "source": [
    "### Consider only gases when the leak was <50%"
   ]
  },
  {
   "cell_type": "code",
   "execution_count": null,
   "metadata": {},
   "outputs": [],
   "source": [
    "len(data_pars_combined_vg_all)"
   ]
  },
  {
   "cell_type": "code",
   "execution_count": null,
   "metadata": {},
   "outputs": [],
   "source": [
    "data_pars_combined_vg_all_leak_below_50pc = data_pars_combined_vg_all[data_pars_combined_vg_all['Leak'] < 50]"
   ]
  },
  {
   "cell_type": "code",
   "execution_count": null,
   "metadata": {},
   "outputs": [],
   "source": [
    "len(data_pars_combined_vg_all_leak_below_50pc)"
   ]
  },
  {
   "cell_type": "code",
   "execution_count": null,
   "metadata": {},
   "outputs": [],
   "source": [
    "len(data_pars_combined_vg_all_leak_below_50pc) / len(data_pars_combined_vg_all)"
   ]
  },
  {
   "cell_type": "code",
   "execution_count": null,
   "metadata": {},
   "outputs": [],
   "source": [
    "# Over 10 minutes, stopping at two minutes prior to the blood gas\n",
    "\n",
    "vent_pars_gas_leak_below_50pc = {}\n",
    "for time in CO2_vg.reset_index('Time')['Time'].values:\n",
    "    vent_pars_gas_leak_below_50pc[str(time)] = \\\n",
    "                    data_selector(data_pars_combined_vg_all_leak_below_50pc.reset_index('recording'), \n",
    "                           ['recording', 'MV_kg', 'VTemand_kg', 'VG_set_kg'], time, 10, 2)"
   ]
  },
  {
   "cell_type": "markdown",
   "metadata": {},
   "source": [
    "##### Remove items from the dictionary where there < 8min (<240 data points) before the blood gas"
   ]
  },
  {
   "cell_type": "code",
   "execution_count": null,
   "metadata": {},
   "outputs": [],
   "source": [
    "vent_pars_gas_leak_below_50pc = {key : value for key, value in vent_pars_gas_leak_below_50pc.items() \n",
    "                                 if len(value) >= 240}"
   ]
  },
  {
   "cell_type": "raw",
   "metadata": {
    "scrolled": false
   },
   "source": [
    "for key, value in vent_pars_gas_leak_below_50pc.items():\n",
    "    print(key, len(value.index))"
   ]
  },
  {
   "cell_type": "code",
   "execution_count": null,
   "metadata": {},
   "outputs": [],
   "source": [
    "len(vent_pars_gas_leak_below_50pc)"
   ]
  },
  {
   "cell_type": "code",
   "execution_count": null,
   "metadata": {},
   "outputs": [],
   "source": [
    "vent_pars_CO2_leak_below_50pc = {}\n",
    "\n",
    "for key in vent_pars_gas_leak_below_50pc.keys():\n",
    "    a = CO2_vg.reset_index(0).loc[pd.to_datetime(key)]\n",
    "    vent_pars_CO2_leak_below_50pc[pd.to_datetime(key)] = [float(vent_pars_gas_leak_below_50pc[key]['MV_kg'].mean()), \n",
    "                                          float(vent_pars_gas_leak_below_50pc[key]['VTemand_kg'].mean()), \n",
    "                                          float(vent_pars_gas_leak_below_50pc[key]['VG_set_kg'].mean()), \n",
    "                                          a['level_0'], a['Type'], float(a['pCO2'])]\n",
    "    \n",
    "vent_pars_CO2_leak_below_50pc = DataFrame(vent_pars_CO2_leak_below_50pc).T\n",
    "vent_pars_CO2_leak_below_50pc.columns = ['MV_kg', 'VTemand_kg', 'VG_set_kg', 'recording', 'gas_type', 'pCO2']\n",
    "vent_pars_CO2_leak_below_50pc = pd.merge(vent_pars_CO2_leak_below_50pc, \n",
    "                                         clin_df[['Weight']], left_on = 'recording', right_index= True)\n"
   ]
  },
  {
   "cell_type": "code",
   "execution_count": null,
   "metadata": {
    "scrolled": true
   },
   "outputs": [],
   "source": [
    "vent_pars_CO2_leak_below_50pc.dropna(how = 'any', subset = ['pCO2'], inplace = True)\n",
    "len(vent_pars_CO2_leak_below_50pc)"
   ]
  },
  {
   "cell_type": "code",
   "execution_count": null,
   "metadata": {},
   "outputs": [],
   "source": [
    "vent_pars_CO2_leak_below_50pc = pd.merge(vent_pars_CO2_leak_below_50pc, \n",
    "    data_pars_combined_vg_all_leak_below_50pc[['Ventilator_mode']].reset_index().set_index('datetime').resample('1min').first(), \n",
    "        left_index = True, right_index= True)\n",
    "\n",
    "vent_pars_CO2_leak_below_50pc['Recording'] = vent_pars_CO2_leak_below_50pc['recording_x']\n",
    "vent_pars_CO2_leak_below_50pc.drop(['recording_x', 'recording_y'], axis = 1, inplace = True)"
   ]
  },
  {
   "cell_type": "code",
   "execution_count": null,
   "metadata": {
    "scrolled": false
   },
   "outputs": [],
   "source": [
    "vent_pars_CO2_leak_below_50pc;"
   ]
  },
  {
   "cell_type": "code",
   "execution_count": null,
   "metadata": {},
   "outputs": [],
   "source": [
    "len(vent_pars_CO2_leak_below_50pc)"
   ]
  },
  {
   "cell_type": "code",
   "execution_count": null,
   "metadata": {},
   "outputs": [],
   "source": [
    "normocapnic = vent_pars_CO2_leak_below_50pc[(vent_pars_CO2_leak_below_50pc['pCO2'] >= 37.5) &  \n",
    "                                            (vent_pars_CO2_leak_below_50pc['pCO2'] <= 60)]"
   ]
  },
  {
   "cell_type": "code",
   "execution_count": null,
   "metadata": {},
   "outputs": [],
   "source": [
    "len(normocapnic)"
   ]
  },
  {
   "cell_type": "code",
   "execution_count": null,
   "metadata": {},
   "outputs": [],
   "source": [
    "normocapnic_4_6 = normocapnic[(normocapnic['VTemand_kg'] >= 4) & (normocapnic['VTemand_kg'] <= 6)]"
   ]
  },
  {
   "cell_type": "code",
   "execution_count": null,
   "metadata": {},
   "outputs": [],
   "source": [
    "len(normocapnic_4_6)"
   ]
  },
  {
   "cell_type": "code",
   "execution_count": null,
   "metadata": {},
   "outputs": [],
   "source": [
    "normocapnic_4_6;"
   ]
  },
  {
   "cell_type": "code",
   "execution_count": null,
   "metadata": {},
   "outputs": [],
   "source": [
    "normocapnic_below_4 = normocapnic[(normocapnic['VTemand_kg'] < 4)]"
   ]
  },
  {
   "cell_type": "code",
   "execution_count": null,
   "metadata": {},
   "outputs": [],
   "source": [
    "len(normocapnic_below_4)"
   ]
  },
  {
   "cell_type": "code",
   "execution_count": null,
   "metadata": {},
   "outputs": [],
   "source": [
    "normocapnic_above_6 = normocapnic[(normocapnic['VTemand_kg'] > 6)]"
   ]
  },
  {
   "cell_type": "code",
   "execution_count": null,
   "metadata": {},
   "outputs": [],
   "source": [
    "len(normocapnic_above_6)"
   ]
  },
  {
   "cell_type": "code",
   "execution_count": null,
   "metadata": {},
   "outputs": [],
   "source": [
    "vent_pars_CO2_leak_below_50pc['gas_type'].unique()"
   ]
  },
  {
   "cell_type": "code",
   "execution_count": null,
   "metadata": {},
   "outputs": [],
   "source": [
    "len(vent_pars_CO2_leak_below_50pc[vent_pars_CO2_leak_below_50pc['gas_type'] == 'Art'])"
   ]
  },
  {
   "cell_type": "code",
   "execution_count": null,
   "metadata": {},
   "outputs": [],
   "source": [
    "len(vent_pars_CO2_leak_below_50pc[vent_pars_CO2_leak_below_50pc['gas_type'] == 'Venas'])"
   ]
  },
  {
   "cell_type": "code",
   "execution_count": null,
   "metadata": {},
   "outputs": [],
   "source": [
    "len(vent_pars_CO2_leak_below_50pc[vent_pars_CO2_leak_below_50pc['gas_type'].isnull()])"
   ]
  },
  {
   "cell_type": "code",
   "execution_count": null,
   "metadata": {
    "scrolled": true
   },
   "outputs": [],
   "source": [
    "len(vent_pars_CO2_leak_below_50pc[vent_pars_CO2_leak_below_50pc['gas_type'] == 'Capillaris'])"
   ]
  },
  {
   "cell_type": "code",
   "execution_count": null,
   "metadata": {},
   "outputs": [],
   "source": [
    "vent_pars_CO2_leak_below_50pc['gas_type'].describe()"
   ]
  },
  {
   "cell_type": "code",
   "execution_count": null,
   "metadata": {},
   "outputs": [],
   "source": [
    "stats.pearsonr(vent_pars_CO2_leak_below_50pc['VTemand_kg'], vent_pars_CO2_leak_below_50pc['pCO2'])"
   ]
  },
  {
   "cell_type": "code",
   "execution_count": null,
   "metadata": {},
   "outputs": [],
   "source": [
    "stats.pearsonr(vent_pars_CO2_leak_below_50pc['VG_set_kg'], vent_pars_CO2_leak_below_50pc['pCO2'])"
   ]
  },
  {
   "cell_type": "code",
   "execution_count": null,
   "metadata": {},
   "outputs": [],
   "source": [
    "stats.pearsonr(vent_pars_CO2_leak_below_50pc['MV_kg'], vent_pars_CO2_leak_below_50pc['pCO2'])"
   ]
  },
  {
   "cell_type": "markdown",
   "metadata": {},
   "source": [
    "### Consider only gases when the leak was <10%"
   ]
  },
  {
   "cell_type": "code",
   "execution_count": null,
   "metadata": {},
   "outputs": [],
   "source": [
    "len(data_pars_combined_vg_all)"
   ]
  },
  {
   "cell_type": "code",
   "execution_count": null,
   "metadata": {},
   "outputs": [],
   "source": [
    "data_pars_combined_vg_all_leak_below_10pc = data_pars_combined_vg_all[data_pars_combined_vg_all['Leak'] < 10]"
   ]
  },
  {
   "cell_type": "code",
   "execution_count": null,
   "metadata": {},
   "outputs": [],
   "source": [
    "len(data_pars_combined_vg_all_leak_below_10pc)"
   ]
  },
  {
   "cell_type": "code",
   "execution_count": null,
   "metadata": {},
   "outputs": [],
   "source": [
    "len(data_pars_combined_vg_all_leak_below_10pc) / len(data_pars_combined_vg_all)"
   ]
  },
  {
   "cell_type": "code",
   "execution_count": null,
   "metadata": {},
   "outputs": [],
   "source": [
    "# Over 10 minutes, stopping at two minutes prior to the blood gas\n",
    "\n",
    "vent_pars_gas_leak_below_10pc = {}\n",
    "for time in CO2_vg.reset_index('Time')['Time'].values:\n",
    "    vent_pars_gas_leak_below_10pc[str(time)] = \\\n",
    "                    data_selector(data_pars_combined_vg_all_leak_below_10pc.reset_index('recording'), \n",
    "                           ['recording', 'MV_kg', 'VTemand_kg', 'VG_set_kg'], time, 10, 2)"
   ]
  },
  {
   "cell_type": "markdown",
   "metadata": {},
   "source": [
    "##### Remove items from the dictionary where there < 8min (<240 data points) before the blood gas"
   ]
  },
  {
   "cell_type": "code",
   "execution_count": null,
   "metadata": {},
   "outputs": [],
   "source": [
    "vent_pars_gas_leak_below_10pc = {key : value for key, value in vent_pars_gas_leak_below_10pc.items() \n",
    "                                 if len(value) >= 240}"
   ]
  },
  {
   "cell_type": "raw",
   "metadata": {
    "scrolled": false
   },
   "source": [
    "1for key, value in vent_pars_gas_leak_below_50pc.items():\n",
    "    print(key, len(value.index))"
   ]
  },
  {
   "cell_type": "code",
   "execution_count": null,
   "metadata": {},
   "outputs": [],
   "source": [
    "len(vent_pars_gas_leak_below_10pc)"
   ]
  },
  {
   "cell_type": "code",
   "execution_count": null,
   "metadata": {},
   "outputs": [],
   "source": [
    "vent_pars_CO2_leak_below_10pc = {}\n",
    "\n",
    "for key in vent_pars_gas_leak_below_10pc.keys():\n",
    "    a = CO2_vg.reset_index(0).loc[pd.to_datetime(key)]\n",
    "    vent_pars_CO2_leak_below_10pc[pd.to_datetime(key)] = [float(vent_pars_gas_leak_below_10pc[key]['MV_kg'].mean()), \n",
    "                                          float(vent_pars_gas_leak_below_10pc[key]['VTemand_kg'].mean()), \n",
    "                                          float(vent_pars_gas_leak_below_10pc[key]['VG_set_kg'].mean()), \n",
    "                                          a['level_0'], a['Type'], float(a['pCO2'])]\n",
    "    \n",
    "vent_pars_CO2_leak_below_10pc = DataFrame(vent_pars_CO2_leak_below_10pc).T\n",
    "vent_pars_CO2_leak_below_10pc.columns = ['MV_kg', 'VTemand_kg', 'VG_set_kg', 'recording', 'gas_type', 'pCO2']\n",
    "vent_pars_CO2_leak_below_10pc = pd.merge(vent_pars_CO2_leak_below_10pc, \n",
    "                                         clin_df[['Weight']], left_on = 'recording', right_index= True)\n"
   ]
  },
  {
   "cell_type": "code",
   "execution_count": null,
   "metadata": {
    "scrolled": true
   },
   "outputs": [],
   "source": [
    "vent_pars_CO2_leak_below_10pc.dropna(how = 'any', subset = ['pCO2'], inplace = True)\n",
    "len(vent_pars_CO2_leak_below_10pc)"
   ]
  },
  {
   "cell_type": "code",
   "execution_count": null,
   "metadata": {},
   "outputs": [],
   "source": [
    "vent_pars_CO2_leak_below_10pc = pd.merge(vent_pars_CO2_leak_below_10pc, \n",
    "    data_pars_combined_vg_all_leak_below_10pc[['Ventilator_mode']].reset_index().set_index('datetime').resample('1min').first(), \n",
    "        left_index = True, right_index= True)\n",
    "\n",
    "vent_pars_CO2_leak_below_10pc['Recording'] = vent_pars_CO2_leak_below_10pc['recording_x']\n",
    "vent_pars_CO2_leak_below_10pc.drop(['recording_x', 'recording_y'], axis = 1, inplace = True)"
   ]
  },
  {
   "cell_type": "code",
   "execution_count": null,
   "metadata": {
    "scrolled": false
   },
   "outputs": [],
   "source": [
    "vent_pars_CO2_leak_below_10pc;"
   ]
  },
  {
   "cell_type": "code",
   "execution_count": null,
   "metadata": {},
   "outputs": [],
   "source": [
    "len(vent_pars_CO2_leak_below_10pc)"
   ]
  },
  {
   "cell_type": "code",
   "execution_count": null,
   "metadata": {},
   "outputs": [],
   "source": [
    "normocapnic = vent_pars_CO2_leak_below_10pc[(vent_pars_CO2_leak_below_10pc['pCO2'] >= 37.5) &  \n",
    "                                            (vent_pars_CO2_leak_below_10pc['pCO2'] <= 60)]"
   ]
  },
  {
   "cell_type": "code",
   "execution_count": null,
   "metadata": {},
   "outputs": [],
   "source": [
    "len(normocapnic)"
   ]
  },
  {
   "cell_type": "code",
   "execution_count": null,
   "metadata": {},
   "outputs": [],
   "source": [
    "normocapnic_4_6 = normocapnic[(normocapnic['VTemand_kg'] >= 4) & (normocapnic['VTemand_kg'] <= 6)]"
   ]
  },
  {
   "cell_type": "code",
   "execution_count": null,
   "metadata": {},
   "outputs": [],
   "source": [
    "len(normocapnic_4_6)"
   ]
  },
  {
   "cell_type": "code",
   "execution_count": null,
   "metadata": {},
   "outputs": [],
   "source": [
    "normocapnic_4_6;"
   ]
  },
  {
   "cell_type": "code",
   "execution_count": null,
   "metadata": {},
   "outputs": [],
   "source": [
    "normocapnic_below_4 = normocapnic[(normocapnic['VTemand_kg'] < 4)]"
   ]
  },
  {
   "cell_type": "code",
   "execution_count": null,
   "metadata": {},
   "outputs": [],
   "source": [
    "len(normocapnic_below_4)"
   ]
  },
  {
   "cell_type": "code",
   "execution_count": null,
   "metadata": {},
   "outputs": [],
   "source": [
    "normocapnic_above_6 = normocapnic[(normocapnic['VTemand_kg'] > 6)]"
   ]
  },
  {
   "cell_type": "code",
   "execution_count": null,
   "metadata": {},
   "outputs": [],
   "source": [
    "len(normocapnic_above_6)"
   ]
  },
  {
   "cell_type": "code",
   "execution_count": null,
   "metadata": {},
   "outputs": [],
   "source": [
    "vent_pars_CO2_leak_below_10pc['gas_type'].unique()"
   ]
  },
  {
   "cell_type": "code",
   "execution_count": null,
   "metadata": {},
   "outputs": [],
   "source": [
    "len(vent_pars_CO2_leak_below_10pc[vent_pars_CO2_leak_below_10pc['gas_type'] == 'Art'])"
   ]
  },
  {
   "cell_type": "code",
   "execution_count": null,
   "metadata": {},
   "outputs": [],
   "source": [
    "len(vent_pars_CO2_leak_below_10pc[vent_pars_CO2_leak_below_10pc['gas_type'] == 'Venas'])"
   ]
  },
  {
   "cell_type": "code",
   "execution_count": null,
   "metadata": {},
   "outputs": [],
   "source": [
    "len(vent_pars_CO2_leak_below_10pc[vent_pars_CO2_leak_below_10pc['gas_type'].isnull()])"
   ]
  },
  {
   "cell_type": "code",
   "execution_count": null,
   "metadata": {
    "scrolled": true
   },
   "outputs": [],
   "source": [
    "len(vent_pars_CO2_leak_below_10pc[vent_pars_CO2_leak_below_10pc['gas_type'] == 'Capillaris'])"
   ]
  },
  {
   "cell_type": "code",
   "execution_count": null,
   "metadata": {},
   "outputs": [],
   "source": [
    "vent_pars_CO2_leak_below_10pc['gas_type'].describe()"
   ]
  },
  {
   "cell_type": "code",
   "execution_count": null,
   "metadata": {},
   "outputs": [],
   "source": [
    "stats.pearsonr(vent_pars_CO2_leak_below_10pc['VTemand_kg'], vent_pars_CO2_leak_below_10pc['pCO2'])"
   ]
  },
  {
   "cell_type": "code",
   "execution_count": null,
   "metadata": {},
   "outputs": [],
   "source": [
    "stats.pearsonr(vent_pars_CO2_leak_below_10pc['VG_set_kg'], vent_pars_CO2_leak_below_10pc['pCO2'])"
   ]
  },
  {
   "cell_type": "code",
   "execution_count": null,
   "metadata": {},
   "outputs": [],
   "source": [
    "stats.pearsonr(vent_pars_CO2_leak_below_10pc['MV_kg'], vent_pars_CO2_leak_below_10pc['pCO2'])"
   ]
  },
  {
   "cell_type": "markdown",
   "metadata": {},
   "source": [
    "## Figures for the paper"
   ]
  },
  {
   "cell_type": "markdown",
   "metadata": {},
   "source": [
    "### Figure 1"
   ]
  },
  {
   "cell_type": "markdown",
   "metadata": {},
   "source": [
    "#### Figure 1A"
   ]
  },
  {
   "cell_type": "code",
   "execution_count": null,
   "metadata": {},
   "outputs": [],
   "source": [
    "bins = list(np.arange(-4, 5, 1))\n",
    "cats_VTdiff = pd.cut(data_pars_combined_vg_all['VT_diff_kg'], bins = bins, right = True)\n",
    "cats_VTdiff.value_counts().sort_index();\n",
    "\n",
    "dpi = 200\n",
    "filetype = 'jpg'\n",
    "\n",
    "labels = ['-4 - -3', '-3 - -2', '-2 - -1', '-1 - 0', '0 - 1', '1 - 2', '2 - 3', '3 - 4']\n",
    "fig, ax = plt.subplots(figsize = [4,4])\n",
    "cats_VTdiff.value_counts().sort_index().plot(kind = 'bar', logy = False, \n",
    "                         color = 'black', alpha = 0.7, fontsize = 14)\n",
    "ax.set_xlabel('range (mL/kg)', size = 14)\n",
    "ax.set_ylabel('number of inflations', size = 14)\n",
    "ax.set_xticklabels(labels, rotation = '90', size = 14)\n",
    "plt.title('VTdiff', fontsize = 14)\n",
    "plt.grid(False)\n",
    "\n",
    "fig.savefig('%s/%s.%s' % (DIR_WRITE, 'Figure_1A', filetype),\n",
    "    dpi = dpi, facecolor='w', edgecolor='w', orientation='portrait', papertype=None, format = filetype,\n",
    "    transparent=False, bbox_inches='tight', pad_inches=0.1, frameon=True);"
   ]
  },
  {
   "cell_type": "markdown",
   "metadata": {},
   "source": [
    "#### Figure 1B"
   ]
  },
  {
   "cell_type": "code",
   "execution_count": null,
   "metadata": {},
   "outputs": [],
   "source": [
    "bins = list(np.arange(-1, 1.1, 0.2))\n",
    "cats_VTdiff = pd.cut(data_pars_combined_vg_all['VT_diff_kg'], bins = bins, right = True)\n",
    "cats_VTdiff.value_counts().sort_index()\n",
    "\n",
    "dpi = 200\n",
    "filetype = 'jpg'\n",
    "\n",
    "labels = ['-1 - -0.8', '-0.8 - -0.6', '-0.6 - -0.4', '-0.4 - -0.2', '-0.2 - 0',\n",
    "          '0 - 0.2', '0.2 - 0.4', '0.4 - 0.6', '0.6 - 0.8', '0.8 - 1']\n",
    "fig, ax = plt.subplots(figsize = [4,4])\n",
    "cats_VTdiff.value_counts().sort_index().plot(kind = 'bar', logy = False, \n",
    "                        title = 'VT_diff', color = 'black', alpha = 0.7, fontsize = 14)\n",
    "\n",
    "ax.set_xlabel('range (mL/kg)', size = 14)\n",
    "ax.set_ylabel('number of inflations', size = 14)\n",
    "ax.set_xticklabels(labels, rotation = '90', size = 14)\n",
    "plt.title('VTdiff', fontsize = 14)\n",
    "plt.grid(False)\n",
    "\n",
    "fig.savefig('%s/%s.%s' % (DIR_WRITE, 'Figure_1B', filetype),\n",
    "    dpi = dpi, facecolor='w', edgecolor='w', orientation='portrait', papertype=None, format = filetype,\n",
    "    transparent=False, bbox_inches='tight', pad_inches=0.1, frameon=True);"
   ]
  },
  {
   "cell_type": "markdown",
   "metadata": {},
   "source": [
    "#### Figure 1C"
   ]
  },
  {
   "cell_type": "code",
   "execution_count": null,
   "metadata": {},
   "outputs": [],
   "source": [
    "bins = [-20] + list(np.arange(-5, 35, 5))\n",
    "cats_Pdiff = pd.cut(data_pars_combined_vg_all['P_diff'], bins = bins, right = True)\n",
    "cats_Pdiff.value_counts().sort_index()\n",
    "\n",
    "dpi = 200\n",
    "filetype = 'jpg'\n",
    "\n",
    "labels = ['<-5', '-5-0', '0-5', '5-10', '10-15', '15-20', '20-25', '25-30']\n",
    "fig, ax = plt.subplots(figsize = [4,4])\n",
    "cats_Pdiff.value_counts().sort_index().plot(kind = 'bar', logy = False, \n",
    "                         color = 'black', alpha = 0.7, fontsize = 14)\n",
    "ax.set_xlabel('range (cmH$_2$O)', size = 14)\n",
    "ax.set_ylabel('number of inflations', size = 14)\n",
    "ax.set_xticklabels(labels, rotation = '90', size = 14)\n",
    "plt.title('Pdiff', fontsize = 16)\n",
    "plt.grid(False)\n",
    "\n",
    "fig.savefig('%s/%s.%s' % (DIR_WRITE, 'Figure_1C', filetype),\n",
    "    dpi = dpi, facecolor='w', edgecolor='w', orientation='portrait', papertype=None, format = 'jpg',\n",
    "    transparent=False, bbox_inches='tight', pad_inches=0.1, frameon=True);"
   ]
  },
  {
   "cell_type": "markdown",
   "metadata": {},
   "source": [
    "#### Figure 1 combined"
   ]
  },
  {
   "cell_type": "code",
   "execution_count": null,
   "metadata": {},
   "outputs": [],
   "source": [
    "dpi = 200\n",
    "filetype = 'tiff'\n",
    "\n",
    "fig, ax = plt.subplots(1, 3, figsize = (12, 3), dpi = dpi)\n",
    "fig.subplots_adjust(left=None, bottom=None, right=None, top=None, hspace=0.3, wspace=0.35)\n",
    "\n",
    "# Figure 1A\n",
    "bins = list(np.arange(-4, 5, 1))\n",
    "cats_VTdiff = pd.cut(data_pars_combined_vg_all['VT_diff_kg'], bins = bins, right = True)\n",
    "cats_VTdiff.value_counts().sort_index();\n",
    "\n",
    "labels = ['-4 - -3', '-3 - -2', '-2 - -1', '-1 - 0', '0 - 1', '1 - 2', '2 - 3', '3 - 4']\n",
    "cats_VTdiff.value_counts().sort_index().plot(ax = ax[0], kind = 'bar', logy = False, \n",
    "                         color = 'black', alpha = 0.7, fontsize = 14)\n",
    "ax[0].set_xlabel('VTdiff (mL/kg)', size = 14)\n",
    "ax[0].set_ylabel('number of inflations', size = 14)\n",
    "ax[0].set_xticklabels(labels, rotation = '90', size = 14)\n",
    "ax[0].set_title('', fontsize = 14)\n",
    "ax[0].grid(False)\n",
    "\n",
    "# Figure 1B\n",
    "bins = list(np.arange(-1, 1.1, 0.2))\n",
    "cats_VTdiff = pd.cut(data_pars_combined_vg_all['VT_diff_kg'], bins = bins, right = True)\n",
    "cats_VTdiff.value_counts().sort_index()\n",
    "\n",
    "labels = ['-1 - -0.8', '-0.8 - -0.6', '-0.6 - -0.4', '-0.4 - -0.2', '-0.2 - 0',\n",
    "          '0 - 0.2', '0.2 - 0.4', '0.4 - 0.6', '0.6 - 0.8', '0.8 - 1']\n",
    "cats_VTdiff.value_counts().sort_index().plot(ax = ax[1], kind = 'bar', logy = False, \n",
    "                        title = 'VT_diff', color = 'black', alpha = 0.7, fontsize = 14)\n",
    "ax[1].set_xlabel('VTdiff (mL/kg)', size = 14)\n",
    "ax[1].set_ylabel('', size = 14)\n",
    "ax[1].set_xticklabels(labels, rotation = '90', size = 14)\n",
    "ax[1].set_title('', fontsize = 14)\n",
    "ax[1].grid(False)\n",
    "\n",
    "# Figure 1C\n",
    "bins = [-20] + list(np.arange(-5, 35, 5))\n",
    "cats_Pdiff = pd.cut(data_pars_combined_vg_all['P_diff'], bins = bins, right = True)\n",
    "cats_Pdiff.value_counts().sort_index()\n",
    "\n",
    "labels = ['<-5', '-5-0', '0-5', '5-10', '10-15', '15-20', '20-25', '25-30']\n",
    "cats_Pdiff.value_counts().sort_index().plot(ax = ax[2], kind = 'bar', logy = False, \n",
    "                         color = 'black', alpha = 0.7, fontsize = 14)\n",
    "ax[2].set_xlabel('Pdiff (cmH$_2$O)', size = 14)\n",
    "ax[2].set_ylabel('', size = 14)\n",
    "ax[2].set_xticklabels(labels, rotation = '90', size = 14)\n",
    "ax[2].set_title('', fontsize = 14)\n",
    "ax[2].grid(False)\n",
    "\n",
    "fig.text(0.04, 0.96, 'A', fontsize = 14); fig.text(0.34, 0.96, 'B', fontsize = 14)\n",
    "fig.text(0.62, 0.96, 'C', fontsize = 14)\n",
    "\n",
    "fig.savefig('%s/%s.%s' % (DIR_WRITE, 'Figure_1', filetype),\n",
    "    dpi = dpi, facecolor='w', edgecolor='w', orientation='portrait', papertype=None, format = filetype,\n",
    "    transparent=False, bbox_inches='tight', pad_inches=0.1, frameon=True);"
   ]
  },
  {
   "cell_type": "code",
   "execution_count": null,
   "metadata": {},
   "outputs": [],
   "source": [
    "len(data_pars_combined_vg_all['P_diff'])"
   ]
  },
  {
   "cell_type": "code",
   "execution_count": null,
   "metadata": {},
   "outputs": [],
   "source": [
    "sum(data_pars_combined_vg_all['P_diff'] <=0)"
   ]
  },
  {
   "cell_type": "code",
   "execution_count": null,
   "metadata": {},
   "outputs": [],
   "source": [
    "sum(data_pars_combined_vg_all['P_diff'] <=0) / len(data_pars_combined_vg_all['P_diff'])"
   ]
  },
  {
   "cell_type": "markdown",
   "metadata": {},
   "source": [
    "### Figure 2"
   ]
  },
  {
   "cell_type": "markdown",
   "metadata": {},
   "source": [
    "#### Figure 2A"
   ]
  },
  {
   "cell_type": "code",
   "execution_count": null,
   "metadata": {},
   "outputs": [],
   "source": [
    "dpi = 200\n",
    "filetype = 'jpg'\n",
    "\n",
    "xticklabels = ['0-9', '10-19', '20-29', '30-39', '40-49', '50-59', '60-69', '70-79',\n",
    "         '80-89', '90-99']\n",
    "# Define styling for each boxplot component\n",
    "medianprops = {'color': 'black', 'linewidth': 2}\n",
    "boxprops = {'color': 'black', 'linestyle': '-'}\n",
    "whiskerprops = {'color': 'black', 'linestyle': '-'}\n",
    "capprops = {'color': 'black', 'linestyle': '-'}\n",
    "meanprops = {'color': 'black',}\n",
    "\n",
    "fig, ax = plt.subplots(figsize = (8, 3))\n",
    "data = []\n",
    "for name, group in grouped_leak:\n",
    "    data.append(group['VT_diff_kg'].dropna().values)\n",
    "plt.boxplot(data, whis = [5, 95], showfliers = False, showmeans = True, meanprops = meanprops,\n",
    "        medianprops=medianprops, boxprops=boxprops, whiskerprops=whiskerprops, capprops=capprops,)\n",
    "\n",
    "plt.xticks(np.arange(1, len(data)+1), xticklabels, rotation = 'horizontal')\n",
    "plt.xlabel('Leak (%)', size = 14)\n",
    "plt.ylabel('VTdiff (mL/kg)', size = 14)\n",
    "ax.tick_params(axis='both', which='major', labelsize=14)\n",
    "plt.grid(False)\n",
    "\n",
    "fig.savefig('%s/%s.%s' % (DIR_WRITE, 'Figure_2A', filetype),\n",
    "    dpi = dpi, facecolor='w', edgecolor='w', orientation='portrait', papertype=None, format = filetype,\n",
    "    transparent=False, bbox_inches='tight', pad_inches=0.1, frameon=True);"
   ]
  },
  {
   "cell_type": "markdown",
   "metadata": {},
   "source": [
    "#### Figure 2B"
   ]
  },
  {
   "cell_type": "code",
   "execution_count": null,
   "metadata": {},
   "outputs": [],
   "source": [
    "dpi = 200\n",
    "filetype = 'jpg'\n",
    "\n",
    "xticklabels = ['0-9', '10-19', '20-29', '30-39', '40-49', '50-59', '60-69', '70-79',\n",
    "         '80-89', '90-99']\n",
    "# Define styling for each boxplot component\n",
    "medianprops = {'color': 'black', 'linewidth': 2}\n",
    "boxprops = {'color': 'black', 'linestyle': '-'}\n",
    "whiskerprops = {'color': 'black', 'linestyle': '-'}\n",
    "capprops = {'color': 'black', 'linestyle': '-'}\n",
    "\n",
    "fig, ax = plt.subplots(figsize = (8, 3))\n",
    "data = []\n",
    "for name, group in grouped_leak:\n",
    "    data.append(group['P_diff'].dropna().values)\n",
    "plt.boxplot(data, whis = [5, 95], showfliers = False, showmeans = True,\n",
    "        medianprops=medianprops, boxprops=boxprops, whiskerprops=whiskerprops, capprops=capprops,)\n",
    "\n",
    "plt.xticks(np.arange(1, len(data)+1), xticklabels, rotation = 'horizontal')\n",
    "plt.xlabel('Leak (%)', size = 14)\n",
    "plt.ylabel('Pdiff (cmH$_2$O)', size = 14)\n",
    "ax.tick_params(axis='both', which='major', labelsize=14)\n",
    "plt.grid(False)\n",
    "\n",
    "fig.savefig('%s/%s.%s' % (DIR_WRITE, 'Figure_2B', filetype),\n",
    "    dpi = dpi, facecolor='w', edgecolor='w', orientation='portrait', papertype=None, format = filetype,\n",
    "    transparent=False, bbox_inches='tight', pad_inches=0.1, frameon=True);"
   ]
  },
  {
   "cell_type": "markdown",
   "metadata": {},
   "source": [
    "#### Figure 2 combined"
   ]
  },
  {
   "cell_type": "code",
   "execution_count": null,
   "metadata": {},
   "outputs": [],
   "source": [
    "dpi = 200\n",
    "filetype = 'tiff'\n",
    "\n",
    "# Define styling for each boxplot component\n",
    "medianprops = {'color': 'black', 'linewidth': 2}\n",
    "boxprops = {'color': 'black', 'linestyle': '-'}\n",
    "whiskerprops = {'color': 'black', 'linestyle': '-'}\n",
    "capprops = {'color': 'black', 'linestyle': '-'}\n",
    "meanprops = dict(marker='D', markeredgecolor='black', markerfacecolor='black', markersize = 3)\n",
    "\n",
    "fig, ax = plt.subplots(2, 1, figsize = (8, 6))\n",
    "fig.subplots_adjust(left=None, bottom=None, right=None, top=None, hspace=0.1, wspace=0.3)\n",
    "\n",
    "# Figure 2A\n",
    "xticklabels = ['0-9', '10-19', '20-29', '30-39', '40-49', '50-59', '60-69', '70-79', '80-89', '90-99']\n",
    "data = []\n",
    "for name, group in grouped_leak:\n",
    "    data.append(group['VT_diff_kg'].dropna().values)\n",
    "ax[0].boxplot(data, whis = [5, 95], showfliers = False, showmeans = True, meanprops = meanprops,\n",
    "        medianprops=medianprops, boxprops=boxprops, whiskerprops=whiskerprops, capprops=capprops,)\n",
    "\n",
    "ax[0].set_xticks(np.arange(1, len(data)+1),)\n",
    "ax[0].set_xlabel('', size = 14)\n",
    "ax[0].set_ylabel('VTdiff (mL/kg)', size = 14)\n",
    "ax[0].xaxis.set_ticklabels([])\n",
    "ax[0].grid(False)\n",
    "\n",
    "# Figure 2B\n",
    "data = []\n",
    "for name, group in grouped_leak:\n",
    "    data.append(group['P_diff'].dropna().values)\n",
    "ax[1].boxplot(data, whis = [5, 95], showfliers = False, showmeans = True, meanprops = meanprops,\n",
    "        medianprops=medianprops, boxprops=boxprops, whiskerprops=whiskerprops, capprops=capprops,)\n",
    "\n",
    "ax[1].set_xticks(np.arange(1, len(data)+1),)\n",
    "ax[1].set_xticklabels(xticklabels, size = 12)\n",
    "ax[1].set_xlabel('Leak (%)', size = 14)\n",
    "ax[1].set_ylabel('Pdiff (cmH$_2$O)', size = 14)\n",
    "ax[1].grid(False)\n",
    "\n",
    "fig.text(0.04, 0.90, 'A', fontsize = 14); fig.text(0.04, 0.46, 'B', fontsize = 14)\n",
    "\n",
    "fig.savefig('%s/%s.%s' % (DIR_WRITE, 'Figure_2', filetype),\n",
    "    dpi = dpi, facecolor='w', edgecolor='w', orientation='portrait', papertype=None, format = filetype,\n",
    "    transparent=False, bbox_inches='tight', pad_inches=0.1, frameon=True);"
   ]
  },
  {
   "cell_type": "markdown",
   "metadata": {},
   "source": [
    "### Figure 3"
   ]
  },
  {
   "cell_type": "markdown",
   "metadata": {},
   "source": [
    "#### Figure 3A"
   ]
  },
  {
   "cell_type": "code",
   "execution_count": null,
   "metadata": {},
   "outputs": [],
   "source": [
    "dpi = 200\n",
    "filetype = 'jpg'\n",
    "xticklabels = ['0.5-1', '1-1.5', '1.5-2', '2-2.5', '2.5-3', '3-3.5', '3.5-4', '4-4.5', '4.5-5']\n",
    "\n",
    "fig, ax = plt.subplots(figsize = (6,3))\n",
    "data = []\n",
    "for _, group in grouped_wt:\n",
    "    # 0.5Hz sampling, needs to be divided by 2\n",
    "    data.append(len(group) / 2)\n",
    "\n",
    "plt.bar(np.arange(1, len(data) + 1), data, width=0.5, color='black', alpha  = 0.7, align = 'center')\n",
    "\n",
    "plt.xticks(np.arange(1, len(data) + 1), xticklabels, rotation = 'vertical')\n",
    "plt.xlim(0.5, 10)\n",
    "plt.xlabel('weight (kg)', size = 14)\n",
    "plt.ylabel('inflations (n)', size = 14)\n",
    "ax.tick_params(axis='both', which='major', labelsize=14)\n",
    "plt.grid(False)\n",
    "\n",
    "fig.savefig('%s/%s.%s' % (DIR_WRITE,  'Figure_3A',  filetype),\n",
    "            dpi = dpi, facecolor='w', edgecolor='w', orientation='portrait', papertype=None, format = filetype,\n",
    "            transparent=False, bbox_inches='tight', pad_inches=0.1, frameon=True);"
   ]
  },
  {
   "cell_type": "markdown",
   "metadata": {},
   "source": [
    "#### Figure 3B"
   ]
  },
  {
   "cell_type": "code",
   "execution_count": null,
   "metadata": {},
   "outputs": [],
   "source": [
    "dpi = 200\n",
    "filetype = 'jpg'\n",
    "\n",
    "xticklabels = ['0.5-1', '1-1.5', '1.5-2', '2-2.5', '2.5-3', '3-3.5', '3.5-4', '4-4.5', '4.5-5']\n",
    "# Define styling for each boxplot component\n",
    "medianprops = {'color': 'black', 'linewidth': 2}\n",
    "boxprops = {'color': 'black', 'linestyle': '-'}\n",
    "whiskerprops = {'color': 'black', 'linestyle': '-'}\n",
    "capprops = {'color': 'black', 'linestyle': '-'}\n",
    "# flierprops = {'color': 'black', 'marker': 'x'}\n",
    "\n",
    "fig, ax = plt.subplots(figsize = (6,3))\n",
    "data = []\n",
    "for name, group in grouped_wt:\n",
    "    data.append(group['VT_diff_kg'].dropna().values)\n",
    "plt.boxplot(data, whis = [5, 95], showfliers = False,\n",
    "        medianprops=medianprops, boxprops=boxprops, whiskerprops=whiskerprops, capprops=capprops,)\n",
    "\n",
    "plt.xticks(np.arange(1, len(data)+1), xticklabels, rotation = 'vertical')\n",
    "plt.ylim(-6.5, 5)\n",
    "plt.xlabel('weight (kg)', size = 14)\n",
    "plt.ylabel('VTdiff (mL/kg)', size = 14)\n",
    "ax.tick_params(axis='both', which='major', labelsize=14)\n",
    "plt.grid(False)\n",
    "\n",
    "fig.savefig('%s/%s.%s' % (DIR_WRITE,  'Figure_3B',  filetype),\n",
    "            dpi = dpi, facecolor='w', edgecolor='w', orientation='portrait', papertype=None, format = filetype,\n",
    "            transparent=False, bbox_inches='tight', pad_inches=0.1, frameon=True);"
   ]
  },
  {
   "cell_type": "markdown",
   "metadata": {},
   "source": [
    "#### Figure 3C"
   ]
  },
  {
   "cell_type": "code",
   "execution_count": null,
   "metadata": {},
   "outputs": [],
   "source": [
    "dpi = 200\n",
    "filetype = 'jpg'\n",
    "\n",
    "xticklabels = ['0.5-1', '1-1.5', '1.5-2', '2-2.5', '2.5-3', '3-3.5', '3.5-4', '4-4.5', '4.5-5']\n",
    "\n",
    "fig, ax = plt.subplots(figsize = (6,3))\n",
    "data = []\n",
    "for _, group in grouped_wt_filtered_1:\n",
    "    # 0.5Hz sampling, needs to be divided by 2\n",
    "    data.append(len(group) / 2)\n",
    "\n",
    "ax.bar(np.arange(1, len(data) + 1), data, width=0.5, color='black', alpha  = 0.7, align = 'center')\n",
    "\n",
    "plt.xticks(np.arange(1, len(data) + 1), xticklabels, rotation = 'vertical')\n",
    "plt.xlim(0.5, 10)\n",
    "plt.ylim(0, 25000)\n",
    "plt.xlabel('weight (kg)', size = 14)\n",
    "plt.ylabel('inflations (n)', size = 14)\n",
    "ax.tick_params(axis='both', which='major', labelsize=14)\n",
    "plt.grid(False)\n",
    "\n",
    "fig.savefig('%s/%s.%s' % (DIR_WRITE,  'Figure_3C',  filetype),\n",
    "            dpi = dpi, facecolor='w', edgecolor='w', orientation='portrait', papertype=None, format = filetype,\n",
    "            transparent=False, bbox_inches='tight', pad_inches=0.1, frameon=True);"
   ]
  },
  {
   "cell_type": "markdown",
   "metadata": {},
   "source": [
    "#### Figure 3D"
   ]
  },
  {
   "cell_type": "code",
   "execution_count": null,
   "metadata": {},
   "outputs": [],
   "source": [
    "dpi = 300\n",
    "filetype = 'jpg'\n",
    "\n",
    "xticklabels = ['0.5-1', '1-1.5', '1.5-2', '2-2.5', '2.5-3', '3-3.5', '3.5-4', '4-4.5', '4.5-5']\n",
    "# Define styling for each boxplot component\n",
    "medianprops = {'color': 'black', 'linewidth': 2}\n",
    "boxprops = {'color': 'black', 'linestyle': '-'}\n",
    "whiskerprops = {'color': 'black', 'linestyle': '-'}\n",
    "capprops = {'color': 'black', 'linestyle': '-'}\n",
    "# flierprops = {'color': 'black', 'marker': 'x'}\n",
    "\n",
    "fig, ax = plt.subplots(figsize = (6,3))\n",
    "data = []\n",
    "for name, group in grouped_wt_filtered_1:\n",
    "    data.append(group['VT_diff_kg'].dropna().values)\n",
    "plt.boxplot(data, whis = [5, 95], showfliers = False,\n",
    "        medianprops=medianprops, boxprops=boxprops, whiskerprops=whiskerprops, capprops=capprops,)\n",
    "\n",
    "plt.xticks(np.arange(1, len(data)+1), xticklabels, rotation = 'vertical')\n",
    "plt.ylim(-2, 5)\n",
    "plt.xlabel('weight (kg)', size = 14)\n",
    "plt.ylabel('VTdiff (mL/kg))', size = 14)\n",
    "ax.tick_params(axis='both', which='major', labelsize=14)\n",
    "plt.grid(False)\n",
    "\n",
    "fig.savefig('%s/%s.%s' % (DIR_WRITE,  'Figure_3D',  filetype),\n",
    "            dpi = dpi, facecolor='w', edgecolor='w', orientation='portrait', papertype=None, format = filetype,\n",
    "            transparent=False, bbox_inches='tight', pad_inches=0.1, frameon=True);"
   ]
  },
  {
   "cell_type": "markdown",
   "metadata": {},
   "source": [
    "#### Figure 3 combined"
   ]
  },
  {
   "cell_type": "code",
   "execution_count": null,
   "metadata": {},
   "outputs": [],
   "source": [
    "dpi = 200\n",
    "filetype = 'tiff'\n",
    "\n",
    "xticklabels = ['0.5-1', '1-1.5', '1.5-2', '2-2.5', '2.5-3', '3-3.5', '3.5-4', '4-4.5', '4.5-5']\n",
    "\n",
    "fig, ax = plt.subplots(2,2, figsize = [12,6])\n",
    "fig.subplots_adjust(left=0.1, bottom=0.1, right=0.9, top=0.9, hspace=0.3, wspace=0.1)\n",
    "\n",
    "# Figure 3A\n",
    "\n",
    "data = []\n",
    "for _, group in grouped_wt:\n",
    "    data.append(len(group) / 2) # 0.5Hz sampling, needs to be divided by 2\n",
    "\n",
    "ax[0,0].bar(np.arange(1, len(data)+1), data, width=0.5, color='black', alpha = 0.7, align = 'center')\n",
    "ax[0,0].set_xticks(np.arange(1, len(data)+1))\n",
    "ax[0,0].set_xticklabels(xticklabels, size = 14)\n",
    "ax[0,0].tick_params(axis='both', which='major', labelsize=14)\n",
    "ax[0,0].xaxis.set_ticklabels([])\n",
    "ax[0,0].set_xlim(0.5, 9.5)\n",
    "ax[0,0].set_xlabel('', size = 14)\n",
    "ax[0,0].set_ylabel('inflations (n)', size = 14)\n",
    "ax[0,0].grid(False)\n",
    "\n",
    "# Figure 3B\n",
    "data = []\n",
    "for name, group in grouped_wt:\n",
    "    data.append(group['VT_diff_kg'].dropna().values)\n",
    "ax[1,0].boxplot(data, whis = [5, 95], positions = np.arange(1, len(data)+1), showfliers = False,\n",
    "        medianprops=medianprops, boxprops=boxprops, whiskerprops=whiskerprops, capprops=capprops,)\n",
    "\n",
    "ax[1,0].set_xticks(np.arange(1, len(data)+1))\n",
    "ax[1,0].set_xticklabels(xticklabels, rotation = 90)\n",
    "ax[1,0].set_xlim(0.5, 9.5)\n",
    "ax[1,0].set_ylim(-6.5, 5)\n",
    "ax[1,0].set_xlabel('weight (kg)', size = 14)\n",
    "ax[1,0].set_ylabel('VTdiff (mL/kg)', size = 14)\n",
    "ax[1,0].tick_params(axis='both', which='major', labelsize=14)\n",
    "ax[1,0].grid(False)\n",
    "\n",
    "\n",
    "# Figure 3C\n",
    "data = []\n",
    "for _, group in grouped_wt_filtered_1:\n",
    "    data.append(len(group) / 2) # 0.5Hz sampling, needs to be divided by 2\n",
    "\n",
    "ax[0,1].bar(np.arange(1, len(data) + 1), data, width=0.5, color='black', alpha  = 0.7, align = 'center')\n",
    "\n",
    "ax[0,1].set_xticks(np.arange(1, len(data) + 1))\n",
    "ax[0,1].xaxis.set_ticklabels([])\n",
    "ax[0,1].yaxis.set_ticklabels([])\n",
    "ax[0,1].set_xlim(0.5, 9.5)\n",
    "ax[0,1].set_ylim(0, 25000)\n",
    "ax[0,1].set_xlabel('', size = 14)\n",
    "ax[0,1].set_ylabel('', size = 14)\n",
    "ax[0,1].tick_params(axis='both', which='major', labelsize=14)\n",
    "ax[0,1].grid(False)\n",
    "\n",
    "# Figure 3D\n",
    "data = []\n",
    "for name, group in grouped_wt_filtered_1:\n",
    "    data.append(group['VT_diff_kg'].dropna().values)\n",
    "ax[1,1].boxplot(data, whis = [5, 95], showfliers = False,\n",
    "        medianprops=medianprops, boxprops=boxprops, whiskerprops=whiskerprops, capprops=capprops,)\n",
    "\n",
    "ax[1,1].set_xticks(np.arange(1, len(data)+1))\n",
    "ax[1,1].set_xticklabels(xticklabels, rotation = 90)\n",
    "ax[1,1].yaxis.set_ticklabels([])\n",
    "ax[1,1].set_xlim(0.5, 9.5)\n",
    "ax[1,1].set_ylim(-6.5, 5)\n",
    "ax[1,1].set_xlabel('weight (kg)', size = 14)\n",
    "ax[1,1].set_ylabel('', size = 14)\n",
    "ax[1,1].tick_params(axis='x', which='major', labelsize=14,)\n",
    "ax[1,1].grid(False)\n",
    "\n",
    "fig.text(0.04, 0.95, 'A', fontsize = 16); fig.text(0.5, 0.95, 'C', fontsize = 16)\n",
    "fig.text(0.04, 0.48, 'B', fontsize = 16); fig.text(0.5, 0.48, 'D', fontsize = 16)\n",
    "\n",
    "fig.savefig('%s/%s.%s' % (DIR_WRITE,  'Figure_3',  filetype),\n",
    "            dpi = dpi, facecolor='w', edgecolor='w', orientation='portrait', papertype=None, format = filetype,\n",
    "            transparent=False, bbox_inches='tight', pad_inches=0.1, frameon=True);"
   ]
  },
  {
   "cell_type": "markdown",
   "metadata": {},
   "source": [
    "### Figure 4"
   ]
  },
  {
   "cell_type": "markdown",
   "metadata": {},
   "source": [
    "#### Figure 4A"
   ]
  },
  {
   "cell_type": "code",
   "execution_count": null,
   "metadata": {},
   "outputs": [],
   "source": [
    "from scipy.stats import pearsonr\n",
    "\n",
    "dpi = 200\n",
    "filetype = 'jpg'\n",
    "\n",
    "bins = [0, 1000, 1500, 2000, 3000, 6500]\n",
    "labels = ['<1000g', '1000-1500g', '1500-2000g', '2000-3000g', '>3000g']\n",
    "\n",
    "colors = ['k', 'r', 'b', 'g', 'm', 'y', 'magenta', 'maroon', 'navy', 'salmon',]\n",
    "markers = 'oDds*<>+.^vphh8'\n",
    "\n",
    "fig = plt.figure()\n",
    "fig.set_size_inches(8, 6)\n",
    "fig.subplots_adjust(left=None, bottom=None, right=None, top=None, wspace=None, hspace=0.7)\n",
    "fig.add_subplot(1,1,1);\n",
    "\n",
    "i = 0\n",
    "for index, group in vent_pars_CO2.groupby(pd.cut(vent_pars_CO2['Weight'], bins = bins, right = False)):\n",
    "\n",
    "    x = group['VTemand_kg']\n",
    "    y = group['pCO2']\n",
    "    plt.scatter(x, y, color = colors[i], marker = markers[i], s = 30, label = labels[i])\n",
    "    i += 1\n",
    "    \n",
    "plt.ylim([0, 120])\n",
    "plt.ylabel(r'pCO$_2$ (mmHg)', fontsize  = 14)\n",
    "plt.xlabel('VTe (mL/kg)', fontsize  = 14)\n",
    "plt.tick_params(axis = 'both', labelsize = 14)\n",
    "plt.title('', fontsize = 14)\n",
    "plt.grid(False)\n",
    "plt.legend()\n",
    "\n",
    "# Polynomial Coefficients\n",
    "coeffs = np.polyfit(vent_pars_CO2['VTemand_kg'].values.astype('float'), \n",
    "                    vent_pars_CO2['pCO2'].values.astype('float'), deg = 1)\n",
    "result = coeffs.tolist()\n",
    "result\n",
    "\n",
    "# Fit a trendline\n",
    "l = np.poly1d(coeffs)\n",
    "plt.plot(x,l(x),'r--')\n",
    "\n",
    "# Calculate pearson's correlation coefficient with confidence intervals, coefficiet of determination and p value\n",
    "r , lcl, ucl , r2, p = corr_pearson(vent_pars_CO2['VTemand_kg'], vent_pars_CO2['pCO2'])\n",
    "\n",
    "# print the equation on the graph area \n",
    "text = 'y=%.2fx+(%.2f)\\nr=%.2f (%.2f , %.2f)\\np=%.4f' % (result[0], result[1], r, lcl, ucl, p)\n",
    "plt.text(0.3 , 6 ,  text, color = 'black', style='normal', fontsize = 14, \n",
    "         bbox={'facecolor':'white', 'edgecolor':'black', 'alpha':1, 'pad':10})\n",
    "\n",
    "fig.savefig('%s/%s.%s' % (DIR_WRITE,  'Figure_4A',  filetype),\n",
    "            dpi = dpi, facecolor='w', edgecolor='w', orientation='portrait', papertype=None, format = filetype,\n",
    "            transparent=False, bbox_inches='tight', pad_inches=0.1, frameon=True);"
   ]
  },
  {
   "cell_type": "markdown",
   "metadata": {},
   "source": [
    "#### Figure 4B"
   ]
  },
  {
   "cell_type": "code",
   "execution_count": null,
   "metadata": {},
   "outputs": [],
   "source": [
    "from scipy.stats import pearsonr\n",
    "\n",
    "dpi = 200\n",
    "filetype = 'jpg'\n",
    "\n",
    "bins = [0, 1000, 1500, 2000, 3000, 6500]\n",
    "labels = ['<1000g', '1000-1500g', '1500-2000g', '2000-3000g', '>3000g']\n",
    "\n",
    "colors = ['k', 'r', 'b', 'g', 'm', 'y', 'magenta', 'maroon', 'navy', 'salmon',]\n",
    "markers = 'oDds*<>+.^vphh8'\n",
    "\n",
    "fig = plt.figure()\n",
    "fig.set_size_inches(8, 6)\n",
    "fig.subplots_adjust(left=None, bottom=None, right=None, top=None, wspace=None, hspace=0.7)\n",
    "fig.add_subplot(1,1,1);\n",
    "\n",
    "i = 0\n",
    "for index, group in vent_pars_CO2.groupby(pd.cut(vent_pars_CO2['Weight'], bins = bins, right = False)):\n",
    "\n",
    "    x = group['MV_kg']\n",
    "    y = group['pCO2']\n",
    "    plt.scatter(x, y, color = colors[i], marker = markers[i], s = 30, label = labels[i])\n",
    "    i += 1\n",
    "    \n",
    "plt.ylim([0, 120])\n",
    "plt.ylabel(r'pCO$_2$ (mmHg)', fontsize  = 14)\n",
    "plt.xlabel('MV (L/min/kg)', fontsize  = 14)\n",
    "plt.tick_params(axis = 'both', labelsize = 14)\n",
    "plt.title('', fontsize = 14)\n",
    "plt.grid(False)\n",
    "plt.legend()\n",
    "\n",
    "# Polynomial Coefficients\n",
    "coeffs = np.polyfit(vent_pars_CO2['MV_kg'].values.astype('float'), vent_pars_CO2['pCO2'].values.astype('float'), deg = 1)\n",
    "result = coeffs.tolist()\n",
    "result\n",
    "\n",
    "# Fit a trendline\n",
    "l = np.poly1d(coeffs)\n",
    "plt.plot(x,l(x),'r--')\n",
    "\n",
    "# Calculate pearson's correlation coefficient with confidence intervals, coefficiet of determination and p value\n",
    "r , lcl, ucl , r2, p = corr_pearson(vent_pars_CO2['MV_kg'], vent_pars_CO2['pCO2'])\n",
    "\n",
    "# print the equation on the graph area \n",
    "text = 'y=%.2fx+(%.2f)\\nr=%.2f (%.2f , %.2f)\\np=%.4f' % (result[0], result[1], r, lcl, ucl, p)\n",
    "plt.text(0.03 , 5 ,  text, color = 'black', style='normal', fontsize = 14, \n",
    "         bbox={'facecolor':'white', 'edgecolor':'black', 'alpha':1, 'pad':10})\n",
    "\n",
    "fig.savefig('%s/%s.%s' % (DIR_WRITE, 'Figure_4B',  filetype), \n",
    "            dpi = dpi, facecolor='w', edgecolor='w',\n",
    "            orientation='portrait', papertype=None, format = filetype,\n",
    "            transparent=False, bbox_inches=None, pad_inches=0.1, frameon=True);"
   ]
  },
  {
   "cell_type": "markdown",
   "metadata": {},
   "source": [
    "#### Figure 4 combined"
   ]
  },
  {
   "cell_type": "code",
   "execution_count": null,
   "metadata": {
    "scrolled": false
   },
   "outputs": [],
   "source": [
    "from scipy.stats import pearsonr\n",
    "\n",
    "dpi = 200\n",
    "filetype = 'tiff'\n",
    "\n",
    "bins = [0, 1000, 1500, 2000, 3000, 6500]\n",
    "labels = ['<1000g', '1000-1500g', '1500-2000g', '2000-3000g', '>3000g']\n",
    "\n",
    "colors = ['k', 'r', 'b', 'g', 'm', 'y', 'magenta', 'maroon', 'navy', 'salmon',]\n",
    "markers = 'oDds*<>+.^vphh8'\n",
    "\n",
    "\n",
    "fig, ax = plt.subplots(1, 2, figsize = (12, 5), dpi = dpi)\n",
    "fig.subplots_adjust(left=None, bottom=None, right=None, top=None, hspace=0.3, wspace=0.35)\n",
    "\n",
    "# Figure 5A\n",
    "\n",
    "i = 0\n",
    "for index, group in vent_pars_CO2.groupby(pd.cut(vent_pars_CO2['Weight'], bins = bins, right = False)):\n",
    "\n",
    "    x = group['VTemand_kg']\n",
    "    y = group['pCO2']\n",
    "    ax[0].scatter(x, y, color = colors[i], marker = markers[i], s = 30, label = labels[i])\n",
    "    i += 1\n",
    "    \n",
    "ax[0].set_ylim([0, 120])\n",
    "ax[0].set_ylabel(r'pCO$_2$ (mmHg)', fontsize  = 14)\n",
    "ax[0].set_xlabel('VTe (mL/kg)', fontsize  = 14)\n",
    "ax[0].tick_params(axis = 'both', labelsize = 14)\n",
    "ax[0].set_title('', fontsize = 14)\n",
    "ax[0].grid(False)\n",
    "ax[0].legend(fontsize = 11)\n",
    "\n",
    "# Polynomial Coefficients\n",
    "coeffs = np.polyfit(vent_pars_CO2['VTemand_kg'].values.astype('float'), \n",
    "                    vent_pars_CO2['pCO2'].values.astype('float'), deg = 1)\n",
    "result = coeffs.tolist()\n",
    "result\n",
    "\n",
    "# Fit a trendline\n",
    "l = np.poly1d(coeffs)\n",
    "ax[0].plot(x,l(x),'r--')\n",
    "\n",
    "# Calculate pearson's correlation coefficient with confidence intervals, coefficiet of determination and p value\n",
    "r , lcl, ucl , r2, p = corr_pearson(vent_pars_CO2['VTemand_kg'], vent_pars_CO2['pCO2'])\n",
    "\n",
    "# print the equation on the graph area \n",
    "text = 'y=%.2fx+(%.2f)\\nr=%.2f (%.2f , %.2f)\\np=%.4f' % (result[0], result[1], r, lcl, ucl, p)\n",
    "ax[0].text(0.4 , 7 ,  text, color = 'black', style='normal', fontsize = 11, \n",
    "         bbox={'facecolor':'white', 'edgecolor':'black', 'alpha':1, 'pad':10})\n",
    "\n",
    "# Figure 5B\n",
    "\n",
    "i = 0\n",
    "for index, group in vent_pars_CO2.groupby(pd.cut(vent_pars_CO2['Weight'], bins = bins, right = False)):\n",
    "\n",
    "    x = group['MV_kg']\n",
    "    y = group['pCO2']\n",
    "    ax[1].scatter(x, y, color = colors[i], marker = markers[i], s = 30, label = labels[i])\n",
    "    i += 1\n",
    "    \n",
    "ax[1].set_ylim([0, 120])\n",
    "ax[1].set_ylabel(r'pCO$_2$ (mmHg)', fontsize  = 14)\n",
    "ax[1].set_xlabel('MV (L/min/kg)', fontsize  = 14)\n",
    "ax[1].tick_params(axis = 'both', labelsize = 14)\n",
    "ax[1].set_title('', fontsize = 14)\n",
    "ax[1].grid(False)\n",
    "ax[1].legend(fontsize = 11)\n",
    "\n",
    "# Polynomial Coefficients\n",
    "coeffs = np.polyfit(vent_pars_CO2['MV_kg'].values.astype('float'), \n",
    "                    vent_pars_CO2['pCO2'].values.astype('float'), deg = 1)\n",
    "result = coeffs.tolist()\n",
    "result\n",
    "\n",
    "# Fit a trendline\n",
    "l = np.poly1d(coeffs)\n",
    "ax[1].plot(x,l(x),'r--')\n",
    "\n",
    "# Calculate pearson's correlation coefficient with confidence intervals, coefficiet of determination and p value\n",
    "r , lcl, ucl , r2, p = corr_pearson(vent_pars_CO2['MV_kg'], vent_pars_CO2['pCO2'])\n",
    "\n",
    "# print the equation on the graph area \n",
    "text = 'y=%.2fx+(%.2f)\\nr=%.2f (%.2f , %.2f)\\np=%.4f' % (result[0], result[1], r, lcl, ucl, p)\n",
    "ax[1].text(0.03 , 7 ,  text, color = 'black', style='normal', fontsize = 11, \n",
    "         bbox={'facecolor':'white', 'edgecolor':'black', 'alpha':1, 'pad':10})\n",
    "\n",
    "fig.text(0.04, 0.96, 'A', fontsize = 14); fig.text(0.50, 0.96, 'B', fontsize = 14)\n",
    "\n",
    "fig.savefig('%s/%s.%s' % (DIR_WRITE, 'Figure_4', filetype),\n",
    "    dpi = dpi, facecolor='w', edgecolor='w', orientation='portrait', papertype=None, format = filetype,\n",
    "    transparent=False, bbox_inches='tight', pad_inches=0.1, frameon=True);"
   ]
  },
  {
   "cell_type": "markdown",
   "metadata": {},
   "source": [
    "### Supplementary Figures"
   ]
  },
  {
   "cell_type": "markdown",
   "metadata": {},
   "source": [
    "### Supplementary Figure 1"
   ]
  },
  {
   "cell_type": "code",
   "execution_count": null,
   "metadata": {},
   "outputs": [],
   "source": [
    "filetype = 'tiff'\n",
    "dpi = 200\n",
    "\n",
    "fig, ax = plt.subplots(3, 3, figsize = [12, 12])\n",
    "fig.subplots_adjust(left=None, bottom=None, right=None, top=None,\n",
    "wspace=0.3, hspace=0.4)\n",
    "ax = ax.ravel()\n",
    "\n",
    "data = data_pars_combined_vg_all['VTimand_kg']\n",
    "data = data[(data < 20) & (data > 0)]\n",
    "ax[0].hist(data, histtype = 'bar', bins = 40, density = True, color = 'black', alpha = 0.7, )    \n",
    "# Plot the PDF.\n",
    "xmin, xmax = ax[0].get_xlim()\n",
    "x = np.linspace(xmin, xmax, 100)\n",
    "p = stats.norm.pdf(x, data.mean(), data.std())\n",
    "ax[0].plot(x, p, linewidth=2, color = 'red')\n",
    "ax[0].set_xlabel('mL/kg', size = 12)\n",
    "ax[0].set_ylabel('Probability density', size = 12)\n",
    "ax[0].set_xlim(0, data.mean()*2)\n",
    "ax[0].set_title('VTi', fontsize = 12)\n",
    "\n",
    "data = data_pars_combined_vg_all['VTemand_kg']\n",
    "data = data[(data < 20) & (data > 0)]\n",
    "ax[1].hist(data, histtype = 'bar', bins = 40, density = True, color = 'black', alpha = 0.7, )    \n",
    "# Plot the PDF.\n",
    "xmin, xmax = ax[1].get_xlim()\n",
    "x = np.linspace(xmin, xmax, 100)\n",
    "p = stats.norm.pdf(x, data.mean(), data.std())\n",
    "ax[1].plot(x, p, linewidth=2, color = 'red')\n",
    "ax[1].set_xlabel('mL/kg', size = 12)\n",
    "ax[1].set_ylabel('', size = 12)\n",
    "ax[1].set_xlim(0, data.mean()*2)\n",
    "ax[1].set_title('VTe', fontsize = 12)\n",
    "\n",
    "data = data_pars_combined_vg_all['VG_set_kg']\n",
    "ax[2].hist(data, bins = 50, density = True, color = 'black', alpha = 0.7)    \n",
    "# Plot the PDF.\n",
    "xmin, xmax = ax[2].get_xlim()\n",
    "x = np.linspace(xmin, xmax, 100)\n",
    "p = stats.norm.pdf(x, data.mean(), data.std())\n",
    "ax[2].plot(x, p, linewidth=2, color = 'red')\n",
    "ax[2].set_xlabel('mL/kg', size = 12)\n",
    "ax[2].set_ylabel('', size = 12)\n",
    "ax[2].set_xlim(0, data.mean()*2)\n",
    "ax[2].set_title('VTset', fontsize = 12)\n",
    "\n",
    "data = data_pars_combined_vg_all['PIP']\n",
    "ax[3].hist(data, bins = 30, density = True, color = 'black', alpha = 0.7)    \n",
    "# Plot the PDF.\n",
    "xmin, xmax = ax[3].get_xlim()\n",
    "x = np.linspace(xmin, xmax, 100)\n",
    "p = stats.norm.pdf(x, data.mean(), data.std())\n",
    "ax[3].plot(x, p, linewidth=2, color = 'red')\n",
    "ax[3].set_xlabel('cmH$_2$O', size = 12)\n",
    "ax[3].set_ylabel('Probability density', size = 12)\n",
    "ax[3].set_xlim(0, data.mean()*2)\n",
    "ax[3].set_ylim(0, 0.1)\n",
    "ax[3].set_title('PIP', fontsize = 12)\n",
    "\n",
    "data = data_pars_combined_vg_all['PEEP']\n",
    "data = data[data < 12]\n",
    "ax[4].hist(data, bins = 45, density = True, color = 'black', alpha = 0.7)    \n",
    "# Plot the PDF.\n",
    "xmin, xmax = ax[4].get_xlim()\n",
    "x = np.linspace(xmin, xmax, 100)\n",
    "p = stats.norm.pdf(x, data.mean(), data.std())\n",
    "ax[4].plot(x, p, linewidth=2, color = 'red')\n",
    "ax[4].set_xlabel('cmH$_2$O', size = 12)\n",
    "ax[4].set_ylabel('', size = 12)\n",
    "ax[4].set_xlim(0, data.mean()*2)\n",
    "ax[4].set_title('PEEP', fontsize = 12)\n",
    "\n",
    "data = data_pars_combined_vg_all['MAP']\n",
    "ax[5].hist(data, bins = 25, density = True, color = 'black', alpha = 0.7)    \n",
    "# Plot the PDF.\n",
    "xmin, xmax = ax[5].get_xlim()\n",
    "x = np.linspace(xmin, xmax, 100)\n",
    "p = stats.norm.pdf(x, data.mean(), data.std())\n",
    "ax[5].plot(x, p, linewidth=2, color = 'red')\n",
    "ax[5].set_xlabel('cmH$_2$O', size = 12)\n",
    "ax[5].set_ylabel('', size = 12)\n",
    "ax[5].set_xlim(0, data.mean()*2)\n",
    "ax[5].set_title('MAP', fontsize = 12)\n",
    "\n",
    "data = data_pars_combined_vg_all['MV_kg']\n",
    "data = data[data < 1]\n",
    "ax[6].hist(data, bins = 50, density = True, color = 'black', alpha = 0.7)    \n",
    "# Plot the PDF.\n",
    "xmin, xmax = ax[6].get_xlim()\n",
    "x = np.linspace(xmin, xmax, 100)\n",
    "p = stats.norm.pdf(x, data.mean(), data.std())\n",
    "ax[6].plot(x, p, linewidth=2, color = 'red')\n",
    "ax[6].set_xlabel('L/kg/min', size = 12)\n",
    "ax[6].set_ylabel('Probability density', size = 12)\n",
    "ax[6].set_xlim(0, data.mean()*2)\n",
    "ax[6].set_title('MV', fontsize = 12)\n",
    "\n",
    "data = data_pars_combined_vg_all['FiO2_set']\n",
    "ax[7].hist(data, bins = 10, density = True, color = 'black', alpha = 0.7, log = True)    \n",
    "ax[7].set_xlabel('%', size = 12)\n",
    "ax[7].set_ylabel('', size = 12)\n",
    "ax[7].set_ylim(0.0001, 1)\n",
    "ax[7].set_title('FiO$_2$', fontsize = 12)\n",
    "\n",
    "data = data_pars_combined_vg_all['Leak']\n",
    "ax[8].hist(data, bins = 20, density = True, color = 'black', alpha = 0.7, log = True)    \n",
    "ax[8].set_xlabel('%', size = 12)\n",
    "ax[8].set_ylabel('', size = 12)\n",
    "#ax.set_ylim(1, 1000000)\n",
    "ax[8].set_title('Leak', fontsize = 12)\n",
    "\n",
    "fig.savefig('%s/%s.%s' % (DIR_WRITE,  'Supplementary_Figure_1',  filetype),\n",
    "            dpi = dpi, facecolor='w', edgecolor='w', orientation='portrait', papertype=None, format = filetype,\n",
    "            transparent=False, bbox_inches='tight', pad_inches=0.1, frameon=True);"
   ]
  },
  {
   "cell_type": "markdown",
   "metadata": {},
   "source": [
    "### Supplementary Figure 2"
   ]
  },
  {
   "cell_type": "markdown",
   "metadata": {},
   "source": [
    "#### Supplementary Figure 2A"
   ]
  },
  {
   "cell_type": "code",
   "execution_count": null,
   "metadata": {},
   "outputs": [],
   "source": [
    "dpi = 300\n",
    "filetype = 'tiff'\n",
    "xticklabels = ['SIMV-VG', 'SIMV-VG-PS', 'SIPPV-VG']\n",
    "\n",
    "fig, ax = plt.subplots(figsize = (4,3))\n",
    "data = []\n",
    "for _, group in grouped_mode:\n",
    "    # 0.5Hz sampling, needs to be divided by 2\n",
    "    data.append(len(group) / 2)\n",
    "\n",
    "plt.bar(np.arange(1, len(data) + 1), data, width=0.5, color='black', alpha  = 0.7, align = 'center')\n",
    "\n",
    "plt.xticks(np.arange(1, len(data) + 1), xticklabels, rotation = 'horizontal')\n",
    "plt.xlim(0.5, 3.5)\n",
    "plt.xlabel('ventilation mode', size = 14)\n",
    "plt.ylabel('inflations (n)', size = 14)\n",
    "ax.tick_params(axis='both', which='major', labelsize=12)\n",
    "plt.grid(False)\n",
    "\n",
    "fig.savefig('%s/%s.%s' % (DIR_WRITE,  'Supplementary_Figure_2A',  filetype),\n",
    "            dpi = dpi, facecolor='w', edgecolor='w', orientation='portrait', papertype=None, format = filetype,\n",
    "            transparent=False, bbox_inches='tight', pad_inches=0.1, frameon=True);"
   ]
  },
  {
   "cell_type": "markdown",
   "metadata": {},
   "source": [
    "#### Figure 2B"
   ]
  },
  {
   "cell_type": "code",
   "execution_count": null,
   "metadata": {},
   "outputs": [],
   "source": [
    "dpi = 300\n",
    "filetype = 'jpg'\n",
    "xticklabels = ['SIMV-VG', 'SIMV-VG-PS', 'SIPPV-VG']\n",
    "\n",
    "# Define styling for each boxplot component\n",
    "medianprops = {'color': 'black', 'linewidth': 2}\n",
    "boxprops = {'color': 'black', 'linestyle': '-'}\n",
    "whiskerprops = {'color': 'black', 'linestyle': '-'}\n",
    "capprops = {'color': 'black', 'linestyle': '-'}\n",
    "# flierprops = {'color': 'black', 'marker': 'x'}\n",
    "\n",
    "fig, ax = plt.subplots(figsize = (4, 3))\n",
    "data = []\n",
    "for name, group in grouped_mode:\n",
    "    data.append(group['VT_diff_kg'].dropna().values)\n",
    "plt.boxplot(data, whis = [5, 95], showfliers = False,widths = 0.5,\n",
    "        medianprops=medianprops, boxprops=boxprops, whiskerprops=whiskerprops, capprops=capprops,)\n",
    "\n",
    "plt.xticks(np.arange(1, len(data)+1), xticklabels, rotation = 'horizontal')\n",
    "plt.xlim(0.5, 3.5)\n",
    "plt.ylim(-3, 3)\n",
    "plt.xlabel('ventilator mode', size = 14)\n",
    "plt.ylabel('VTdiff (mL/kg))', size = 14)\n",
    "ax.tick_params(axis='both', which='major', labelsize=12)\n",
    "plt.grid(False)\n",
    "\n",
    "fig.savefig('%s/%s.%s' % (DIR_WRITE,  'Supplementary_Figure 2B',  filetype),\n",
    "            dpi = dpi, facecolor='w', edgecolor='w', orientation='portrait', papertype=None, format = filetype,\n",
    "            transparent=False, bbox_inches='tight', pad_inches=0.1, frameon=True);"
   ]
  },
  {
   "cell_type": "markdown",
   "metadata": {},
   "source": [
    "#### Supplementary Figure 2 combined"
   ]
  },
  {
   "cell_type": "code",
   "execution_count": null,
   "metadata": {},
   "outputs": [],
   "source": [
    "dpi = 200\n",
    "filetype = 'tiff'\n",
    "xticklabels = ['SIMV-VG', 'SIMV-VG-PS', 'SIPPV-VG']\n",
    "\n",
    "fig, ax = plt.subplots(2, 1, figsize = (4, 6))\n",
    "fig.subplots_adjust(left=None, bottom=None, right=None, top=None, hspace=0.1, wspace=0.3)\n",
    "\n",
    "# Figure 4A\n",
    "data = []\n",
    "for _, group in grouped_mode:\n",
    "    # 0.5Hz sampling, needs to be divided by 2\n",
    "    data.append(len(group) / 2)\n",
    "\n",
    "ax[0].bar(np.arange(1, len(data) + 1), data, width=0.5, color='black', alpha  = 0.7, align = 'center')\n",
    "ax[0].set_xticks(np.arange(1, len(data)+1))\n",
    "ax[0].xaxis.set_ticklabels([])\n",
    "ax[0].set_xlim(0.5, 3.5)\n",
    "ax[0].set_xlabel('', size = 14)\n",
    "ax[0].set_ylabel('inflations (n)', size = 14)\n",
    "ax[0].grid(False)\n",
    "\n",
    "# Figure 4B\n",
    "data = []\n",
    "for name, group in grouped_mode:\n",
    "    data.append(group['VT_diff_kg'].dropna().values)\n",
    "ax[1].boxplot(data, whis = [5, 95], showfliers = False,widths = 0.5,\n",
    "        medianprops=medianprops, boxprops=boxprops, whiskerprops=whiskerprops, capprops=capprops,)\n",
    "\n",
    "ax[1].set_xticks(np.arange(1, len(data)+1))\n",
    "ax[1].set_xticklabels(xticklabels)\n",
    "ax[1].set_xlim(0.5, 3.5)\n",
    "ax[1].set_ylim(-3, 3)\n",
    "ax[1].set_xlabel('ventilation mode', size = 14)\n",
    "ax[1].set_ylabel('VTdiff (mL/kg))', size = 14)\n",
    "ax[1].tick_params(axis='both', which='major', labelsize=12)\n",
    "ax[1].grid(False)\n",
    "\n",
    "fig.savefig('%s/%s.%s' % (DIR_WRITE,  'Supplementary_Figure_2',  filetype),\n",
    "            dpi = dpi, facecolor='w', edgecolor='w', orientation='portrait', papertype=None, format = filetype,\n",
    "            transparent=False, bbox_inches='tight', pad_inches=0.1, frameon=True)"
   ]
  },
  {
   "cell_type": "markdown",
   "metadata": {},
   "source": [
    "### Supplementary Figure 3"
   ]
  },
  {
   "cell_type": "markdown",
   "metadata": {},
   "source": [
    "#### Supplementary Figure 3A"
   ]
  },
  {
   "cell_type": "code",
   "execution_count": null,
   "metadata": {},
   "outputs": [],
   "source": [
    "from scipy.stats import pearsonr\n",
    "dpi = 300\n",
    "filetype = 'jpg'\n",
    "bins = [0, 1000, 1500, 2000, 3000, 6500]\n",
    "labels = ['<1000g', '1000-1500g', '1500-2000g', '2000-3000g', '>3000g']\n",
    "\n",
    "colors = ['k', 'r', 'b', 'g', 'm', 'y', 'magenta', 'maroon', 'navy', 'salmon',]\n",
    "markers = 'oDds*<>+.^vphh8'\n",
    "\n",
    "fig = plt.figure()\n",
    "fig.set_size_inches(8, 8)\n",
    "fig.subplots_adjust(left=None, bottom=None, right=None, top=None, wspace=None, hspace=0.7)\n",
    "fig.add_subplot(1,1,1);\n",
    "\n",
    "i = 0\n",
    "for index, group in vent_pars_CO2.groupby('Ventilator_mode'):\n",
    "\n",
    "    x = group['VTemand_kg']\n",
    "    y = group['pCO2']\n",
    "    plt.scatter(x, y, color = colors[i], marker = markers[i], s = 30, label = index)\n",
    "    i += 1\n",
    "    \n",
    "plt.ylim([0, 120])\n",
    "plt.ylabel(r'pCO$_2$ (mmHg)', fontsize  = 14)\n",
    "plt.xlabel('VTe (mL/kg)', fontsize  = 14)\n",
    "plt.tick_params(axis = 'both', labelsize = 14)\n",
    "plt.title('', fontsize = 14)\n",
    "plt.grid(False)\n",
    "plt.legend()\n",
    "\n",
    "# Polynomial Coefficients\n",
    "coeffs = np.polyfit(vent_pars_CO2['VTemand_kg'].values.astype('float'), \n",
    "                    vent_pars_CO2['pCO2'].values.astype('float'), deg = 1)\n",
    "result = coeffs.tolist()\n",
    "result\n",
    "\n",
    "# Fit a trendline\n",
    "l = np.poly1d(coeffs)\n",
    "plt.plot(x,l(x),'r--')\n",
    "\n",
    "# Calculate pearson's correlation coefficient with confidence intervals, coefficiet of determination and p value\n",
    "r , lcl, ucl , r2, p = corr_pearson(vent_pars_CO2['MV_kg'], vent_pars_CO2['pCO2'])\n",
    "\n",
    "# print the equation on the graph area \n",
    "text = 'y=%.2fx+(%.2f)\\nr=%.2f (%.2f , %.2f)\\np=%.4f' % (result[0], result[1], r, lcl, ucl, p)\n",
    "plt.text(0.5 , 6 ,  text, color = 'black', style='normal', fontsize = 14, \n",
    "         bbox={'facecolor':'white', 'edgecolor':'black', 'alpha':1, 'pad':10})\n",
    "\n",
    "fig.savefig('%s/%s.%s' % (DIR_WRITE, 'Supplementary_Figure_3A',  filetype), \n",
    "            dpi = dpi, facecolor='w', edgecolor='w',\n",
    "            orientation='portrait', papertype=None, format = filetype,\n",
    "            transparent=False, bbox_inches='tight', pad_inches=0.1, frameon=True);"
   ]
  },
  {
   "cell_type": "markdown",
   "metadata": {},
   "source": [
    "#### Supplementary Figure 3B"
   ]
  },
  {
   "cell_type": "code",
   "execution_count": null,
   "metadata": {},
   "outputs": [],
   "source": [
    "from scipy.stats import pearsonr\n",
    "dpi = 300\n",
    "filetype = 'jpg'\n",
    "bins = [0, 1000, 1500, 2000, 3000, 6500]\n",
    "labels = ['<1000g', '1000-1500g', '1500-2000g', '2000-3000g', '>3000g']\n",
    "\n",
    "colors = ['k', 'r', 'b', 'g', 'm', 'y', 'magenta', 'maroon', 'navy', 'salmon',]\n",
    "markers = 'oDds*<>+.^vphh8'\n",
    "\n",
    "fig = plt.figure()\n",
    "fig.set_size_inches(8, 8)\n",
    "fig.subplots_adjust(left=None, bottom=None, right=None, top=None, wspace=None, hspace=0.7)\n",
    "fig.add_subplot(1,1,1);\n",
    "\n",
    "i = 0\n",
    "for index, group in vent_pars_CO2.groupby('Ventilator_mode'):\n",
    "\n",
    "    x = group['MV_kg']\n",
    "    y = group['pCO2']\n",
    "    plt.scatter(x, y, color = colors[i], marker = markers[i], s = 30, label = index)\n",
    "    i += 1\n",
    "    \n",
    "plt.ylim([0, 120])\n",
    "plt.ylabel(r'pCO$_2$ (mmHg)', fontsize  = 14)\n",
    "plt.xlabel('MV (L/min/kg)', fontsize  = 14)\n",
    "plt.tick_params(axis = 'both', labelsize = 14)\n",
    "plt.title('', fontsize = 14)\n",
    "plt.grid(False)\n",
    "plt.legend()\n",
    "\n",
    "# Polynomial Coefficients\n",
    "coeffs = np.polyfit(vent_pars_CO2['MV_kg'].values.astype('float'), vent_pars_CO2['pCO2'].values.astype('float'), deg = 1)\n",
    "result = coeffs.tolist()\n",
    "result\n",
    "\n",
    "# Fit a trendline\n",
    "l = np.poly1d(coeffs)\n",
    "plt.plot(x,l(x),'r--')\n",
    "\n",
    "# Calculate pearson's correlation coefficient with confidence intervals, coefficiet of determination and p value\n",
    "r , lcl, ucl , r2, p = corr_pearson(vent_pars_CO2['MV_kg'], vent_pars_CO2['pCO2'])\n",
    "\n",
    "# print the equation on the graph area \n",
    "text = 'y=%.2fx+(%.2f)\\nr=%.2f (%.2f , %.2f)\\np=%.4f' % (result[0], result[1], r, lcl, ucl, p)\n",
    "plt.text(0.03 , 6 ,  text, color = 'black', style='normal', fontsize = 14, \n",
    "         bbox={'facecolor':'white', 'edgecolor':'black', 'alpha':1, 'pad':10})\n",
    "\n",
    "fig.savefig('%s/%s.%s' % (DIR_WRITE, 'Supplementary_Figure_3B',  filetype), \n",
    "            dpi = dpi, facecolor='w', edgecolor='w',\n",
    "            orientation='portrait', papertype=None, format = filetype,\n",
    "            transparent=False, bbox_inches='tight', pad_inches=0.1, frameon=True);"
   ]
  },
  {
   "cell_type": "markdown",
   "metadata": {},
   "source": [
    "#### Supplementary Figure 3C"
   ]
  },
  {
   "cell_type": "code",
   "execution_count": null,
   "metadata": {},
   "outputs": [],
   "source": [
    "from scipy.stats import pearsonr\n",
    "dpi = 300\n",
    "filetype = 'jpg'\n",
    "bins = [0, 1000, 1500, 2000, 3000, 6500]\n",
    "labels = ['<1000g', '1000-1500g', '1500-2000g', '2000-3000g', '>3000g']\n",
    "\n",
    "colors = ['k', 'r', 'b', 'g', 'm', 'y', 'magenta', 'maroon', 'navy', 'salmon',]\n",
    "markers = 'oDds*<>+.^vphh8'\n",
    "\n",
    "fig = plt.figure()\n",
    "fig.set_size_inches(8, 8)\n",
    "fig.subplots_adjust(left=None, bottom=None, right=None, top=None, wspace=None, hspace=0.7)\n",
    "fig.add_subplot(1,1,1);\n",
    "\n",
    "i = 0\n",
    "for index, group in vent_pars_CO2.groupby('Ventilator_mode'):\n",
    "    if index == 'SIPPV':\n",
    "        x = group['VTemand_kg']\n",
    "        y = group['pCO2']\n",
    "        plt.scatter(x, y, color = 'b', marker = 'd', s = 30, label = index)\n",
    "        i += 1\n",
    "\n",
    "plt.xlim([0,9])\n",
    "plt.ylim([0, 120])\n",
    "plt.ylabel(r'pCO$_2$ (mmHg)', fontsize  = 14)\n",
    "plt.xlabel('VTe (mL/kg)', fontsize  = 14)\n",
    "plt.tick_params(axis = 'both', labelsize = 14)\n",
    "plt.title('', fontsize = 14)\n",
    "plt.grid(True)\n",
    "plt.legend()\n",
    "\n",
    "vent_pars_CO22_SIPPV = vent_pars_CO2[vent_pars_CO2['Ventilator_mode'] == 'SIPPV']\n",
    "\n",
    "# Polynomial Coefficients\n",
    "coeffs = np.polyfit(vent_pars_CO2_SIPPV['VTemand_kg'].values.astype('float'), \n",
    "                    vent_pars_CO2_SIPPV['pCO2'].values.astype('float'), deg = 1)\n",
    "result = coeffs.tolist()\n",
    "result\n",
    "\n",
    "# Fit a trendline\n",
    "l = np.poly1d(coeffs)\n",
    "plt.plot(x,l(x),'r--')\n",
    "\n",
    "# Calculate pearson's correlation coefficient with confidence intervals, coefficiet of determination and p value\n",
    "r , lcl, ucl , r2, p = corr_pearson(vent_pars_CO2_SIPPV['VTemand_kg'], vent_pars_CO2_SIPPV['pCO2'])\n",
    "\n",
    "# print the equation on the graph area \n",
    "text = 'y=%.2fx+(%.2f)\\nr=%.2f (%.2f , %.2f)\\np=%.4f' % (result[0], result[1], r, lcl, ucl, p)\n",
    "plt.text(0.3 , 5 ,  text, color = 'black', style='normal', fontsize = 14, \n",
    "         bbox={'facecolor':'white', 'edgecolor':'black', 'alpha':1, 'pad':10})\n",
    "\n",
    "fig.savefig('%s/%s.%s' % (DIR_WRITE, 'Supplementary_Figure_3C',  filetype), \n",
    "            dpi = dpi, facecolor='w', edgecolor='w',\n",
    "            orientation='portrait', papertype=None, format = filetype,\n",
    "            transparent=False, bbox_inches='tight', pad_inches=0.1, frameon=True);"
   ]
  },
  {
   "cell_type": "markdown",
   "metadata": {},
   "source": [
    "#### Supplementary Figure 3D"
   ]
  },
  {
   "cell_type": "code",
   "execution_count": null,
   "metadata": {},
   "outputs": [],
   "source": [
    "from scipy.stats import pearsonr\n",
    "dpi = 300\n",
    "filetype = 'jpg'\n",
    "bins = [0, 1000, 1500, 2000, 3000, 6500]\n",
    "labels = ['<1000g', '1000-1500g', '1500-2000g', '2000-3000g', '>3000g']\n",
    "\n",
    "colors = ['k', 'r', 'b', 'g', 'm', 'y', 'magenta', 'maroon', 'navy', 'salmon',]\n",
    "markers = 'oDds*<>+.^vphh8'\n",
    "\n",
    "fig = plt.figure()\n",
    "fig.set_size_inches(8, 8)\n",
    "fig.subplots_adjust(left=None, bottom=None, right=None, top=None, wspace=None, hspace=0.7)\n",
    "fig.add_subplot(1,1,1);\n",
    "\n",
    "i = 0\n",
    "for index, group in vent_pars_CO2.groupby('Ventilator_mode'):\n",
    "    if index == 'SIPPV':\n",
    "        x = group['MV_kg']\n",
    "        y = group['pCO2']\n",
    "        plt.scatter(x, y, color = 'b', marker = 'd', s = 30, label = index)\n",
    "        i += 1\n",
    "    \n",
    "plt.xlim([0, 0.6])\n",
    "plt.ylim([0, 120])\n",
    "plt.ylabel(r'pCO$_2$ (mmHg)', fontsize  = 14)\n",
    "plt.xlabel('MV (L/min/kg)', fontsize  = 14)\n",
    "plt.tick_params(axis = 'both', labelsize = 14)\n",
    "plt.title('', fontsize = 14)\n",
    "plt.grid(False)\n",
    "plt.legend()\n",
    "\n",
    "vent_pars_CO2_SIPPV = vent_pars_CO2[vent_pars_CO2['Ventilator_mode'] == 'SIPPV']\n",
    "\n",
    "# Polynomial Coefficients\n",
    "coeffs = np.polyfit(vent_pars_CO2_SIPPV['MV_kg'].values.astype('float'), \n",
    "                    vent_pars_CO2_SIPPV['pCO2'].values.astype('float'), deg = 1)\n",
    "result = coeffs.tolist()\n",
    "result\n",
    "\n",
    "# Fit a trendline\n",
    "l = np.poly1d(coeffs)\n",
    "plt.plot(x,l(x),'r--')\n",
    "\n",
    "# Calculate pearson's correlation coefficient with confidence intervals, coefficiet of determination and p value\n",
    "r , lcl, ucl , r2, p = corr_pearson(vent_pars_CO2_SIPPV['MV_kg'], vent_pars_CO2_SIPPV['pCO2'])\n",
    "\n",
    "# print the equation on the graph area \n",
    "text = 'y=%.2fx+(%.2f)\\nr=%.2f (%.2f , %.2f)\\np=%.4f' % (result[0], result[1], r, lcl, ucl, p)\n",
    "plt.text(0.03 , 5 ,  text, color = 'black', style='normal', fontsize = 14, \n",
    "         bbox={'facecolor':'white', 'edgecolor':'black', 'alpha':1, 'pad':10})\n",
    "\n",
    "\n",
    "fig.savefig('%s/%s.%s' % (DIR_WRITE, 'Supplementary_Figure_3D',  filetype), \n",
    "            dpi = dpi, facecolor='w', edgecolor='w',\n",
    "            orientation='portrait', papertype=None, format = filetype,\n",
    "            transparent=False, bbox_inches='tight', pad_inches=0.1, frameon=True);"
   ]
  },
  {
   "cell_type": "markdown",
   "metadata": {},
   "source": [
    "#### Supplementary Figure 3 combined"
   ]
  },
  {
   "cell_type": "raw",
   "metadata": {},
   "source": [
    "from scipy.stats import pearsonr\n",
    "\n",
    "dpi = 200\n",
    "filetype = 'jpg'\n",
    "\n",
    "bins = [0, 1000, 1500, 2000, 3000, 6500]\n",
    "labels = ['<1000g', '1000-1500g', '1500-2000g', '2000-3000g', '>3000g']\n",
    "\n",
    "colors = ['k', 'r', 'b', 'g', 'm', 'y', 'magenta', 'maroon', 'navy', 'salmon',]\n",
    "markers = 'oDds*<>+.^vphh8'\n",
    "\n",
    "\n",
    "fig, ax = plt.subplots(2, 2, figsize = (12, 12), dpi = dpi)\n",
    "fig.subplots_adjust(left=None, bottom=None, right=None, top=None, hspace=0.3, wspace=0.35)\n",
    "\n",
    "# Supplementary Figure 3A\n",
    "\n",
    "i = 0\n",
    "for index, group in vent_pars_CO2.groupby('Ventilator_mode'):\n",
    "\n",
    "    x = group['VTemand_kg']\n",
    "    y = group['pCO2']\n",
    "    ax[0,0].scatter(x, y, color = colors[i], marker = markers[i], s = 30, label = index)\n",
    "    i += 1\n",
    "    \n",
    "ax[0,0].set_ylim([0, 120])\n",
    "ax[0,0].set_ylabel(r'pCO$_2$ (mmHg)', fontsize  = 14)\n",
    "ax[0,0].set_xlabel('VTe (mL/kg)', fontsize  = 14)\n",
    "ax[0,0].tick_params(axis = 'both', labelsize = 14)\n",
    "ax[0,0].set_title('', fontsize = 14)\n",
    "ax[0,0].grid(False)\n",
    "ax[0,0].legend(fontsize = 11)\n",
    "\n",
    "# Polynomial Coefficients\n",
    "coeffs = np.polyfit(vent_pars_CO2['VTemand_kg'].values.astype('float'), \n",
    "                    vent_pars_CO2['pCO2'].values.astype('float'), deg = 1)\n",
    "result = coeffs.tolist()\n",
    "\n",
    "# Fit a trendline\n",
    "l = np.poly1d(coeffs)\n",
    "ax[0,0].plot(x,l(x),'r--')\n",
    "\n",
    "# Calculate pearson's correlation coefficient with confidence intervals, coefficiet of determination and p value\n",
    "r , lcl, ucl , r2, p = corr_pearson(vent_pars_CO2['VTemand_kg'], vent_pars_CO2['pCO2'])\n",
    "\n",
    "# print the equation on the graph area \n",
    "text = 'y=%.2fx+(%.2f)\\nr=%.2f (%.2f , %.2f)\\np=%.4f' % (result[0], result[1], r, lcl, ucl, p)\n",
    "ax[0,0].text(0.5 , 6 ,  text, color = 'black', style='normal', fontsize = 11, \n",
    "         bbox={'facecolor':'white', 'edgecolor':'black', 'alpha':1, 'pad':10})\n",
    "\n",
    "\n",
    "# Supplementary Figure 3B\n",
    "\n",
    "i = 0\n",
    "for index, group in vent_pars_CO2.groupby('Ventilator_mode'):\n",
    "\n",
    "    x = group['MV_kg']\n",
    "    y = group['pCO2']\n",
    "    ax[0,1].scatter(x, y, color = colors[i], marker = markers[i], s = 30, label = index)\n",
    "    i += 1\n",
    "    \n",
    "ax[0,1].set_ylim([0, 120])\n",
    "ax[0,1].set_ylabel(r'pCO$_2$ (mmHg)', fontsize  = 14)\n",
    "ax[0,1].set_xlabel('MV (L/min/kg)', fontsize  = 14)\n",
    "ax[0,1].tick_params(axis = 'both', labelsize = 14)\n",
    "ax[0,1].set_title('', fontsize = 14)\n",
    "ax[0,1].grid(False)\n",
    "ax[0,1].legend(fontsize = 11)\n",
    "\n",
    "# Polynomial Coefficients\n",
    "coeffs = np.polyfit(vent_pars_CO2['MV_kg'].values.astype('float'), \n",
    "                    vent_pars_CO2['pCO2'].values.astype('float'), deg = 1)\n",
    "result = coeffs.tolist()\n",
    "\n",
    "# Fit a trendline\n",
    "l = np.poly1d(coeffs)\n",
    "ax[0,1].plot(x,l(x),'r--')\n",
    "\n",
    "# Calculate pearson's correlation coefficient with confidence intervals, coefficiet of determination and p value\n",
    "r , lcl, ucl , r2, p = corr_pearson(vent_pars_CO2['MV_kg'], vent_pars_CO2['pCO2'])\n",
    "\n",
    "# print the equation on the graph area \n",
    "text = 'y=%.2fx+(%.2f)\\nr=%.2f (%.2f , %.2f)\\np=%.4f' % (result[0], result[1], r, lcl, ucl, p)\n",
    "ax[0,1].text(0.03 , 6 ,  text, color = 'black', style='normal', fontsize = 11, \n",
    "         bbox={'facecolor':'white', 'edgecolor':'black', 'alpha':1, 'pad':10})\n",
    "\n",
    "\n",
    "# Supplementary Figure 3C\n",
    "\n",
    "i = 0\n",
    "for index, group in vent_pars_CO2.groupby('Ventilator_mode'):\n",
    "    if index == 'SIPPV':\n",
    "        x = group['VTemand_kg']\n",
    "        y = group['pCO2']\n",
    "        ax[1,0].scatter(x, y, color = 'b', marker = 'd', s = 30, label = index)\n",
    "        i += 1\n",
    "\n",
    "ax[1,0].set_xlim([0,9])\n",
    "ax[1,0].set_ylim([0, 120])\n",
    "ax[1,0].set_ylabel(r'pCO$_2$ (mmHg)', fontsize  = 14)\n",
    "ax[1,0].set_xlabel('VTe (mL/kg)', fontsize  = 14)\n",
    "ax[1,0].tick_params(axis = 'both', labelsize = 14)\n",
    "ax[1,0].set_title('', fontsize = 14)\n",
    "ax[1,0].grid(False)\n",
    "ax[1,0].legend(fontsize = 11)\n",
    "\n",
    "vent_pars_CO22_SIPPV = vent_pars_CO2[vent_pars_CO2['Ventilator_mode'] == 'SIPPV']\n",
    "\n",
    "# Polynomial Coefficients\n",
    "coeffs = np.polyfit(vent_pars_CO2_SIPPV['VTemand_kg'].values.astype('float'), \n",
    "                    vent_pars_CO2_SIPPV['pCO2'].values.astype('float'), deg = 1)\n",
    "result = coeffs.tolist()\n",
    "result\n",
    "\n",
    "# Fit a trendline\n",
    "l = np.poly1d(coeffs)\n",
    "ax[1,0].plot(x,l(x),'r--')\n",
    "\n",
    "# Calculate pearson's correlation coefficient with confidence intervals, coefficiet of determination and p value\n",
    "r , lcl, ucl , r2, p = corr_pearson(vent_pars_CO2_SIPPV['VTemand_kg'], vent_pars_CO2_SIPPV['pCO2'])\n",
    "\n",
    "# print the equation on the graph area \n",
    "text = 'y=%.2fx+(%.2f)\\nr=%.2f (%.2f , %.2f)\\np=%.4f' % (result[0], result[1], r, lcl, ucl, p)\n",
    "ax[1,0].text(0.5 , 6 ,  text, color = 'black', style='normal', fontsize = 11, \n",
    "         bbox={'facecolor':'white', 'edgecolor':'black', 'alpha':1, 'pad':10})\n",
    "\n",
    "\n",
    "# Supplementary Figure 3D\n",
    "\n",
    "i = 0\n",
    "for index, group in vent_pars_CO2.groupby('Ventilator_mode'):\n",
    "    if index == 'SIPPV':\n",
    "        x = group['MV_kg']\n",
    "        y = group['pCO2']\n",
    "        ax[1,1].scatter(x, y, color = 'b', marker = 'd', s = 30, label = index)\n",
    "        i += 1\n",
    "    \n",
    "ax[1,1].set_xlim([0, 0.6])\n",
    "ax[1,1].set_ylim([0, 120])\n",
    "ax[1,1].set_ylabel(r'pCO$_2$ (mmHg)', fontsize  = 14)\n",
    "ax[1,1].set_xlabel('MV (L/min/kg)', fontsize  = 14)\n",
    "ax[1,1].tick_params(axis = 'both', labelsize = 14)\n",
    "ax[1,1].set_title('', fontsize = 14)\n",
    "ax[1,1].grid(False)\n",
    "ax[1,1].legend(fontsize = 11)\n",
    "\n",
    "vent_pars_CO2_SIPPV = vent_pars_CO2[vent_pars_CO2['Ventilator_mode'] == 'SIPPV']\n",
    "\n",
    "# Polynomial Coefficients\n",
    "coeffs = np.polyfit(vent_pars_CO2_SIPPV['MV_kg'].values.astype('float'), \n",
    "                    vent_pars_CO2_SIPPV['pCO2'].values.astype('float'), deg = 1)\n",
    "result = coeffs.tolist()\n",
    "result\n",
    "\n",
    "# Fit a trendline\n",
    "l = np.poly1d(coeffs)\n",
    "ax[1,1].plot(x,l(x),'r--')\n",
    "\n",
    "# Calculate pearson's correlation coefficient with confidence intervals, coefficiet of determination and p value\n",
    "r , lcl, ucl , r2, p = corr_pearson(vent_pars_CO2_SIPPV['MV_kg'], vent_pars_CO2_SIPPV['pCO2'])\n",
    "\n",
    "# print the equation on the graph area \n",
    "text = 'y=%.2fx+(%.2f)\\nr=%.2f (%.2f , %.2f)\\np=%.4f' % (result[0], result[1], r, lcl, ucl, p)\n",
    "ax[1,1].text(0.03 , 6 ,  text, color = 'black', style='normal', fontsize = 11, \n",
    "         bbox={'facecolor':'white', 'edgecolor':'black', 'alpha':1, 'pad':10})\n",
    "\n",
    "\n",
    "fig.text(0.04, 0.94, 'A', fontsize = 14); fig.text(0.50, 0.94, 'B', fontsize = 14)\n",
    "fig.text(0.04, 0.48, 'C', fontsize = 14); fig.text(0.50, 0.48, 'D', fontsize = 14)\n",
    "\n",
    "fig.savefig('%s/%s.%s' % (DIR_WRITE, 'Supplementary_Figure_3', filetype),\n",
    "    dpi = dpi, facecolor='w', edgecolor='w', orientation='portrait', papertype=None, format = 'jpg',\n",
    "    transparent=False, bbox_inches='tight', pad_inches=0.1, frameon=True);"
   ]
  },
  {
   "cell_type": "code",
   "execution_count": null,
   "metadata": {},
   "outputs": [],
   "source": [
    "from scipy.stats import pearsonr\n",
    "\n",
    "dpi = 200\n",
    "filetype = 'tiff'\n",
    "\n",
    "bins = [0, 1000, 1500, 2000, 3000, 6500]\n",
    "labels = ['<1000g', '1000-1500g', '1500-2000g', '2000-3000g', '>3000g']\n",
    "\n",
    "colors = ['k', 'r', 'b', 'g', 'm', 'y', 'magenta', 'maroon', 'navy', 'salmon',]\n",
    "markers = 'oDds*<>+.^vphh8'\n",
    "\n",
    "\n",
    "fig, ax = plt.subplots(1,2, figsize = (12, 6), dpi = dpi)\n",
    "fig.subplots_adjust(left=None, bottom=None, right=None, top=None, hspace=0.3, wspace=0.35)\n",
    "\n",
    "# Supplementary Figure 3A\n",
    "\n",
    "i = 0\n",
    "for index, group in vent_pars_CO2.groupby('Ventilator_mode'):\n",
    "\n",
    "    x = group['VTemand_kg']\n",
    "    y = group['pCO2']\n",
    "    ax[0].scatter(x, y, color = colors[i], marker = markers[i], s = 30, label = index)\n",
    "    i += 1\n",
    "    \n",
    "ax[0].set_ylim([0, 120])\n",
    "ax[0].set_ylabel(r'pCO$_2$ (mmHg)', fontsize  = 14)\n",
    "ax[0].set_xlabel('VTe (mL/kg)', fontsize  = 14)\n",
    "ax[0].tick_params(axis = 'both', labelsize = 14)\n",
    "ax[0].set_title('', fontsize = 14)\n",
    "ax[0].grid(False)\n",
    "ax[0].legend(fontsize = 11)\n",
    "\n",
    "# Polynomial Coefficients\n",
    "coeffs = np.polyfit(vent_pars_CO2['VTemand_kg'].values.astype('float'), \n",
    "                    vent_pars_CO2['pCO2'].values.astype('float'), deg = 1)\n",
    "result = coeffs.tolist()\n",
    "\n",
    "# Fit a trendline\n",
    "l = np.poly1d(coeffs)\n",
    "ax[0].plot(x,l(x),'r--')\n",
    "\n",
    "# Calculate pearson's correlation coefficient with confidence intervals, coefficiet of determination and p value\n",
    "r , lcl, ucl , r2, p = corr_pearson(vent_pars_CO2['VTemand_kg'], vent_pars_CO2['pCO2'])\n",
    "\n",
    "# print the equation on the graph area \n",
    "text = 'y=%.2fx+(%.2f)\\nr=%.2f (%.2f , %.2f)\\np=%.4f' % (result[0], result[1], r, lcl, ucl, p)\n",
    "ax[0].text(0.5 , 6 ,  text, color = 'black', style='normal', fontsize = 11, \n",
    "         bbox={'facecolor':'white', 'edgecolor':'black', 'alpha':1, 'pad':10})\n",
    "\n",
    "\n",
    "# Supplementary Figure 3B\n",
    "\n",
    "i = 0\n",
    "for index, group in vent_pars_CO2.groupby('Ventilator_mode'):\n",
    "\n",
    "    x = group['MV_kg']\n",
    "    y = group['pCO2']\n",
    "    ax[1].scatter(x, y, color = colors[i], marker = markers[i], s = 30, label = index)\n",
    "    i += 1\n",
    "    \n",
    "ax[1].set_ylim([0, 120])\n",
    "ax[1].set_ylabel(r'pCO$_2$ (mmHg)', fontsize  = 14)\n",
    "ax[1].set_xlabel('MV (L/min/kg)', fontsize  = 14)\n",
    "ax[1].tick_params(axis = 'both', labelsize = 14)\n",
    "ax[1].set_title('', fontsize = 14)\n",
    "ax[1].grid(False)\n",
    "ax[1].legend(fontsize = 11)\n",
    "\n",
    "# Polynomial Coefficients\n",
    "coeffs = np.polyfit(vent_pars_CO2['MV_kg'].values.astype('float'), \n",
    "                    vent_pars_CO2['pCO2'].values.astype('float'), deg = 1)\n",
    "result = coeffs.tolist()\n",
    "\n",
    "# Fit a trendline\n",
    "l = np.poly1d(coeffs)\n",
    "ax[1].plot(x,l(x),'r--')\n",
    "\n",
    "# Calculate pearson's correlation coefficient with confidence intervals, coefficiet of determination and p value\n",
    "r , lcl, ucl , r2, p = corr_pearson(vent_pars_CO2['MV_kg'], vent_pars_CO2['pCO2'])\n",
    "\n",
    "# print the equation on the graph area \n",
    "text = 'y=%.2fx+(%.2f)\\nr=%.2f (%.2f , %.2f)\\np=%.4f' % (result[0], result[1], r, lcl, ucl, p)\n",
    "ax[1].text(0.03 , 6 ,  text, color = 'black', style='normal', fontsize = 11, \n",
    "         bbox={'facecolor':'white', 'edgecolor':'black', 'alpha':1, 'pad':10})\n",
    "\n",
    "\n",
    "fig.text(0.04, 0.94, 'A', fontsize = 14); fig.text(0.50, 0.94, 'B', fontsize = 14)\n",
    "\n",
    "\n",
    "fig.savefig('%s/%s.%s' % (DIR_WRITE, 'Supplementary_Figure_3', filetype),\n",
    "    dpi = dpi, facecolor='w', edgecolor='w', orientation='portrait', papertype=None, format = filetype,\n",
    "    transparent=False, bbox_inches='tight', pad_inches=0.1, frameon=True);"
   ]
  },
  {
   "cell_type": "markdown",
   "metadata": {},
   "source": [
    "### Supplementary Figure 4"
   ]
  },
  {
   "cell_type": "markdown",
   "metadata": {},
   "source": [
    "#### Supplementary Figure 4A"
   ]
  },
  {
   "cell_type": "code",
   "execution_count": null,
   "metadata": {},
   "outputs": [],
   "source": [
    "from scipy.stats import pearsonr\n",
    "dpi = 300\n",
    "filetype = 'jpg'\n",
    "bins = [0, 1000, 1500, 2000, 3000, 6500]\n",
    "labels = ['<1000g', '1000-1500g', '1500-2000g', '2000-3000g', '>3000g']\n",
    "\n",
    "colors = ['k', 'r', 'b', 'g', 'm', 'y', 'magenta', 'maroon', 'navy', 'salmon',]\n",
    "markers = 'oDds*<>+.^vphh8'\n",
    "\n",
    "fig = plt.figure()\n",
    "fig.set_size_inches(8, 8)\n",
    "fig.subplots_adjust(left=None, bottom=None, right=None, top=None, wspace=None, hspace=0.7)\n",
    "fig.add_subplot(1,1,1);\n",
    "\n",
    "i = 0\n",
    "for index, group in vent_pars_CO2.groupby(pd.cut(vent_pars_CO2['Weight'], bins = bins, right = False)):\n",
    "\n",
    "    x = group['VG_set_kg']\n",
    "    y = group['pCO2']\n",
    "    plt.scatter(x, y, color = colors[i], marker = markers[i], s = 30, label = labels[i])\n",
    "    i += 1\n",
    "\n",
    "plt.xlim([0, 9])    \n",
    "plt.ylim([0, 120])\n",
    "plt.ylabel(r'pCO$_2$ (mmHg)', fontsize  = 14)\n",
    "plt.xlabel('VTset (mL/kg)', fontsize  = 14)\n",
    "plt.tick_params(axis = 'both', labelsize = 14)\n",
    "plt.title('', fontsize = 14)\n",
    "plt.grid(False)\n",
    "plt.legend()\n",
    "\n",
    "# Polynomial Coefficients\n",
    "coeffs = np.polyfit(vent_pars_CO2['VG_set_kg'].values.astype('float'), \n",
    "                    vent_pars_CO2['pCO2'].values.astype('float'), deg = 1)\n",
    "result = coeffs.tolist()\n",
    "result\n",
    "\n",
    "# Fit a trendline\n",
    "l = np.poly1d(coeffs)\n",
    "plt.plot(x,l(x),'r--')\n",
    "\n",
    "# Calculate pearson's correlation coefficient with confidence intervals, coefficiet of determination and p value\n",
    "r , lcl, ucl , r2, p = corr_pearson(vent_pars_CO2['VG_set_kg'], vent_pars_CO2['pCO2'])\n",
    "\n",
    "# print the equation on the graph area \n",
    "text = 'y=%.2fx+(%.2f)\\nr=%.2f (%.2f , %.2f)\\np=%.4f' % (result[0], result[1], r, lcl, ucl, p)\n",
    "plt.text(0.3 , 5 ,  text, color = 'black', style='normal', fontsize = 14, \n",
    "         bbox={'facecolor':'white', 'edgecolor':'black', 'alpha':1, 'pad':10})\n",
    "\n",
    "fig.savefig('%s/%s.%s' % (DIR_WRITE, 'Supplementary_Figure_4A',  filetype), \n",
    "            dpi = dpi, facecolor='w', edgecolor='w',\n",
    "            orientation='portrait', papertype=None, format = filetype,\n",
    "            transparent=False, bbox_inches='tight', pad_inches=0.1, frameon=True);"
   ]
  },
  {
   "cell_type": "markdown",
   "metadata": {},
   "source": [
    "#### Supplementary Figure 4B"
   ]
  },
  {
   "cell_type": "code",
   "execution_count": null,
   "metadata": {},
   "outputs": [],
   "source": [
    "from scipy.stats import pearsonr\n",
    "dpi = 300\n",
    "filetype = 'jpg'\n",
    "bins = [0, 1000, 1500, 2000, 3000, 6500]\n",
    "labels = ['<1000g', '1000-1500g', '1500-2000g', '2000-3000g', '>3000g']\n",
    "\n",
    "colors = ['k', 'r', 'b', 'g', 'm', 'y', 'magenta', 'maroon', 'navy', 'salmon',]\n",
    "markers = 'oDds*<>+.^vphh8'\n",
    "\n",
    "fig = plt.figure()\n",
    "fig.set_size_inches(8, 8)\n",
    "fig.subplots_adjust(left=None, bottom=None, right=None, top=None, wspace=None, hspace=0.7)\n",
    "fig.add_subplot(1,1,1);\n",
    "\n",
    "i = 0\n",
    "for index, group in vent_pars_CO2.groupby('Ventilator_mode'):\n",
    "\n",
    "    x = group['VG_set_kg']\n",
    "    y = group['pCO2']\n",
    "    plt.scatter(x, y, color = colors[i], marker = markers[i], s = 30, label = index)\n",
    "    i += 1\n",
    "    \n",
    "plt.xlim([0, 9])\n",
    "plt.ylim([0, 120])\n",
    "plt.ylabel(r'pCO$_2$ (mmHg)', fontsize  = 14)\n",
    "plt.xlabel('VTset (mL/kg)', fontsize  = 14)\n",
    "plt.tick_params(axis = 'both', labelsize = 14)\n",
    "plt.title('VTset - pCO$_2$', fontsize = 14)\n",
    "plt.grid(False)\n",
    "plt.legend()\n",
    "\n",
    "# Polynomial Coefficients\n",
    "coeffs = np.polyfit(vent_pars_CO2['VG_set_kg'].values.astype('float'), \n",
    "                    vent_pars_CO2['pCO2'].values.astype('float'), deg = 1)\n",
    "result = coeffs.tolist()\n",
    "result\n",
    "\n",
    "# Fit a trendline\n",
    "l = np.poly1d(coeffs)\n",
    "plt.plot(x,l(x),'r--')\n",
    "\n",
    "# Calculate pearson's correlation coefficient with confidence intervals, coefficiet of determination and p value\n",
    "r , lcl, ucl , r2, p = corr_pearson(vent_pars_CO2['VG_set_kg'], vent_pars_CO2['pCO2'])\n",
    "\n",
    "# print the equation on the graph area \n",
    "text = 'y=%.2fx+(%.2f)\\nr=%.2f (%.2f , %.2f)\\np=%.4f' % (result[0], result[1], r, lcl, ucl, p)\n",
    "plt.text(0.3 , 5 ,  text, color = 'black', style='normal', fontsize = 14, \n",
    "         bbox={'facecolor':'white', 'edgecolor':'black', 'alpha':1, 'pad':10})\n",
    "\n",
    "fig.savefig('%s/%s.%s' % (DIR_WRITE, 'Supplementary_Figure_4B',  filetype), \n",
    "            dpi = dpi, facecolor='w', edgecolor='w',\n",
    "            orientation='portrait', papertype=None, format = filetype,\n",
    "            transparent=False, bbox_inches='tight', pad_inches=0.1, frameon=True);"
   ]
  },
  {
   "cell_type": "markdown",
   "metadata": {},
   "source": [
    "#### Supplementary Figure 4 combined"
   ]
  },
  {
   "cell_type": "code",
   "execution_count": null,
   "metadata": {
    "scrolled": false
   },
   "outputs": [],
   "source": [
    "from scipy.stats import pearsonr\n",
    "\n",
    "dpi = 200\n",
    "filetype = 'tiff'\n",
    "\n",
    "bins = [0, 1000, 1500, 2000, 3000, 6500]\n",
    "labels = ['<1000g', '1000-1500g', '1500-2000g', '2000-3000g', '>3000g']\n",
    "\n",
    "colors = ['k', 'r', 'b', 'g', 'm', 'y', 'magenta', 'maroon', 'navy', 'salmon',]\n",
    "markers = 'oDds*<>+.^vphh8'\n",
    "\n",
    "\n",
    "fig, ax = plt.subplots(1, 2, figsize = (12, 5), dpi = dpi)\n",
    "fig.subplots_adjust(left=None, bottom=None, right=None, top=None, hspace=0.3, wspace=0.35)\n",
    "\n",
    "# Supplementary Figure 4A \n",
    "\n",
    "i = 0\n",
    "for index, group in vent_pars_CO2.groupby(pd.cut(vent_pars_CO2['Weight'], bins = bins, right = False)):\n",
    "\n",
    "    x = group['VG_set_kg']\n",
    "    y = group['pCO2']\n",
    "    ax[0].scatter(x, y, color = colors[i], marker = markers[i], s = 30, label = labels[i])\n",
    "    i += 1\n",
    "\n",
    "ax[0].set_xlim([0, 9])    \n",
    "ax[0].set_ylim([0, 120])\n",
    "ax[0].set_ylabel(r'pCO$_2$ (mmHg)', fontsize  = 14)\n",
    "ax[0].set_xlabel('VTset (mL/kg)', fontsize  = 14)\n",
    "ax[0].tick_params(axis = 'both', labelsize = 14)\n",
    "ax[0].set_title('', fontsize = 14)\n",
    "ax[0].grid(False)\n",
    "ax[0].legend(fontsize = 11)\n",
    "\n",
    "# Polynomial Coefficients\n",
    "coeffs = np.polyfit(vent_pars_CO2['VG_set_kg'].values.astype('float'), \n",
    "                    vent_pars_CO2['pCO2'].values.astype('float'), deg = 1)\n",
    "result = coeffs.tolist()\n",
    "result\n",
    "\n",
    "# Fit a trendline\n",
    "l = np.poly1d(coeffs)\n",
    "ax[0].plot(x,l(x),'r--')\n",
    "\n",
    "# Calculate pearson's correlation coefficient with confidence intervals, coefficiet of determination and p value\n",
    "r , lcl, ucl , r2, p = corr_pearson(vent_pars_CO2['VG_set_kg'], vent_pars_CO2['pCO2'])\n",
    "\n",
    "# print the equation on the graph area \n",
    "text = 'y=%.2fx+(%.2f)\\nr=%.2f (%.2f , %.2f)\\np=%.4f' % (result[0], result[1], r, lcl, ucl, p)\n",
    "ax[0].text(0.4 , 6 ,  text, color = 'black', style='normal', fontsize = 11, \n",
    "         bbox={'facecolor':'white', 'edgecolor':'black', 'alpha':1, 'pad':10})\n",
    "\n",
    "\n",
    "# Supplementary Figure 4B\n",
    "\n",
    "i = 0\n",
    "for index, group in vent_pars_CO2.groupby('Ventilator_mode'):\n",
    "\n",
    "    x = group['VG_set_kg']\n",
    "    y = group['pCO2']\n",
    "    ax[1].scatter(x, y, color = colors[i], marker = markers[i], s = 30, label = index)\n",
    "    i += 1\n",
    "    \n",
    "ax[1].set_xlim([0, 9])\n",
    "ax[1].set_ylim([0, 120])\n",
    "ax[1].set_ylabel(r'pCO$_2$ (mmHg)', fontsize  = 14)\n",
    "ax[1].set_xlabel('VTset (mL/kg)', fontsize  = 14)\n",
    "ax[1].tick_params(axis = 'both', labelsize = 14)\n",
    "ax[1].set_title('', fontsize = 14)\n",
    "ax[1].grid(False)\n",
    "ax[1].legend(fontsize = 11)\n",
    "\n",
    "# Polynomial Coefficients\n",
    "coeffs = np.polyfit(vent_pars_CO2['VG_set_kg'].values.astype('float'), \n",
    "                    vent_pars_CO2['pCO2'].values.astype('float'), deg = 1)\n",
    "result = coeffs.tolist()\n",
    "result\n",
    "\n",
    "# Fit a trendline\n",
    "l = np.poly1d(coeffs)\n",
    "ax[1].plot(x,l(x),'r--')\n",
    "\n",
    "# Calculate pearson's correlation coefficient with confidence intervals, coefficiet of determination and p value\n",
    "r , lcl, ucl , r2, p = corr_pearson(vent_pars_CO2['VG_set_kg'], vent_pars_CO2['pCO2'])\n",
    "\n",
    "# print the equation on the graph area \n",
    "text = 'y=%.2fx+(%.2f)\\nr=%.2f (%.2f , %.2f)\\np=%.4f' % (result[0], result[1], r, lcl, ucl, p)\n",
    "ax[1].text(0.4 , 6 ,  text, color = 'black', style='normal', fontsize = 11, \n",
    "         bbox={'facecolor':'white', 'edgecolor':'black', 'alpha':1, 'pad':10})\n",
    "\n",
    "\n",
    "fig.text(0.04, 0.96, 'A', fontsize = 14); fig.text(0.50, 0.96, 'B', fontsize = 14)\n",
    "\n",
    "fig.savefig('%s/%s.%s' % (DIR_WRITE, 'Supplementary_Figure_4', filetype),\n",
    "    dpi = dpi, facecolor='w', edgecolor='w', orientation='portrait', papertype=None, format = filetype,\n",
    "    transparent=False, bbox_inches='tight', pad_inches=0.1, frameon=True);"
   ]
  }
 ],
 "metadata": {
  "anaconda-cloud": {},
  "kernelspec": {
   "display_name": "Python 3",
   "language": "python",
   "name": "python3"
  },
  "language_info": {
   "codemirror_mode": {
    "name": "ipython",
    "version": 3
   },
   "file_extension": ".py",
   "mimetype": "text/x-python",
   "name": "python",
   "nbconvert_exporter": "python",
   "pygments_lexer": "ipython3",
   "version": "3.7.1"
  }
 },
 "nbformat": 4,
 "nbformat_minor": 2
}
